{
 "cells": [
  {
   "cell_type": "markdown",
   "id": "d037058a-8828-470d-ad11-20191e5a7d13",
   "metadata": {},
   "source": [
    "# 🏷️ Part 1.2 – Categorizing Job Titles Using Supervised Learning\n",
    "\n",
    "**Author:** Yu Kyung Koh  \n",
    "**Last Updated:** July 5, 2025\n",
    "\n",
    "---\n",
    "\n",
    "### 🎯 Objective\n",
    "\n",
    "* This notebook applies **supervised machine learning** methods—including logistic regression and multinomial Naive Bayes—to classify job titles into occupational categories.  \n",
    "* In supervised learning, a model is trained on labeled examples (in this case, job titles with known categories) to learn patterns that can generalize to new, unseen titles.\n",
    "* This approach is useful when manually labeled data is available and when scalable, automated classification is needed across large job posting datasets.\n",
    "* Note that job category labels are known by design, as they were assigned during the LLM-based generation of synthetic job postings ([details here](https://github.com/yukyungkoh/job-postings-data-project/tree/main/0_generate-synthetic-job-postings)). For testing, we treat the categories as unknown and evaluate model predictions.\n",
    "* **Caution:**\n",
    "  * Since the data used in this notebook is synthetic, the supervised machine learning methods lead to **almost perfect** classification, as shown below.\n",
    "  * This does **not** reflect performance on real job postings, where the model may not perform as well due to inherent noise and variability in real-world data.\n",
    "  * While model comparison is difficult using the synthetic data as shown below, with real data, comparing model evaluation metrics shown here would help users guide which model performs better.\n",
    "---\n",
    "\n",
    "### 🗂️ Outline\n",
    "\n",
    "- **Section 1:** Prepare the job posting data  \n",
    "- **Section 2:** Train-test split  \n",
    "- **Section 3:** Feature extraction using TF-IDF  \n",
    "- **Section 4:** Method 1: Logistic regression  \n",
    "- **Section 5:** Method 2: Multinomial Naive Bayes\n"
   ]
  },
  {
   "cell_type": "markdown",
   "id": "8fcf4a30-c074-480f-bd52-a14fa50a0650",
   "metadata": {},
   "source": [
    "---\n",
    "## SECTION 1: Prepare the job posting data"
   ]
  },
  {
   "cell_type": "code",
   "execution_count": 3,
   "id": "60407a75-6cdc-4f55-aeb0-0178ff089664",
   "metadata": {},
   "outputs": [],
   "source": [
    "import pandas as pd\n",
    "import numpy as np\n",
    "import os\n",
    "import re\n",
    "from sklearn.preprocessing import LabelEncoder"
   ]
  },
  {
   "cell_type": "code",
   "execution_count": 4,
   "id": "b4448a51-fda5-4e74-80e0-b7a176a1b53e",
   "metadata": {},
   "outputs": [
    {
     "data": {
      "text/html": [
       "<div>\n",
       "<style scoped>\n",
       "    .dataframe tbody tr th:only-of-type {\n",
       "        vertical-align: middle;\n",
       "    }\n",
       "\n",
       "    .dataframe tbody tr th {\n",
       "        vertical-align: top;\n",
       "    }\n",
       "\n",
       "    .dataframe thead th {\n",
       "        text-align: right;\n",
       "    }\n",
       "</style>\n",
       "<table border=\"1\" class=\"dataframe\">\n",
       "  <thead>\n",
       "    <tr style=\"text-align: right;\">\n",
       "      <th></th>\n",
       "      <th>job_title</th>\n",
       "      <th>posting_text</th>\n",
       "      <th>sector</th>\n",
       "    </tr>\n",
       "  </thead>\n",
       "  <tbody>\n",
       "    <tr>\n",
       "      <th>0</th>\n",
       "      <td>Educational Program Coordinator</td>\n",
       "      <td>We are seeking an enthusiastic Educational Pro...</td>\n",
       "      <td>education</td>\n",
       "    </tr>\n",
       "    <tr>\n",
       "      <th>1</th>\n",
       "      <td>Healthcare Data Analyst</td>\n",
       "      <td>We are seeking a detail-oriented Healthcare Da...</td>\n",
       "      <td>healthcare</td>\n",
       "    </tr>\n",
       "    <tr>\n",
       "      <th>2</th>\n",
       "      <td>Strategic Operations Consultant</td>\n",
       "      <td>**Location:** Hybrid (New York, NY)  \\n**Salar...</td>\n",
       "      <td>consulting</td>\n",
       "    </tr>\n",
       "    <tr>\n",
       "      <th>3</th>\n",
       "      <td>Financial Operations Specialist</td>\n",
       "      <td>**Location:** Hybrid (New York City, NY)  \\n**...</td>\n",
       "      <td>finance</td>\n",
       "    </tr>\n",
       "    <tr>\n",
       "      <th>4</th>\n",
       "      <td>Marketing Data Analyst</td>\n",
       "      <td>We are seeking a detail-oriented Marketing Dat...</td>\n",
       "      <td>marketing</td>\n",
       "    </tr>\n",
       "  </tbody>\n",
       "</table>\n",
       "</div>"
      ],
      "text/plain": [
       "                         job_title  \\\n",
       "0  Educational Program Coordinator   \n",
       "1          Healthcare Data Analyst   \n",
       "2  Strategic Operations Consultant   \n",
       "3  Financial Operations Specialist   \n",
       "4           Marketing Data Analyst   \n",
       "\n",
       "                                        posting_text      sector  \n",
       "0  We are seeking an enthusiastic Educational Pro...   education  \n",
       "1  We are seeking a detail-oriented Healthcare Da...  healthcare  \n",
       "2  **Location:** Hybrid (New York, NY)  \\n**Salar...  consulting  \n",
       "3  **Location:** Hybrid (New York City, NY)  \\n**...     finance  \n",
       "4  We are seeking a detail-oriented Marketing Dat...   marketing  "
      ]
     },
     "execution_count": 4,
     "metadata": {},
     "output_type": "execute_result"
    }
   ],
   "source": [
    "## 1. Import cleaned data from code 1-1\n",
    "datadir = '../data/'\n",
    "jobposting_file = os.path.join(datadir, 'synthetic_job_postings_combined.csv')\n",
    "\n",
    "posting_df = pd.read_csv(jobposting_file)\n",
    "\n",
    "posting_df.head() "
   ]
  },
  {
   "cell_type": "code",
   "execution_count": 5,
   "id": "50a7d74e-9e2e-4d27-8979-3789ec73f87a",
   "metadata": {},
   "outputs": [
    {
     "data": {
      "text/plain": [
       "(7877, 3)"
      ]
     },
     "execution_count": 5,
     "metadata": {},
     "output_type": "execute_result"
    }
   ],
   "source": [
    "posting_df.shape"
   ]
  },
  {
   "cell_type": "code",
   "execution_count": 6,
   "id": "f0e80d60-338d-49b0-9004-fdf0e9669bee",
   "metadata": {},
   "outputs": [],
   "source": [
    "## 2. Rename \"sector\" as \"true_category\"\n",
    "posting_df.rename(columns={'sector': 'true_category'}, inplace=True)"
   ]
  },
  {
   "cell_type": "code",
   "execution_count": 7,
   "id": "ad3208c0-6ea6-47b3-bc88-23a3787d6644",
   "metadata": {},
   "outputs": [
    {
     "name": "stdout",
     "output_type": "stream",
     "text": [
      "                         job_title  \\\n",
      "0  Educational Program Coordinator   \n",
      "1          Healthcare Data Analyst   \n",
      "2  Strategic Operations Consultant   \n",
      "3  Financial Operations Specialist   \n",
      "4           Marketing Data Analyst   \n",
      "\n",
      "                                        posting_text true_category  \\\n",
      "0  We are seeking an enthusiastic Educational Pro...     education   \n",
      "1  We are seeking a detail-oriented Healthcare Da...    healthcare   \n",
      "2  **Location:** Hybrid (New York, NY)  \\n**Salar...    consulting   \n",
      "3  **Location:** Hybrid (New York City, NY)  \\n**...       finance   \n",
      "4  We are seeking a detail-oriented Marketing Dat...     marketing   \n",
      "\n",
      "   category_encoded  \n",
      "0                 2  \n",
      "1                 4  \n",
      "2                 0  \n",
      "3                 3  \n",
      "4                 6  \n"
     ]
    }
   ],
   "source": [
    "## 3. Encode target labels\n",
    "#  => This converts the category labels from text to numeric form, which is required by most scikit-learn models \n",
    "\n",
    "le = LabelEncoder()\n",
    "posting_df['category_encoded'] = le.fit_transform(posting_df['true_category'])\n",
    "print(posting_df.head())"
   ]
  },
  {
   "cell_type": "code",
   "execution_count": 8,
   "id": "e8662f18-b7b7-4fc6-8c14-ddeb9a767e3f",
   "metadata": {},
   "outputs": [
    {
     "name": "stdout",
     "output_type": "stream",
     "text": [
      "category_encoded\n",
      "1     784\n",
      "2     744\n",
      "9     738\n",
      "7     730\n",
      "10    706\n",
      "8     705\n",
      "3     704\n",
      "4     696\n",
      "0     696\n",
      "6     688\n",
      "5     686\n",
      "Name: count, dtype: int64\n"
     ]
    }
   ],
   "source": [
    "## 4. Preview how many job postings are in each category\n",
    "print(posting_df[\"category_encoded\"].value_counts())"
   ]
  },
  {
   "cell_type": "code",
   "execution_count": 9,
   "id": "132b87ae-fb80-4254-8915-869c5ab062a5",
   "metadata": {},
   "outputs": [],
   "source": [
    "## 5. Combine job title and job description \n",
    "\n",
    "posting_df['all_text'] = posting_df['job_title'].fillna('') + ' ' + posting_df['posting_text'].fillna('')"
   ]
  },
  {
   "cell_type": "code",
   "execution_count": 10,
   "id": "b999de24-cfca-4cec-a798-a199b79551eb",
   "metadata": {},
   "outputs": [],
   "source": [
    "## 6. Remove numbers and special characters \n",
    "\n",
    "def clean_text(text):\n",
    "    text = re.sub(r'\\d+', '', text)               # Remove digits\n",
    "    text = re.sub(r'[^\\w\\s]', '', text)           # Remove special characters (keep only letters, numbers, spaces)\n",
    "    text = re.sub(r'\\s+', ' ', text)              # Collapse multiple spaces\n",
    "    return text.strip()\n",
    "\n",
    "posting_df['all_text'] = posting_df['all_text'].apply(clean_text)"
   ]
  },
  {
   "cell_type": "markdown",
   "id": "f21cb5ad-9fda-4111-8d49-0725c76bf2ee",
   "metadata": {},
   "source": [
    "---\n",
    "## SECTION 2: Train-test split\n",
    "\n",
    "* In this section, I split the dataset into training and test sets for supervised learning.  \n",
    "* The `all_text` column -- containing job title and description -- is used as the input feature, and the `category_encoded` column serves as the target variable.  \n",
    "* I use stratified sampling to ensure that the distribution of job categories is preserved across both the training and test sets.\n"
   ]
  },
  {
   "cell_type": "code",
   "execution_count": 12,
   "id": "16929824-3199-4651-9fca-794f5208b311",
   "metadata": {},
   "outputs": [],
   "source": [
    "from sklearn.model_selection import train_test_split\n",
    "\n",
    "X_train, X_test, y_train, y_test = train_test_split(\n",
    "    posting_df['all_text'], \n",
    "    posting_df['category_encoded'], \n",
    "    test_size=0.5, \n",
    "    random_state=42, \n",
    "    stratify=posting_df['category_encoded']\n",
    ")"
   ]
  },
  {
   "cell_type": "code",
   "execution_count": 13,
   "id": "4767c8cc-262c-4624-9fdb-ef8e5668f53d",
   "metadata": {},
   "outputs": [
    {
     "data": {
      "text/plain": [
       "5726    Senior Business Strategy Consultant We are see...\n",
       "3837    Community Outreach Coordinator Are you passion...\n",
       "1938    Marketing Consultant We are seeking a dynamic ...\n",
       "6564    Junior Paralegal We are looking for an enthusi...\n",
       "7429    Educational Program Coordinator We are seeking...\n",
       "                              ...                        \n",
       "1527    Retail Operations Specialist Are you passionat...\n",
       "5034    Educational Program Coordinator We are looking...\n",
       "1813    Community Engagement Coordinator The City of S...\n",
       "6306    Retail Operations Coordinator We are looking f...\n",
       "5090    Learning Experience Designer We are looking fo...\n",
       "Name: all_text, Length: 3938, dtype: object"
      ]
     },
     "execution_count": 13,
     "metadata": {},
     "output_type": "execute_result"
    }
   ],
   "source": [
    "X_train ## Contains \"all_text\" (variable used for prediction)"
   ]
  },
  {
   "cell_type": "code",
   "execution_count": 14,
   "id": "99c04093-fd13-44c7-b93b-a5f15cfdec52",
   "metadata": {},
   "outputs": [
    {
     "data": {
      "text/plain": [
       "3938"
      ]
     },
     "execution_count": 14,
     "metadata": {},
     "output_type": "execute_result"
    }
   ],
   "source": [
    "len(X_train)"
   ]
  },
  {
   "cell_type": "code",
   "execution_count": 15,
   "id": "85479b89-619b-40b2-99ac-3e941888e142",
   "metadata": {},
   "outputs": [
    {
     "data": {
      "text/plain": [
       "(7877, 5)"
      ]
     },
     "execution_count": 15,
     "metadata": {},
     "output_type": "execute_result"
    }
   ],
   "source": [
    "posting_df.shape"
   ]
  },
  {
   "cell_type": "code",
   "execution_count": 16,
   "id": "95e07415-fbfb-492a-bbee-33e34c24d101",
   "metadata": {},
   "outputs": [
    {
     "data": {
      "text/plain": [
       "5726    0\n",
       "3837    7\n",
       "1938    0\n",
       "6564    5\n",
       "7429    2\n",
       "       ..\n",
       "1527    8\n",
       "5034    2\n",
       "1813    7\n",
       "6306    8\n",
       "5090    2\n",
       "Name: category_encoded, Length: 3938, dtype: int64"
      ]
     },
     "execution_count": 16,
     "metadata": {},
     "output_type": "execute_result"
    }
   ],
   "source": [
    "y_train ## Contains \"category_encoded\" (variable to be predicted)"
   ]
  },
  {
   "cell_type": "markdown",
   "id": "2fe2fc76-d93e-4f08-8045-4c267f27d9b1",
   "metadata": {},
   "source": [
    "---\n",
    "## SECTION 3: Feature extraction (TF-IDF)\n",
    "\n",
    "### 🔷 What is TF-IDF?\n",
    "\n",
    "TF-IDF (Term Frequency–Inverse Document Frequency) is a widely used technique in text analysis that converts text into **numerical** features based on word importance.\n",
    "\n",
    "Most machine learning algorithms -- including logistic regression, Naive Bayes, and SVM -- cannot directly work with raw text.  \n",
    "Instead, the text must first be converted into a **numerical representation** that captures the relevant features of the input.  \n",
    "TF-IDF is one of the most commonly used methods for this purpose in text classification tasks.\n",
    "\n",
    "\n",
    "- **Term Frequency (TF):** Measures how often a word appears in a document.\n",
    "- **Inverse Document Frequency (IDF):** Downweights words that appear frequently across all documents (e.g., \"and\", \"the\").\n",
    "\n",
    "A high TF-IDF score means the word is frequent in a specific document but rare across the corpus — making it useful for distinguishing meaning. For example, the term \"data scientist\" might appear frequently in one job posting but rarely in others, giving it a high TF-IDF score and making it a strong signal for classification.\n",
    "\n",
    "\n",
    "\n",
    "### 🔷 What I'm doing here\n",
    "\n",
    "In this step, I use `TfidfVectorizer` from `scikit-learn` to transform the input job text (`all_text`) into a matrix of numerical features for model training.\n",
    "\n",
    "- I extract both **unigrams and bigrams** (`ngram_range=(1, 2)`) as features.\n",
    "- I set `max_features=2000` to retain the top 2000 most informative tokens.\n",
    "- I apply this transformation separately to the training and test sets, using `.fit_transform()` for training data and `.transform()` for test data.\n"
   ]
  },
  {
   "cell_type": "code",
   "execution_count": 18,
   "id": "afd30905-9db4-43ad-b1d8-c47dc230695a",
   "metadata": {},
   "outputs": [],
   "source": [
    "from sklearn.feature_extraction.text import TfidfVectorizer\n",
    "\n",
    "tfidf = TfidfVectorizer(\n",
    "    max_features=500,\n",
    "    stop_words='english',\n",
    "    ngram_range=(1, 2),\n",
    "    lowercase=True  # default behavior, included for clarity\n",
    ")\n",
    "X_train_tfidf = tfidf.fit_transform(X_train)\n",
    "X_test_tfidf = tfidf.transform(X_test)"
   ]
  },
  {
   "cell_type": "code",
   "execution_count": 19,
   "id": "8959dcfb-4abf-4783-97a9-1ba4acd86649",
   "metadata": {},
   "outputs": [
    {
     "data": {
      "text/plain": [
       "<Compressed Sparse Row sparse matrix of dtype 'float64'\n",
       "\twith 371721 stored elements and shape (3938, 500)>"
      ]
     },
     "execution_count": 19,
     "metadata": {},
     "output_type": "execute_result"
    }
   ],
   "source": [
    "X_train_tfidf  ## Each row = job posting, Each column = unigram or bigram "
   ]
  },
  {
   "cell_type": "code",
   "execution_count": 20,
   "id": "bf3fa995-4918-4cea-af4e-11313e6d1d08",
   "metadata": {},
   "outputs": [
    {
     "data": {
      "text/plain": [
       "<Compressed Sparse Row sparse matrix of dtype 'float64'\n",
       "\twith 374188 stored elements and shape (3939, 500)>"
      ]
     },
     "execution_count": 20,
     "metadata": {},
     "output_type": "execute_result"
    }
   ],
   "source": [
    "X_test_tfidf"
   ]
  },
  {
   "cell_type": "code",
   "execution_count": 54,
   "id": "cb473c9d-db5d-4c94-9430-27e1e8401364",
   "metadata": {},
   "outputs": [],
   "source": [
    "feature_names = tfidf.get_feature_names_out()\n",
    "#print(feature_names) => View the top 500 unigrams/bigrams selected by TF-IDF"
   ]
  },
  {
   "cell_type": "markdown",
   "id": "ce16aa18-1ab1-44ec-89ea-fb18df383a70",
   "metadata": {},
   "source": [
    "---\n",
    "## SECTION 4: Logistic regression \n",
    "\n",
    "Logistic regression is a simple method for classification tasks. It models the probability that an input belongs to a particular class.\n",
    "\n",
    "* In this case, it learns the relationship between the **TF-IDF features** (word frequencies) and **job categories.**\n",
    "* The model assigns weights to each word (unigram or bigram), effectively learning which terms are **most predictive** of each job category.\n",
    "* We use multinomial logistic regression since we have more than two job categories."
   ]
  },
  {
   "cell_type": "code",
   "execution_count": 23,
   "id": "59f73eb6-be22-4b59-bd1d-8b0b815c13d9",
   "metadata": {},
   "outputs": [
    {
     "name": "stdout",
     "output_type": "stream",
     "text": [
      "🔹 Logistic Regression Results:\n",
      "                      precision    recall  f1-score   support\n",
      "\n",
      "          consulting       1.00      1.00      1.00       348\n",
      "        data science       1.00      1.00      1.00       392\n",
      "           education       1.00      0.99      1.00       372\n",
      "             finance       1.00      1.00      1.00       352\n",
      "          healthcare       1.00      1.00      1.00       348\n",
      "               legal       1.00      1.00      1.00       343\n",
      "           marketing       1.00      1.00      1.00       344\n",
      "       public sector       0.99      1.00      1.00       365\n",
      "              retail       1.00      1.00      1.00       353\n",
      "               sales       1.00      1.00      1.00       369\n",
      "software engineering       1.00      1.00      1.00       353\n",
      "\n",
      "            accuracy                           1.00      3939\n",
      "           macro avg       1.00      1.00      1.00      3939\n",
      "        weighted avg       1.00      1.00      1.00      3939\n",
      "\n"
     ]
    }
   ],
   "source": [
    "from sklearn.linear_model import LogisticRegression\n",
    "from sklearn.metrics import classification_report\n",
    "\n",
    "lr_model = LogisticRegression(max_iter=1000)\n",
    "lr_model.fit(X_train_tfidf, y_train)   ## Training the logistic regression model using the train data \n",
    "    ## => Essentially doing a multinomial logistic regression\n",
    "    ##    where Y-var is the job category \n",
    "    ##    and x_i is the TF-IDF score of a specific unigram or bigram \n",
    "    ##    Fitting 2000 coefficients \n",
    "y_pred_lr = lr_model.predict(X_test_tfidf)  ## Testing the model on the test data \n",
    "\n",
    "print(\"🔹 Logistic Regression Results:\")\n",
    "print(classification_report(y_test, y_pred_lr, target_names=le.classes_))"
   ]
  },
  {
   "cell_type": "code",
   "execution_count": 24,
   "id": "0763cdca-96a1-4562-b20e-ef8aeebe10e4",
   "metadata": {},
   "outputs": [
    {
     "data": {
      "text/plain": [
       "array([ 5, 10,  9, ...,  3,  5,  1])"
      ]
     },
     "execution_count": 24,
     "metadata": {},
     "output_type": "execute_result"
    }
   ],
   "source": [
    "y_pred_lr"
   ]
  },
  {
   "cell_type": "code",
   "execution_count": 25,
   "id": "a2f78a75-9a5b-4bf8-ba16-6f588e64247a",
   "metadata": {},
   "outputs": [
    {
     "name": "stdout",
     "output_type": "stream",
     "text": [
      "                                               all_text     original_category  \\\n",
      "1805  Legal Compliance Specialist We are seeking a L...                 legal   \n",
      "4327  Junior Full Stack Developer Join our dynamic t...  software engineering   \n",
      "4941  Sales Development Representative Join our dyna...                 sales   \n",
      "3160  Retail Operations Coordinator Join our dynamic...                retail   \n",
      "6188  Growth Marketing Specialist We are seeking a p...             marketing   \n",
      "\n",
      "        job_category_logit  \n",
      "1805                 legal  \n",
      "4327  software engineering  \n",
      "4941                 sales  \n",
      "3160                retail  \n",
      "6188             marketing  \n"
     ]
    }
   ],
   "source": [
    "## Assign the predicted job categories (with the original category names)\n",
    "# Step 1: Create a DataFrame for X_test (from Series or array)\n",
    "X_test_df = pd.DataFrame(X_test, columns=['all_text'])  # Assuming X_test is a Series\n",
    "\n",
    "# Step 2: Add the original category (y_test) to the DataFrame\n",
    "X_test_df['original_category'] = le.inverse_transform(y_test)  # y_test contains the original encoded labels\n",
    "\n",
    "# Step 3: Add the predicted job categories (y_pred_lr) to the DataFrame\n",
    "X_test_df['job_category_logit'] = le.inverse_transform(y_pred_lr)\n",
    "\n",
    "# Step 4: Display the first few rows with original and predicted categories\n",
    "print(X_test_df[['all_text', 'original_category', 'job_category_logit']].head())"
   ]
  },
  {
   "cell_type": "code",
   "execution_count": 26,
   "id": "dd586e55-94c9-44c4-aed6-ae8374a0c60f",
   "metadata": {},
   "outputs": [
    {
     "data": {
      "image/png": "[encoded data removed]",
      "text/plain": [
       "<Figure size 1000x800 with 2 Axes>"
      ]
     },
     "metadata": {},
     "output_type": "display_data"
    }
   ],
   "source": [
    "from sklearn.metrics import confusion_matrix, ConfusionMatrixDisplay\n",
    "import matplotlib.pyplot as plt\n",
    "\n",
    "# Generate confusion matrix\n",
    "cm = confusion_matrix(\n",
    "    X_test_df[\"original_category\"],  # True labels\n",
    "    X_test_df[\"job_category_logit\"],  # Predicted labels\n",
    "    labels=X_test_df[\"original_category\"].unique()  # Set the order of the labels (same as original categories)\n",
    ")\n",
    "\n",
    "# Plot with custom colormap and title\n",
    "disp = ConfusionMatrixDisplay(\n",
    "    confusion_matrix=cm,\n",
    "    display_labels=X_test_df[\"original_category\"].unique()  # Display the original categories as labels\n",
    ")\n",
    "\n",
    "fig, ax = plt.subplots(figsize=(10, 8))  # Optional: adjust figure size\n",
    "disp.plot(\n",
    "    xticks_rotation=90,\n",
    "    cmap=\"Blues\", \n",
    "    ax=ax,\n",
    "    colorbar=True\n",
    ")\n",
    "plt.title(\"Confusion Matrix: Original Category vs. Predicted Category using Logit\", fontsize=14)\n",
    "plt.tight_layout()\n",
    "plt.show()"
   ]
  },
  {
   "cell_type": "markdown",
   "id": "3bcb1edb-53b4-4021-826c-dd3c01c8be3e",
   "metadata": {},
   "source": [
    "### 🔷 Comments on the Logistic Regression Results:\n",
    "\n",
    "The logistic regression results are exceptionally strong with the synthetic job posting data.\n",
    "\n",
    "* **Precision** is 100% for nearly all categories, meaning 100% of all jobs predicted as a certain category are correct.\n",
    "* **Recall** is also 100%, meaning that all actual jobs in each category are correctly identified.\n",
    "* The **F1-score** is perfect across all job categories.  \n",
    "  * Note that the F1 score is $ F1 \\: score = 2 \\times \\frac{Precision \\times Recall}{Precision + Recall} $, which balances the trade-off between precision and recall.\n",
    "* Overall, **accuracy** is 100%, indicating that the model correctly classified nearly all text examples.\n",
    "\n",
    "This result is reflected in an almost perfect **diagonal matrix** in the confusion matrix.\n",
    "\n",
    "⚠️ **CAUTION**:\n",
    "* As noted earlier, this nearly perfect precision could be due to the use of **LLM-generated synthetic** data, which may have more consistent language and little noise across job postings. \n",
    "* These results may **not** hold with real-world job postings, which are much messier and noisier. \n"
   ]
  },
  {
   "cell_type": "markdown",
   "id": "ee5a726c-0658-4c47-a2b5-6d75e2e2fd80",
   "metadata": {},
   "source": [
    "---\n",
    "## SECTION 5: Multinomial Naive Bayes\n",
    "\n",
    "Multinomial Naive Bayes is another popular classification algorithm for discrete features like word counts or TF-IDF scores. \n",
    "\n",
    "####  🔷 How it differs from logistic regression:\n",
    "  * **Example:** Suppose the word `\"campaign\"` appears frequently in Marketing job postings but rarely in others.\n",
    "  * **Naive Bayes** asks \"If this were a Marketing job, how likely is it that we’d see the word `\"campaign\"`?”\n",
    "    * Estimates how likely the word `\"campaign\"` appears *within* each job category, such as $P(\\text{campaign} \\mid \\text{Marketing})$,\n",
    "    * And combines this with the _prior_ $P(\\text{Marketing})$ to compute $P(\\text{Marketing} \\mid \\text{campaign})$ using Bayes’ rule.\n",
    "  \n",
    "  * **Logistic regression** asks “Given that the word `\"campaign\"` appears, how much does that increase the odds that this is a Marketing job?”\n",
    "      * Directly models the *posterior probability* $P(\\text{Marketing} \\mid \\text{campaign})$\n",
    "      * And assigns a positive weight to `\"campaign\"` if it helps predict the Marketing class.\n",
    "      * It focuses on finding weights that best separate the classes by probability."
   ]
  },
  {
   "cell_type": "code",
   "execution_count": 29,
   "id": "542c93e9-90c1-4f26-b94d-824ff7e3dbdc",
   "metadata": {},
   "outputs": [
    {
     "name": "stdout",
     "output_type": "stream",
     "text": [
      "🔹 Naive Bayes Results:\n",
      "                      precision    recall  f1-score   support\n",
      "\n",
      "          consulting       1.00      1.00      1.00       348\n",
      "        data science       0.99      1.00      0.99       392\n",
      "           education       1.00      0.98      0.99       372\n",
      "             finance       1.00      1.00      1.00       352\n",
      "          healthcare       0.99      1.00      0.99       348\n",
      "               legal       0.99      1.00      1.00       343\n",
      "           marketing       1.00      0.98      0.99       344\n",
      "       public sector       0.98      0.99      0.99       365\n",
      "              retail       1.00      1.00      1.00       353\n",
      "               sales       1.00      1.00      1.00       369\n",
      "software engineering       1.00      1.00      1.00       353\n",
      "\n",
      "            accuracy                           0.99      3939\n",
      "           macro avg       1.00      0.99      0.99      3939\n",
      "        weighted avg       0.99      0.99      0.99      3939\n",
      "\n"
     ]
    }
   ],
   "source": [
    "## Trying Naive Bayes using job descriptions \n",
    "\n",
    "from sklearn.naive_bayes import MultinomialNB\n",
    "\n",
    "nb_model = MultinomialNB()\n",
    "nb_model.fit(X_train_tfidf, y_train)\n",
    "y_pred_nb = nb_model.predict(X_test_tfidf)\n",
    "\n",
    "print(\"🔹 Naive Bayes Results:\")\n",
    "print(classification_report(y_test, y_pred_nb, target_names=le.classes_))"
   ]
  },
  {
   "cell_type": "markdown",
   "id": "250fe599-dc2c-4fe7-9a0f-7264bb162ea9",
   "metadata": {},
   "source": [
    "### 🔷 Comments on Naive Bayes Results using **Job Descriptions**: \n",
    "\n",
    "While it is not obvious with the synthetic job posting data, Naive Bayes (when using job descriptions) may perform worse than logistic regression. This could happen due to \n",
    "\n",
    "1. **Strong (Unrealistic) Assumptions:** Naive Bayes assumes that all words are conditionally independent given the class.\n",
    "But in natural language, that’s not true (e.g. words like \"python\" and \"sql\" offten co-occur). This independence assumption works okay on short texts, but breaks down with longer, richer descriptions.\n",
    "\n",
    "2. **TF-IDF Doesn’t Fit Naive Bayes Perfectly:** Naive Bayes expects raw term frequencies (counts) to estimate probabilities. TF-IDF includes global weights, which distort those probabilities. Logistic Regression handles TF-IDF much better, since it doesn’t rely on probability theory - just feature weights\n",
    "\n",
    "3. **Naive Bayes Struggles with Ambiguous Classes:** \"Consultant\" may appear in job posts that also use words like “business”, “marketing”, “project” → easily confused. Logistic Regression handles correlated features much better.\n",
    "\n",
    "4. **Logistic Regression Learns Interactions More Flexibly:** Logistic regression learns feature weights directly from data. For example, it can learn that \"data\" + \"engineer\" = Data job OR \"project\" + \"manager\" = Project Manager\n",
    "\n",
    "Naives Bayes may work better with short documents, few classes, and clean, non-overlapping vocabulary\n",
    "\n"
   ]
  }
 ],
 "metadata": {
  "kernelspec": {
   "display_name": "Python [conda env:py310-nlp]",
   "language": "python",
   "name": "conda-env-py310-nlp-py"
  },
  "language_info": {
   "codemirror_mode": {
    "name": "ipython",
    "version": 3
   },
   "file_extension": ".py",
   "mimetype": "text/x-python",
   "name": "python",
   "nbconvert_exporter": "python",
   "pygments_lexer": "ipython3",
   "version": "3.10.18"
  }
 },
 "nbformat": 4,
 "nbformat_minor": 5
}
