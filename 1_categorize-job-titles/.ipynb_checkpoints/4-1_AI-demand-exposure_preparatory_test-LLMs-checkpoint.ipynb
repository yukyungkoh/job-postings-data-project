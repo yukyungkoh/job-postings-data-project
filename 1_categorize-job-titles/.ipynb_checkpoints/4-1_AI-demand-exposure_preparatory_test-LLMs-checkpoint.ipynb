{
 "cells": [
  {
   "cell_type": "markdown",
   "id": "928619ea-75f7-4e43-b6c2-e542b4c2c406",
   "metadata": {},
   "source": [
    "# 4-1. Construct AI Demand Exposure Score - Preparatory Step (Test LLMs)\n",
    "\n",
    "Job posting data is provided by: https://www.kaggle.com/datasets/arshkon/linkedin-job-postings\n",
    "\n",
    "**Author:** Yu Kyung Koh\n",
    "\n",
    "**Last Updated:** 2025/06/14\n",
    "\n",
    "---\n",
    "\n",
    "### General Goals:\n",
    "* Construct AI Demand Exposure Score, which measures how susceptible job tasks listed in new postings are to augmentation or replacement by AI\n",
    "* I am going to follow the approach in 2025 Revelio Labs report \"AI at Work: The State of AI Adoption in 2025\"\n",
    "\n",
    "**Steps to construct the AI demand exposure score:**\n",
    "* **PART #1:** Extract tasks from job postings **-> ‼️FOCUS OF THIS CODE‼️**\n",
    "   * Extract clean and relevant task-like phrases (e.g., \"analyze data\", \"prepare reports\")\n",
    "   * Find a way to ignore the boilerplate sections (e.g., DEI statements, benefits).\n",
    "     * => Going to use LLM to extract action/task-oriented lines\n",
    "* **PART #2:** Map tasks to a taxonomy (optional but strongly recommended)\n",
    "    * Standardize the language of tasks across postings (like Revelio’s “activities taxonomy”)\n",
    "    * Alternatively, cluster similar task phrases using embeddings + k-means or sentence similarity.\n",
    "* **PART #3:** Score Task Susceptibility to AI (Using GPT or LLM)\n",
    "  * Goal: Determine whether a task can be augmented or automated by AI.\n",
    "  * Use GPT-4 or similar model with a prompt like:\n",
    "    * \"Can the following task be automated or enhanced using AI tools such as ChatGPT, image recognition, or robotic process automation? Respond 'Yes' or 'No' and briefly justify.\"\n",
    "    * Input: one task per call (or a batch, if needed).\n",
    "    * Response: Boolean + rationale (you can discard rationale for speed).\n",
    "  * Store the binary AI-susceptibility flag for each task.\n",
    "* **PART #4:** Compute the AI Demand Exposure Score\n",
    "\n",
    "---\n",
    "### In this code:\n",
    "* I test a few LLMs on a small sample of job postings for task extraction.\n",
    "* This will help me choose the most suitable LLM for extracting tasks from the full dataset, which would otherwise be time-consuming.\n",
    "* **Heads-up:**\n",
    "  * I learned that **mistral model via Ollama** outperforms other executable models (e.g. flat-t5) on my Macbook.\n",
    "  * This will be discussed in detail in SECTION 5. \n",
    "\n",
    "---"
   ]
  },
  {
   "cell_type": "markdown",
   "id": "a7b73e18-89c1-4c31-b2f5-1bb67350f515",
   "metadata": {
    "jp-MarkdownHeadingCollapsed": true
   },
   "source": [
    "## SECTION 1: Ways to extract task descriptions from unstructured, messy job postings\n",
    "\n",
    "There are three main ways to extract task description from unstructured job postings. \n",
    "\n",
    "#### Option 1: ML-based sentence classification\n",
    "* Train a binary classifier to label each sentence in a job posting as: **task-related** (1) or **not task-related** (0)\n",
    "* How to implement\n",
    "  1. Split job postings into sentences.\n",
    "  2. Label a small training set (manually tag ~500–1,000 sentences).\n",
    "  3. Fine-tune a transformer like distilbert-base-uncased or roberta-base on this sentence classification task.\n",
    "  4. Apply model to reset the rest of the job postings.\n",
    "* **✅ Pros**: High flexibility and adaptability, Handles varying structures well\n",
    "* **❌ Cons**: Requires some labeled data and compute,  Harder to debug than rules\n",
    "  \n",
    "#### Option 2: LLM-based zero-shot or few-shot classification    **-> ‼️BEST APPROACH‼️**\n",
    "* Use GPT (or other LLM) to label sentences or extract task descriptions directly.\n",
    "    * 🔨 Prompt Example:\n",
    "    \"Below is a job posting. Extract only the specific tasks that an employee would be expected to perform in this role. Ignore company values, benefits, and general statements.\"\n",
    "    * Then pass the full job posting, or chunks of it, and parse the output.\n",
    "* **✅ Pros**: No training required, Often very accurate on diverse formats\n",
    "* **❌ Cons**: Slower, Costs may add up if processing many postings, May require post-cleaning to standardize output\n",
    "\n",
    "#### Option 3: Heuristic-based rules (regex + patterns)\n",
    "* I can combine the following rules:\n",
    "    1. Bullet Points or Imperative Sentences\n",
    "        * Regex: r\"^\\s*[-•*]\\s+.+\"\n",
    "        * Captures bullet-style task listings.\n",
    "    2. Verb-First Sentences\n",
    "        * Use POS tagging to retain sentences that begin with strong verbs (VB, VBP, VBZ).\n",
    "    3. Section-Based Extraction\n",
    "        * Try to identify \"Job Responsibilities\", \"What You’ll Do\", \"Duties\" sections using regex or keyword matching, and extract bullet points or paragraphs under them.\n",
    "\n",
    "* **❌ Cons**: Not straightforward with the data I have, which may not have bullet points (Rule 1) or clear section titles (Rule 3)\n",
    "\n",
    "---\n",
    "\n",
    "In this code, I will focus on  **Option 2: LLM-based zero-shot or few-shot classification**, as this seems most promising. "
   ]
  },
  {
   "cell_type": "markdown",
   "id": "70c66633-8599-4a16-bdbb-b8501ec1d533",
   "metadata": {},
   "source": [
    "## SECTION 2: Bring in the job posting data \n",
    "\n",
    "Here, I am going to focus on the smaller set of job posting data cleaned from code 2-1. \n",
    "\n",
    "This data only contains job posting for few job categories, including data-related jobs, consultants, software enginners, etc. "
   ]
  },
  {
   "cell_type": "code",
   "execution_count": 4,
   "id": "031b9cfd-35fc-4181-a931-f71777a6266a",
   "metadata": {},
   "outputs": [],
   "source": [
    "import pandas as pd\n",
    "import os\n",
    "import re\n",
    "import joblib\n",
    "from tqdm import tqdm\n",
    "import multiprocessing \n",
    "from joblib import Parallel, delayed\n",
    "\n",
    "import nltk\n",
    "from nltk.corpus import stopwords\n",
    "#from rapidfuzz import process, fuzz"
   ]
  },
  {
   "cell_type": "code",
   "execution_count": 5,
   "id": "45642d68-933a-47ee-b4ed-689c4c023584",
   "metadata": {},
   "outputs": [
    {
     "data": {
      "text/plain": [
       "29724"
      ]
     },
     "execution_count": 5,
     "metadata": {},
     "output_type": "execute_result"
    }
   ],
   "source": [
    "## Import cleaned data from Code 2-1\n",
    "cleandatadir = '/Users/yukyungkoh/Desktop/1_Post-PhD/7_Python-projects/2_practice-NLP_job-posting_NEW/2_data/cleaned_data'\n",
    "jobdata = os.path.join(cleandatadir, '1_job-posting_jobs-categorized_df.pkl')\n",
    "jobs_df = pd.read_pickle(jobdata, 'zip')\n",
    "#jobs_df = joblib.load(jobdata)\n",
    "\n",
    "## Check how many job postings are in this data \n",
    "len(jobs_df)"
   ]
  },
  {
   "cell_type": "code",
   "execution_count": 6,
   "id": "5dd19755-2ec3-49e7-894f-a96cbb1b99eb",
   "metadata": {},
   "outputs": [
    {
     "data": {
      "text/html": [
       "<div>\n",
       "<style scoped>\n",
       "    .dataframe tbody tr th:only-of-type {\n",
       "        vertical-align: middle;\n",
       "    }\n",
       "\n",
       "    .dataframe tbody tr th {\n",
       "        vertical-align: top;\n",
       "    }\n",
       "\n",
       "    .dataframe thead th {\n",
       "        text-align: right;\n",
       "    }\n",
       "</style>\n",
       "<table border=\"1\" class=\"dataframe\">\n",
       "  <thead>\n",
       "    <tr style=\"text-align: right;\">\n",
       "      <th></th>\n",
       "      <th>job_id</th>\n",
       "      <th>company_name</th>\n",
       "      <th>title</th>\n",
       "      <th>work_type</th>\n",
       "      <th>normalized_salary</th>\n",
       "      <th>combined_desc</th>\n",
       "      <th>job_category</th>\n",
       "    </tr>\n",
       "  </thead>\n",
       "  <tbody>\n",
       "    <tr>\n",
       "      <th>0</th>\n",
       "      <td>921716</td>\n",
       "      <td>Corcoran Sawyer Smith</td>\n",
       "      <td>Marketing Coordinator</td>\n",
       "      <td>FULL_TIME</td>\n",
       "      <td>38480.0</td>\n",
       "      <td>Job descriptionA leading real estate firm in N...</td>\n",
       "      <td>Marketing</td>\n",
       "    </tr>\n",
       "    <tr>\n",
       "      <th>2</th>\n",
       "      <td>10998357</td>\n",
       "      <td>The National Exemplar</td>\n",
       "      <td>Assitant Restaurant Manager</td>\n",
       "      <td>FULL_TIME</td>\n",
       "      <td>55000.0</td>\n",
       "      <td>The National Exemplar is accepting application...</td>\n",
       "      <td>Other Manager</td>\n",
       "    </tr>\n",
       "    <tr>\n",
       "      <th>12</th>\n",
       "      <td>56482768</td>\n",
       "      <td>NaN</td>\n",
       "      <td>Appalachian Highlands Women's Business Center</td>\n",
       "      <td>FULL_TIME</td>\n",
       "      <td>NaN</td>\n",
       "      <td>FULL JOB DESCRIPTION – PROGRAM DIRECTOR Appala...</td>\n",
       "      <td>Business/Finance Job</td>\n",
       "    </tr>\n",
       "    <tr>\n",
       "      <th>14</th>\n",
       "      <td>69333422</td>\n",
       "      <td>Staffing Theory</td>\n",
       "      <td>Senior Product Marketing Manager</td>\n",
       "      <td>FULL_TIME</td>\n",
       "      <td>NaN</td>\n",
       "      <td>A leading pharmaceutical company committed to ...</td>\n",
       "      <td>Marketing</td>\n",
       "    </tr>\n",
       "    <tr>\n",
       "      <th>18</th>\n",
       "      <td>111513530</td>\n",
       "      <td>United Methodists of Greater New Jersey</td>\n",
       "      <td>Content Writer, Communications</td>\n",
       "      <td>FULL_TIME</td>\n",
       "      <td>NaN</td>\n",
       "      <td>Application opening date: April 24, 2024\\nTitl...</td>\n",
       "      <td>Marketing</td>\n",
       "    </tr>\n",
       "  </tbody>\n",
       "</table>\n",
       "</div>"
      ],
      "text/plain": [
       "       job_id                             company_name  \\\n",
       "0      921716                    Corcoran Sawyer Smith   \n",
       "2    10998357                   The National Exemplar    \n",
       "12   56482768                                      NaN   \n",
       "14   69333422                          Staffing Theory   \n",
       "18  111513530  United Methodists of Greater New Jersey   \n",
       "\n",
       "                                            title  work_type  \\\n",
       "0                           Marketing Coordinator  FULL_TIME   \n",
       "2                     Assitant Restaurant Manager  FULL_TIME   \n",
       "12  Appalachian Highlands Women's Business Center  FULL_TIME   \n",
       "14               Senior Product Marketing Manager  FULL_TIME   \n",
       "18                 Content Writer, Communications  FULL_TIME   \n",
       "\n",
       "    normalized_salary                                      combined_desc  \\\n",
       "0             38480.0  Job descriptionA leading real estate firm in N...   \n",
       "2             55000.0  The National Exemplar is accepting application...   \n",
       "12                NaN  FULL JOB DESCRIPTION – PROGRAM DIRECTOR Appala...   \n",
       "14                NaN  A leading pharmaceutical company committed to ...   \n",
       "18                NaN  Application opening date: April 24, 2024\\nTitl...   \n",
       "\n",
       "            job_category  \n",
       "0              Marketing  \n",
       "2          Other Manager  \n",
       "12  Business/Finance Job  \n",
       "14             Marketing  \n",
       "18             Marketing  "
      ]
     },
     "execution_count": 6,
     "metadata": {},
     "output_type": "execute_result"
    }
   ],
   "source": [
    "jobs_df.head()"
   ]
  },
  {
   "cell_type": "markdown",
   "id": "79ee4fc6-a6c0-460b-9256-364341d60f3b",
   "metadata": {},
   "source": [
    "---\n",
    "## SECTION 3: Extract tasks using \"google/flan-t5-large\" (Try with 10 job postings first)\n",
    "\n",
    "### Note 1: \n",
    "* There are multiple ways to implement **Option 2: LLM-based zero-shot or few-shot classification**\n",
    "  1. **Option 2A:** **GPT (via openai package)**  — Paid, but easy to use with strong performance and long context windows. Requires internet access\n",
    "  2. **Option 2B:** **Hugging Face Transformers (e.g., flan-t5-large)** - Free and open-source; runs locally but may be slower or memory-intensive on personal machines\n",
    "  3. **Option 2C:** **Ollama (Local quantized models like Mistral or LLaMA)** - Free, runs entirely offline, optimized for Mac (M1/M2); Slower than cloud models but efficient and private. \n",
    "* Since I prefer a free option, I will stick to **Option 2B** in this section. In the next section (Section 4), I will use Option 2C: Ollama and compare its performance with Option 2B. \n",
    "\n",
    "### Note 2:\n",
    "* With  Hugging Face Open-Source LLM, there are multiple models that I can use, which differ in their performances and MacBook-friendliness.\n",
    "* Below is a list of models I can use with `pipeline(\"text-generation\", model=...)` for extracting task descriptions from job postings.\n",
    "\n",
    "     1. ✅ Tiny / CPU-Friendly Models (Great for Testing on MacBook)\n",
    "\n",
    "| Model | Description | RAM Needed |\n",
    "|-------|-------------|------------|\n",
    "| `sshleifer/tiny-gpt2` | Toy model for debugging | ~200MB |\n",
    "| `EleutherAI/gpt-neo-125M` | Small GPT-style model | ~1GB |\n",
    "| `tiiuae/falcon-rw-1b` | Reasoning-capable small model | ~2.5GB |\n",
    "| `EleutherAI/gpt-neo-1.3B` | Higher-quality small model | ~4GB |\n",
    "\n",
    "\n",
    "    2. ✅ Instruction-Tuned Small Models (Mac-Friendly + Follows Prompts Better)\n",
    "\n",
    "| Model | Description | RAM Needed |\n",
    "|-------|-------------|------------|\n",
    "| `google/flan-t5-base` | Instruction-tuned T5 | ~2GB |\n",
    "| `google/flan-t5-large` | Larger, better output | ~5–6GB |\n",
    "| `declare-lab/flan-alpaca-base` | Alpaca-style model | ~4–5GB |\n",
    "\n",
    "    3. ⚠️ Large Instruction-Following LLMs (Require GPU or 32GB+ RAM)\n",
    "\n",
    "| Model | Description | RAM Needed |\n",
    "|-------|-------------|------------|\n",
    "| `HuggingFaceH4/zephyr-7b-beta` | Zephyr 7B instruction model | ~14–16GB |\n",
    "| `mistralai/Mistral-7B-Instruct-v0.1` | Strong 7B LLM | ~16GB |\n",
    "| `meta-llama/Llama-3-8B-Instruct` | State-of-the-art LLaMA 3 | ~18GB |\n",
    "        * Use these only in **Google Colab with GPU** or on machines with large RAM."
   ]
  },
  {
   "cell_type": "code",
   "execution_count": 8,
   "id": "0a0ec268-33f1-451c-b465-711ac15e0d2d",
   "metadata": {},
   "outputs": [
    {
     "name": "stderr",
     "output_type": "stream",
     "text": [
      "Device set to use mps:0\n"
     ]
    }
   ],
   "source": [
    "## ---------------------------------------------\n",
    "## STEP 1: Load LLM model for task extraction \n",
    "## ---------------------------------------------\n",
    "from transformers import pipeline\n",
    "\n",
    "task_extractor = pipeline(\n",
    "    \"text2text-generation\",\n",
    "    # model=\"HuggingFaceH4/zephyr-7b-beta\", ## => Takes too long to load. May not work with my macbook. \n",
    "    model=\"google/flan-t5-large\", \n",
    "    framework=\"pt\",  # 👈 this avoids TensorFlow completely\n",
    "    max_new_tokens=300\n",
    ")"
   ]
  },
  {
   "cell_type": "code",
   "execution_count": 9,
   "id": "d6d33c9b-b08c-447b-95a3-662c3dd15a14",
   "metadata": {},
   "outputs": [
    {
     "name": "stderr",
     "output_type": "stream",
     "text": [
      "Token indices sequence length is longer than the specified maximum sequence length for this model (647 > 512). Running this sequence through the model will result in indexing errors\n"
     ]
    },
    {
     "name": "stdout",
     "output_type": "stream",
     "text": [
      "\n",
      "Total time taken: 0:07:02 (hh:mm:ss)\n"
     ]
    }
   ],
   "source": [
    "## ---------------------------------------------\n",
    "## STEP 2: Extract tasks for the first 10 job postings \n",
    "## ---------------------------------------------\n",
    "\n",
    "import time\n",
    "start_time = time.time()  # Start the timer\n",
    "\n",
    "# Limit to the first 10 job postings\n",
    "sample_jobs = jobs_df[\"combined_desc\"].head(10)\n",
    "\n",
    "# Define a prompt template\n",
    "def format_prompt(text):\n",
    "    return f\"\"\"Extract the specific job tasks or responsibilities from the following job posting. \n",
    "                Do NOT include phrases about qualifications, skills, company info, contact info, or benefits.\n",
    "                Only list tasks as bullet points.\\n\\n{text}\"\"\"\n",
    "\n",
    "# Apply the task extractor\n",
    "extracted_tasks = []\n",
    "\n",
    "for idx, posting in enumerate(sample_jobs): ## Remember that enumerate() returns a pair (index, value) \n",
    "    prompt = format_prompt(posting)\n",
    "    try:\n",
    "        result = task_extractor(prompt)[0][\"generated_text\"]\n",
    "    except Exception as e:\n",
    "        result = f\"Error extracting tasks: {e}\"\n",
    "    extracted_tasks.append(result)\n",
    "\n",
    "\n",
    "results_df = pd.DataFrame({\n",
    "    \"job_posting_text\": sample_jobs.values,\n",
    "    \"extracted_tasks_flant5\": extracted_tasks\n",
    "})\n",
    "\n",
    "end_time = time.time()  # Stop the timer\n",
    "\n",
    "# Show the time it took for task extraction for the first 10 job postings \n",
    "from datetime import timedelta\n",
    "elapsed_time = end_time - start_time\n",
    "formatted_time = str(timedelta(seconds=int(elapsed_time)))\n",
    "print(f\"\\nTotal time taken: {formatted_time} (hh:mm:ss)\")\n"
   ]
  },
  {
   "cell_type": "code",
   "execution_count": 10,
   "id": "e5e9fb67-d0d0-4823-b7a5-6c632fa49f51",
   "metadata": {},
   "outputs": [
    {
     "data": {
      "text/html": [
       "<div>\n",
       "<style scoped>\n",
       "    .dataframe tbody tr th:only-of-type {\n",
       "        vertical-align: middle;\n",
       "    }\n",
       "\n",
       "    .dataframe tbody tr th {\n",
       "        vertical-align: top;\n",
       "    }\n",
       "\n",
       "    .dataframe thead th {\n",
       "        text-align: right;\n",
       "    }\n",
       "</style>\n",
       "<table border=\"1\" class=\"dataframe\">\n",
       "  <thead>\n",
       "    <tr style=\"text-align: right;\">\n",
       "      <th></th>\n",
       "      <th>job_posting_text</th>\n",
       "      <th>extracted_tasks_flant5</th>\n",
       "    </tr>\n",
       "  </thead>\n",
       "  <tbody>\n",
       "    <tr>\n",
       "      <th>0</th>\n",
       "      <td>Job descriptionA leading real estate firm in N...</td>\n",
       "      <td>Administrative Marketing Coordinator with some...</td>\n",
       "    </tr>\n",
       "    <tr>\n",
       "      <th>1</th>\n",
       "      <td>The National Exemplar is accepting application...</td>\n",
       "      <td>The National Exemplar is accepting application...</td>\n",
       "    </tr>\n",
       "    <tr>\n",
       "      <th>2</th>\n",
       "      <td>FULL JOB DESCRIPTION – PROGRAM DIRECTOR Appala...</td>\n",
       "      <td>APPALACHIAN HIGHLANDS WOMEN’S BUSINESS CENTER ...</td>\n",
       "    </tr>\n",
       "    <tr>\n",
       "      <th>3</th>\n",
       "      <td>A leading pharmaceutical company committed to ...</td>\n",
       "      <td>Develop and implement integrated marketing pla...</td>\n",
       "    </tr>\n",
       "    <tr>\n",
       "      <th>4</th>\n",
       "      <td>Application opening date: April 24, 2024\\nTitl...</td>\n",
       "      <td>The Content Writer develops and disseminates i...</td>\n",
       "    </tr>\n",
       "    <tr>\n",
       "      <th>5</th>\n",
       "      <td>Education Bachelor's degree in software, math,...</td>\n",
       "      <td>Analytical skills, group work, knowledge of in...</td>\n",
       "    </tr>\n",
       "    <tr>\n",
       "      <th>6</th>\n",
       "      <td>Job Description:GOYT is seeking a skilled and ...</td>\n",
       "      <td>GOYT is seeking a skilled and motivated Remote...</td>\n",
       "    </tr>\n",
       "    <tr>\n",
       "      <th>7</th>\n",
       "      <td>About Revesco Properties:Revesco Properties is...</td>\n",
       "      <td>The ideal candidate has experience in developi...</td>\n",
       "    </tr>\n",
       "    <tr>\n",
       "      <th>8</th>\n",
       "      <td>SUMMARY:Manages operation and supervises all d...</td>\n",
       "      <td>Manages operation and supervises all departmen...</td>\n",
       "    </tr>\n",
       "    <tr>\n",
       "      <th>9</th>\n",
       "      <td>Gordon Partners (www.gordonpartners.com) is se...</td>\n",
       "      <td>Position will work directly with both the dire...</td>\n",
       "    </tr>\n",
       "  </tbody>\n",
       "</table>\n",
       "</div>"
      ],
      "text/plain": [
       "                                    job_posting_text  \\\n",
       "0  Job descriptionA leading real estate firm in N...   \n",
       "1  The National Exemplar is accepting application...   \n",
       "2  FULL JOB DESCRIPTION – PROGRAM DIRECTOR Appala...   \n",
       "3  A leading pharmaceutical company committed to ...   \n",
       "4  Application opening date: April 24, 2024\\nTitl...   \n",
       "5  Education Bachelor's degree in software, math,...   \n",
       "6  Job Description:GOYT is seeking a skilled and ...   \n",
       "7  About Revesco Properties:Revesco Properties is...   \n",
       "8  SUMMARY:Manages operation and supervises all d...   \n",
       "9  Gordon Partners (www.gordonpartners.com) is se...   \n",
       "\n",
       "                              extracted_tasks_flant5  \n",
       "0  Administrative Marketing Coordinator with some...  \n",
       "1  The National Exemplar is accepting application...  \n",
       "2  APPALACHIAN HIGHLANDS WOMEN’S BUSINESS CENTER ...  \n",
       "3  Develop and implement integrated marketing pla...  \n",
       "4  The Content Writer develops and disseminates i...  \n",
       "5  Analytical skills, group work, knowledge of in...  \n",
       "6  GOYT is seeking a skilled and motivated Remote...  \n",
       "7  The ideal candidate has experience in developi...  \n",
       "8  Manages operation and supervises all departmen...  \n",
       "9  Position will work directly with both the dire...  "
      ]
     },
     "metadata": {},
     "output_type": "display_data"
    }
   ],
   "source": [
    "# Show results\n",
    "from IPython.display import display\n",
    "display(results_df)"
   ]
  },
  {
   "cell_type": "code",
   "execution_count": 11,
   "id": "206a9d1a-29b7-48d4-890a-4543a6177cfa",
   "metadata": {},
   "outputs": [
    {
     "data": {
      "text/plain": [
       "'SUMMARY:Manages operation and supervises all departmental distribution/clinical and educational activities; plans, controls, coordinates and measures the work of the department.ESSENTIAL FUNCTIONS:Manages staff; interviews, hires and trains; evaluates employee performance; deals with performance problems as appropriate; delegates work assignments effectively.Assists in managing department budget.Manages Pharmacy operations and coordinates functions with the needs of other departments. Oversees and manages drug purchases, information and review for drug interactions.Benchmarks pharmacy operations with local/regional and national solutions.Critically reviews the medical literature; collates and summarizes studies and makes recommendations to the appropriate party.Networks with hospital departments, takes input and in conjunction with Administration and Pharmacy Department to develop projects, and monitors their progress to completion.Monitors pharmacy payment methodologies and pharmacy systems to ensure accuracy and understanding by staff.Assimilates pharmacy/hospital projects into presentations that can be conveyed in an interesting and positive manner on the hospital’s behalf.Adheres to TMC organizational and department-specific safety, confidentiality, values policies and standards.Performs related duties assigned.MINIMUM QUALIFICATIONSEDUCATION: Graduate of AACP accredited College of Pharmacy; preferred Master’s degree in Pharmacy.EXPEREINCE: Five (5) years of pharmacy experience, preferably in a supervisory or lead role.LICENSURE OR CERTIFICATION: Current Pharmacist licensure in Arizona.\\n\\n\\n'"
      ]
     },
     "execution_count": 11,
     "metadata": {},
     "output_type": "execute_result"
    }
   ],
   "source": [
    "results_df[\"job_posting_text\"][8]"
   ]
  },
  {
   "cell_type": "code",
   "execution_count": 12,
   "id": "ecc8613b-cf57-44c5-8b0d-e4121210b197",
   "metadata": {},
   "outputs": [
    {
     "data": {
      "text/plain": [
       "'Manages operation and supervises all departmental distribution/clinical and educational activities; plans, controls, coordinates and measures the work of the department. Oversees and manages drug purchases, information and review for drug interactions.Benchmarks pharmacy operations with local/regional and national solutions. Reviews the medical literature; collates and summarizes studies and makes recommendations to the appropriate party.Networks with hospital departments, takes input and in conjunction with Administration and Pharmacy Department to develop projects, and monitors their progress to completion. Monitors pharmacy payment methodologies and pharmacy systems to ensure accuracy and understanding by staff. Assimilates pharmacy/hospital projects into presentations that can be conveyed in an interesting and positive manner on the hospital’s behalf. Adheres to TMC organizational and department-specific safety, confidentiality, values policies and standards.Performs related duties assigned.'"
      ]
     },
     "execution_count": 12,
     "metadata": {},
     "output_type": "execute_result"
    }
   ],
   "source": [
    "results_df[\"extracted_tasks_flant5\"][8]"
   ]
  },
  {
   "cell_type": "code",
   "execution_count": 13,
   "id": "08f42db5-61f1-45ef-b24f-731fd9d96fe1",
   "metadata": {},
   "outputs": [],
   "source": [
    "## ---------------------------------------------\n",
    "## STEP 3: Extract tasks for the first 10 job postings -- Sliding window chunking approach\n",
    "## ---------------------------------------------"
   ]
  },
  {
   "cell_type": "markdown",
   "id": "26c325c5-f5b1-4fd4-9f3e-5ee5cbd7148c",
   "metadata": {},
   "source": [
    "---\n",
    "## SECTION 4: Extract tasks using the Mistral model via Ollama (Try with 10 job postings first)\n",
    "\n",
    "Another way to use LLM is through Ollama. \n",
    "* Note that Ollama is a **local model runner** with a command-line tool and a Python API\n",
    "    *  This differs from Hugging Face Transformer I used in SECTION 3 -- which is a **Python library**. \n",
    "    * They both let me run LLMs, but they differ in **design, purpose, and performance**\n",
    "* Specifically, I am going to use the **mistral** large language model via Ollama\n",
    "\n",
    "### ✅ Summary Table: Hugging Face Transformers vs Ollama\n",
    "\n",
    "| Feature                        | 🤖 Hugging Face Transformers                    | 🐙 Ollama                                    |\n",
    "|-------------------------------|--------------------------------------------------|----------------------------------------------|\n",
    "| **What it is**                | Python library for loading any model            | Tool for running local quantized models      |\n",
    "| **How you use it**            | `transformers` library in Python                | Terminal (`ollama run`) or Python API        |\n",
    "| **Model format**              | Hugging Face format (`.bin`, `.safetensors`)    | GGUF format (quantized models)               |\n",
    "| **Performance on M1**         | ⚠️ Slower (CPU-only, full precision)            | ✅ Fast (Metal + quantized models)           |\n",
    "| **Ease of setup**             | Medium (need PyTorch, model, RAM)               | ✅ Easy (one-line install)                    |\n",
    "| **RAM usage**                 | High (8–16GB for large models)                  | Low (2–6GB with quantization)                |\n",
    "| **Offline use**               | ✅ Yes (once downloaded)                         | ✅ Yes (fully offline after setup)            |\n",
    "| **Supports fine-tuning**      | ✅ Yes (train/fine-tune models)                 | ❌ No (inference only)                        |\n",
    "| **Model availability**        | Thousands on Hugging Face Hub                   | Dozens curated (e.g., Mistral, LLaMA 3)      |\n",
    "| **Interface style**           | Task-based or causal (generation, QA)           | Chat-style (`messages=[...]`)                |\n",
    "| **Good for batch processing** | ✅ Yes (Python-native)                          | ⚠️ Limited, one call at a time               |\n",
    "| **Best suited for**           | Researchers, developers needing control         | Easy local inference on laptops              |\n",
    "\n",
    "\n",
    "\n",
    "### 🧠 Conceptual Differences\n",
    "\n",
    "| Area              | Hugging Face Transformers                                | Ollama                                         |\n",
    "|-------------------|-----------------------------------------------------------|------------------------------------------------|\n",
    "| **Flexibility**   | Full control over models, tokenizers, architecture        | Limited to prebuilt models in GGUF             |\n",
    "| **Ease of use**   | More complex (need to load + configure models)            | One command: `ollama run mistral`              |\n",
    "| **Customization** | Train, modify, or stack models                            | Inference only (no fine-tuning)                |\n",
    "| **Execution**     | Heavy backend (PyTorch, TensorFlow)                       | Lightweight Metal-accelerated C++ engine       |\n",
    "| **API style**     | Versatile: `pipeline(...)`, `model.generate(...)`         | Chat-style: `chat(model=\"mistral\", ...)`       |\n"
   ]
  },
  {
   "cell_type": "code",
   "execution_count": 15,
   "id": "fc1c674a-8bc3-4754-afa3-821aa5ae7b76",
   "metadata": {},
   "outputs": [
    {
     "name": "stderr",
     "output_type": "stream",
     "text": [
      "  0%|                                                    | 0/10 [00:00<?, ?it/s]huggingface/tokenizers: The current process just got forked, after parallelism has already been used. Disabling parallelism to avoid deadlocks...\n",
      "To disable this warning, you can either:\n",
      "\t- Avoid using `tokenizers` before the fork if possible\n",
      "\t- Explicitly set the environment variable TOKENIZERS_PARALLELISM=(true | false)\n",
      "100%|███████████████████████████████████████████| 10/10 [03:49<00:00, 23.00s/it]\n"
     ]
    }
   ],
   "source": [
    "from ollama import chat\n",
    "\n",
    "### Note: \n",
    "#   - Before running this, \n",
    "#     I need to type \"ollama run mistral\" in the terminal\n",
    "\n",
    "### Initialize list for storing results\n",
    "extracted_tasks_mistral = []\n",
    "\n",
    "### Loop through job postings in existing results_df\n",
    "for desc in tqdm(results_df[\"job_posting_text\"]):\n",
    "    prompt = f\"\"\"Extract the main job **tasks** from the following job posting. \n",
    "List distinct, clear bullet points. Only include tasks, not benefits or requirements.\n",
    "\n",
    "Job posting:\n",
    "\\\"\\\"\\\"{desc}\\\"\\\"\\\"\n",
    "\"\"\"\n",
    "    response = chat(model='mistral', messages=[\n",
    "        {'role': 'user', 'content': prompt}\n",
    "    ])\n",
    "    \n",
    "    extracted = response['message']['content']\n",
    "    extracted_tasks_mistral.append(extracted)\n",
    "\n",
    "### Add new column to results_df\n",
    "results_df[\"extracted_tasks_mistral\"] = extracted_tasks_mistral"
   ]
  },
  {
   "cell_type": "markdown",
   "id": "38309b51-23f3-4a81-808d-c89160d17f7c",
   "metadata": {},
   "source": [
    "---\n",
    "## SECTION 5: Check performance: flan-t5-large (via HuggingFace) vs. Mistral (via Ollama)\n",
    "\n",
    "* Below, I am going to examine the performance of the flan-t5-large model (SECTION 3) and the mistral model (SECTION 4) by examining the extracted tasks from each LLM. "
   ]
  },
  {
   "cell_type": "code",
   "execution_count": 17,
   "id": "dd4e7561-b30b-4ae7-a6ef-cf658f2a6dd2",
   "metadata": {},
   "outputs": [
    {
     "data": {
      "text/html": [
       "<div>\n",
       "<style scoped>\n",
       "    .dataframe tbody tr th:only-of-type {\n",
       "        vertical-align: middle;\n",
       "    }\n",
       "\n",
       "    .dataframe tbody tr th {\n",
       "        vertical-align: top;\n",
       "    }\n",
       "\n",
       "    .dataframe thead th {\n",
       "        text-align: right;\n",
       "    }\n",
       "</style>\n",
       "<table border=\"1\" class=\"dataframe\">\n",
       "  <thead>\n",
       "    <tr style=\"text-align: right;\">\n",
       "      <th></th>\n",
       "      <th>job_posting_text</th>\n",
       "      <th>extracted_tasks_flant5</th>\n",
       "      <th>extracted_tasks_mistral</th>\n",
       "    </tr>\n",
       "  </thead>\n",
       "  <tbody>\n",
       "    <tr>\n",
       "      <th>0</th>\n",
       "      <td>Job descriptionA leading real estate firm in N...</td>\n",
       "      <td>Administrative Marketing Coordinator with some...</td>\n",
       "      <td>- Receive and organize marketing requests fro...</td>\n",
       "    </tr>\n",
       "    <tr>\n",
       "      <th>1</th>\n",
       "      <td>The National Exemplar is accepting application...</td>\n",
       "      <td>The National Exemplar is accepting application...</td>\n",
       "      <td>- Deliver high quality customer service\\n- Ma...</td>\n",
       "    </tr>\n",
       "    <tr>\n",
       "      <th>2</th>\n",
       "      <td>FULL JOB DESCRIPTION – PROGRAM DIRECTOR Appala...</td>\n",
       "      <td>APPALACHIAN HIGHLANDS WOMEN’S BUSINESS CENTER ...</td>\n",
       "      <td>- Provide strategic direction for training pr...</td>\n",
       "    </tr>\n",
       "    <tr>\n",
       "      <th>3</th>\n",
       "      <td>A leading pharmaceutical company committed to ...</td>\n",
       "      <td>Develop and implement integrated marketing pla...</td>\n",
       "      <td>- Develop integrated marketing plans for phar...</td>\n",
       "    </tr>\n",
       "    <tr>\n",
       "      <th>4</th>\n",
       "      <td>Application opening date: April 24, 2024\\nTitl...</td>\n",
       "      <td>The Content Writer develops and disseminates i...</td>\n",
       "      <td>- Develop engaging content across various cha...</td>\n",
       "    </tr>\n",
       "    <tr>\n",
       "      <th>5</th>\n",
       "      <td>Education Bachelor's degree in software, math,...</td>\n",
       "      <td>Analytical skills, group work, knowledge of in...</td>\n",
       "      <td>1. Possess a Bachelor's degree in software, m...</td>\n",
       "    </tr>\n",
       "    <tr>\n",
       "      <th>6</th>\n",
       "      <td>Job Description:GOYT is seeking a skilled and ...</td>\n",
       "      <td>GOYT is seeking a skilled and motivated Remote...</td>\n",
       "      <td>* Develop and maintain high-quality PHP code ...</td>\n",
       "    </tr>\n",
       "    <tr>\n",
       "      <th>7</th>\n",
       "      <td>About Revesco Properties:Revesco Properties is...</td>\n",
       "      <td>The ideal candidate has experience in developi...</td>\n",
       "      <td>* Develop and execute marketing plans and str...</td>\n",
       "    </tr>\n",
       "    <tr>\n",
       "      <th>8</th>\n",
       "      <td>SUMMARY:Manages operation and supervises all d...</td>\n",
       "      <td>Manages operation and supervises all departmen...</td>\n",
       "      <td>- Supervise all departmental distribution/cli...</td>\n",
       "    </tr>\n",
       "    <tr>\n",
       "      <th>9</th>\n",
       "      <td>Gordon Partners (www.gordonpartners.com) is se...</td>\n",
       "      <td>Position will work directly with both the dire...</td>\n",
       "      <td>- Maintain and grow the portfolio of owned an...</td>\n",
       "    </tr>\n",
       "  </tbody>\n",
       "</table>\n",
       "</div>"
      ],
      "text/plain": [
       "                                    job_posting_text  \\\n",
       "0  Job descriptionA leading real estate firm in N...   \n",
       "1  The National Exemplar is accepting application...   \n",
       "2  FULL JOB DESCRIPTION – PROGRAM DIRECTOR Appala...   \n",
       "3  A leading pharmaceutical company committed to ...   \n",
       "4  Application opening date: April 24, 2024\\nTitl...   \n",
       "5  Education Bachelor's degree in software, math,...   \n",
       "6  Job Description:GOYT is seeking a skilled and ...   \n",
       "7  About Revesco Properties:Revesco Properties is...   \n",
       "8  SUMMARY:Manages operation and supervises all d...   \n",
       "9  Gordon Partners (www.gordonpartners.com) is se...   \n",
       "\n",
       "                              extracted_tasks_flant5  \\\n",
       "0  Administrative Marketing Coordinator with some...   \n",
       "1  The National Exemplar is accepting application...   \n",
       "2  APPALACHIAN HIGHLANDS WOMEN’S BUSINESS CENTER ...   \n",
       "3  Develop and implement integrated marketing pla...   \n",
       "4  The Content Writer develops and disseminates i...   \n",
       "5  Analytical skills, group work, knowledge of in...   \n",
       "6  GOYT is seeking a skilled and motivated Remote...   \n",
       "7  The ideal candidate has experience in developi...   \n",
       "8  Manages operation and supervises all departmen...   \n",
       "9  Position will work directly with both the dire...   \n",
       "\n",
       "                             extracted_tasks_mistral  \n",
       "0   - Receive and organize marketing requests fro...  \n",
       "1   - Deliver high quality customer service\\n- Ma...  \n",
       "2   - Provide strategic direction for training pr...  \n",
       "3   - Develop integrated marketing plans for phar...  \n",
       "4   - Develop engaging content across various cha...  \n",
       "5   1. Possess a Bachelor's degree in software, m...  \n",
       "6   * Develop and maintain high-quality PHP code ...  \n",
       "7   * Develop and execute marketing plans and str...  \n",
       "8   - Supervise all departmental distribution/cli...  \n",
       "9   - Maintain and grow the portfolio of owned an...  "
      ]
     },
     "metadata": {},
     "output_type": "display_data"
    }
   ],
   "source": [
    "display(results_df)"
   ]
  },
  {
   "cell_type": "code",
   "execution_count": 18,
   "id": "d5dbd0a5-a0bc-4983-81a9-8ee97fab02d9",
   "metadata": {},
   "outputs": [
    {
     "data": {
      "text/plain": [
       "'SUMMARY:Manages operation and supervises all departmental distribution/clinical and educational activities; plans, controls, coordinates and measures the work of the department.ESSENTIAL FUNCTIONS:Manages staff; interviews, hires and trains; evaluates employee performance; deals with performance problems as appropriate; delegates work assignments effectively.Assists in managing department budget.Manages Pharmacy operations and coordinates functions with the needs of other departments. Oversees and manages drug purchases, information and review for drug interactions.Benchmarks pharmacy operations with local/regional and national solutions.Critically reviews the medical literature; collates and summarizes studies and makes recommendations to the appropriate party.Networks with hospital departments, takes input and in conjunction with Administration and Pharmacy Department to develop projects, and monitors their progress to completion.Monitors pharmacy payment methodologies and pharmacy systems to ensure accuracy and understanding by staff.Assimilates pharmacy/hospital projects into presentations that can be conveyed in an interesting and positive manner on the hospital’s behalf.Adheres to TMC organizational and department-specific safety, confidentiality, values policies and standards.Performs related duties assigned.MINIMUM QUALIFICATIONSEDUCATION: Graduate of AACP accredited College of Pharmacy; preferred Master’s degree in Pharmacy.EXPEREINCE: Five (5) years of pharmacy experience, preferably in a supervisory or lead role.LICENSURE OR CERTIFICATION: Current Pharmacist licensure in Arizona.\\n\\n\\n'"
      ]
     },
     "execution_count": 18,
     "metadata": {},
     "output_type": "execute_result"
    }
   ],
   "source": [
    "## Examine job posting 8 -- which has reasonable length \n",
    "results_df[\"job_posting_text\"][8]"
   ]
  },
  {
   "cell_type": "code",
   "execution_count": 19,
   "id": "fca4d2e9-1569-42f1-8203-b9604909490b",
   "metadata": {},
   "outputs": [
    {
     "data": {
      "text/plain": [
       "'Manages operation and supervises all departmental distribution/clinical and educational activities; plans, controls, coordinates and measures the work of the department. Oversees and manages drug purchases, information and review for drug interactions.Benchmarks pharmacy operations with local/regional and national solutions. Reviews the medical literature; collates and summarizes studies and makes recommendations to the appropriate party.Networks with hospital departments, takes input and in conjunction with Administration and Pharmacy Department to develop projects, and monitors their progress to completion. Monitors pharmacy payment methodologies and pharmacy systems to ensure accuracy and understanding by staff. Assimilates pharmacy/hospital projects into presentations that can be conveyed in an interesting and positive manner on the hospital’s behalf. Adheres to TMC organizational and department-specific safety, confidentiality, values policies and standards.Performs related duties assigned.'"
      ]
     },
     "execution_count": 19,
     "metadata": {},
     "output_type": "execute_result"
    }
   ],
   "source": [
    "results_df[\"extracted_tasks_flant5\"][8]"
   ]
  },
  {
   "cell_type": "code",
   "execution_count": 20,
   "id": "375ba5f9-7daa-4fd7-8de5-4cef14645897",
   "metadata": {},
   "outputs": [
    {
     "data": {
      "text/plain": [
       "' - Supervise all departmental distribution/clinical and educational activities\\n- Plan, control, coordinate, and measure the work of the department\\n- Manage staff (interview, hire, train)\\n- Evaluate employee performance and deal with performance problems as appropriate\\n- Delegate work assignments effectively\\n- Assist in managing department budget\\n- Manage Pharmacy operations and coordinate functions with other departments\\n- Oversees drug purchases, information, and review for drug interactions\\n- Benchmark pharmacy operations with local/regional and national solutions\\n- Critically review the medical literature, collate and summarize studies, make recommendations to appropriate parties\\n- Network with hospital departments and develop projects in conjunction with Administration and Pharmacy Department\\n- Monitor progress of pharmacy projects to completion\\n- Monitor pharmacy payment methodologies and pharmacy systems to ensure accuracy and understanding by staff\\n- Assimilate pharmacy/hospital projects into presentable formats\\n- Adhere to TMC organizational and department-specific safety, confidentiality, values policies and standards\\n- Perform related duties assigned'"
      ]
     },
     "execution_count": 20,
     "metadata": {},
     "output_type": "execute_result"
    }
   ],
   "source": [
    "results_df[\"extracted_tasks_mistral\"][8]"
   ]
  },
  {
   "cell_type": "code",
   "execution_count": 21,
   "id": "d706ee85-a25a-4506-886b-e481ff21e30c",
   "metadata": {},
   "outputs": [
    {
     "data": {
      "text/plain": [
       "\"FULL JOB DESCRIPTION – PROGRAM DIRECTOR Appalachian Highlands Women’s Business Center Kingsport, TennesseeDepartment: Kingsport Office of Small Business Development & Entrepreneurship (KOSBE)Reports to: Chief Business Development Officer, Kingsport Chamber - KOSBEDirect Reports: AppH-WBC StaffType of Position: DirectorWork Schedule: Full-Time (40 hours per week). Exempt Status: ExemptLocation: This is not a remote position, this is in office in Kingsport, Tenn. AppH-WBC is located in Kingsport, Tennessee, under the Kingsport Chamber and within the Kingsport Office of Small Business Development & Entrepreneurship (KOSBE). The office is within walking distance to downtown living, dining and shopping.ABOUT KOSBE:In 2004, the Kingsport Chamber and City of Kingsport jointly formed the Kingsport Office of Small Business Development & Entrepreneurship (KOSBE), to specifically nurture, counsel and encourage the continued robust growth and development of startups and existing small businesses in Kingsport, Tennessee. We are a technical assistance provider offering assistance including but not limited to: forming a business, how to write business plans, business plan reviews, obtaining capital for start-up or expansion, pursuing government contracts, analyzing financial and management performance, proving business case, developing existing and new business, and planning for succession.On February 15, 2011 the Kingsport Chamber announced the new partnership between KOSBE and the Tennessee Small BusinessFULL JOB DESCRIPTION – PROGRAM DIRECTOR Appalachian Highlands Women’s Business Center Kingsport, TennesseeDevelopment Center (TSBDC) becoming the TSBDC at ETSU Kingsport Affiliate Office. Through its affiliation with TSBDC at ETSU, the Kingsport Affiliate Office covers a wider service area, including Grainger, Hamblen, Hancock, Hawkins and Sullivan counties.ABOUT THE APPALACHIAN HIGHLANDS WOMEN’S BUSINESS CENTER:SBA Women's Business Centers (WBCs) are a part a national network of entrepreneurship centers throughout the United States and its territories, which are designed to assist women in starting and growing small businesses. The mission of the Appalachian Highlands Women’s Business Center (AppH-WBC) is to serve women-owned small business concerns and women entrepreneurs by:Providing business training and counselingFacilitating securing federal contracts and access to credit andcapitalConnecting clients to the full array of SBA resourcesPROGRAM HIGHLIGHTS:The Small Business Administration is a program partner and the primary funding agency for the AppH-WBC.A cooperative agreement exists between the funding partner and the Kingsport Chamber Foundation which details program goals, objectives and expected outcomes.The client and program service area includes 10 counties: Sullivan, Grainger, Hamblen, Hancock, Hawkins, Carter, Johnson, Greene, Washington and Unicoi. Primary servicing will be done in Kingsport, however, traveling to surrounding counties is also required when necessary.Collaboration between internal programs is expected, in addition to partnerships with community resources including state agencies, local municipalities and trade organizations.FULL JOB DESCRIPTION – PROGRAM DIRECTOR Appalachian Highlands Women’s Business Center Kingsport, Tennessee• This job requires occasional overnight travel including both in-state and out-of-state travel, and some weekend and evening hours. All travel by personal vehicle is reimbursed at current General Services Administration (GSA) per diem rates.ABOUT THIS ROLE:This position is responsible for the development training programs that address the needs of women and minority entrepreneurs. The position will manage human and financial resources of the organization to achieve the mission of the AppH-WBC. The position will develop and foster partnerships with other resource providers in the service area to offer collaborative, innovative and a comprehensive scope of services to meet the needs of the client.IN THIS ROLE, YOU WILL:Provide strategic direction and guidance in alignment with the AppH-WBC mission and vision.Develop and deliver training and counseling programs for women and minority entrepreneurs.Plan and oversee the execution of AppH-WBC’s conferences, seminars and education and training events across service area.Establish an advisory council that supports the AppH-WBC’s vision.Work with the Kingsport Chamber leadership and staff in support ofprogram operations and fiscal management.Oversee AppH-WBC financial reporting, approve expenditures, andmanage AppH-WBC budget.Provide performance reports and statistical activities to SBA asrequired and other groups as needed, ensuring deadlines are metand information is accurate.Manage all marketing and publishing campaigns, AppH-WBCnewsletters and marketing materials.Oversee the AppH-WBC client database.FULL JOB DESCRIPTION – PROGRAM DIRECTOR Appalachian Highlands Women’s Business Center Kingsport, TennesseeMaintain an effective record-keeping and reporting system to document various aspects of AppH-WBC services supplied to clients including specific workshops and training topics, and identification of client impact and outcomes.Provide oversight of the AppH-WBC website content in accordance with SBA guidelines.Provide oversight of performance of AppH-WBC personnel, private consultants, and contractors to ensure optimization of program resources.Establish a cohesive team, clearly communicating technical leadership and expertise, department mission, functions, and procedures focused on staff development and long-term succession planning.Identify and engage in program fundraising as approved by the Kingsport Chamber Foundation and SBA to sustain and grow AppH- WBC operations through sponsors, cooperative agreements, grants, and contract opportunities with public or private organizations.Develop, coordinate, and implement the overall marketing of AppH- WBC services to existing and potential clients, stakeholders, and community partners.Perform related duties and responsibilities as required. PERFORMANCE INDICATORS:Advisory Council: Identify relevant subject matter experts to serve in an advisory capacity to the AppH-WBC as advocates and ambassadors of the AppH-WBC and its programming.Partnerships and Engagement: Develop relationships in the service area to engage in the service offerings and to attract clients and resource partners to the AppH-WBC.Fundraising: Engage in fundraising activities in compliance with SBA guidelines to support the operations of the AppH-WBC, and to meet budget and match requirements.FULL JOB DESCRIPTION – PROGRAM DIRECTOR Appalachian Highlands Women’s Business Center Kingsport, Tennessee• Staff development and expectations: Create performance development plans in partnership with staff to promote a career growth strategy, and to optimize staff talent and employee well- being.DESIRED SKILLS AND EXPERIENCE:Program development.Higher education or relevant certificate program completion.Serial entrepreneur who has started, scaled, and exited multiplecompanies.An equivalent combination of education and experience sufficientto successfully perform the essential job duties may be considered.Demonstrated knowledge and experience of community economicdevelopment, Small Business counseling, business acumen andentrepreneurship, budget and financial statements.Excellent customer service & leadership skills.A demonstrated track record of successful project management.Self-starter and the ability to meet deadlines, manage timelines andbudgets.Demonstrated success in delivering high-quality work products on aconsistent, reliable basis.Highly organized and detail oriented.Proficiency with Microsoft products, Excel, Customer RelationshipManagement systems, Learning Management Systems, ProjectManagement tools, and social media platforms.Ability to take on responsibilities independently with generalsupervision.Ability to multi-task under deadlines and work well under pressure.Operates in confidentiality and integrity.Works collaboratively and serves as primary interface with variousstakeholders.FULL JOB DESCRIPTION – PROGRAM DIRECTOR Appalachian Highlands Women’s Business Center Kingsport, TennesseeExcellent oral and written communication skills; strong understanding of organizational behavior and design; strong interpersonal and relationship skills; and a proven ability to work with diverse communities, leaders, and staff.Strong facilitation, consensus building, and strategic thinking skills are required.Skilled at fundraising and can make the ask. WORK ENVIRONMENTPrivate office.Shared resource center and use of some shared office equipment.Shared conference space(s).Shared front desk receptionist.YOU CAN EXPECT:Salary commensurate with experience.Culture of camaraderie with a supportive environment wherecolleagues form genuine friendships.A competitive benefits package including paid time off and sickleave, health and dental insurance, life and long-term disability insurance, and a 401(k)-retirement plan with employer contributions (5%) and optional employee pre-tax contributions.A background check conditional for job offer.The Kingsport Chamber Foundation is an equal opportunityemployer.Professional development (mandatory attendance at industryconferences and training).HOW TO APPLY:For consideration, interested candidates must submit a resume to hr@kingsportchamber.org by May 3rd, 2024, 6:00 PM EDT. \\n\\nSkills/Qualifications: Two-year or four-year degree in business or marketing and 0—2 years of previous experience. Position requires outstanding verbal skills and the ability to handle multiple tasks. Must be proficient in Microsoft Word, Outlook, Excel, Power Point, and Constant Contact. Social media knowledge and some graphic design skills would be a definite advantage. \""
      ]
     },
     "execution_count": 21,
     "metadata": {},
     "output_type": "execute_result"
    }
   ],
   "source": [
    "## Examine job posting 2 -- which is very long \n",
    "results_df[\"job_posting_text\"][2]"
   ]
  },
  {
   "cell_type": "code",
   "execution_count": 22,
   "id": "a9450f28-d4a4-4848-8b49-b6a74f96e807",
   "metadata": {},
   "outputs": [
    {
     "data": {
      "text/plain": [
       "'APPALACHIAN HIGHLANDS WOMEN’S BUSINESS CENTER Kingsport, TennesseeDepartment: Kingsport Office of Small Business Development & Entrepreneurship (KOSBE)Reports to: Chief Business Development Officer, Kingsport Chamber - KOSBEDirect Reports: AppH-WBC StaffType of Position: DirectorWork Schedule: Full-Time (40 hours per week). Exempt Status: ExemptLocation: This is not a remote position, this in office in Kingsport, Tenn. AppH-WBC is located in Kingsport, Tenn. Under the Kingsport Chamber and within the Kingsport Office of Small Business Development & Entrepreneurship (KOSBE). The office is within walking distance to downtown living, dining and shopping.ABOUT KOSBE:In 2004, the Kingsport Chamber and City of Kingsport jointly formed the Kingsport Office of Small Business Development & Entrepreneurship (KOSBE), to specifically nurture, counsel and encourage the continued robust growth and development of startups and existing small businesses in Kingsport, Tennessee. We are a technical assistance provider offering assistance including but not limited to: forming a business, how to write business plans, business plan reviews, obtaining capital for start-up or expansion, pursuing government contracts, analyzing financial and management performance, proving business case, developing existing and new business, and planning for succession.On February'"
      ]
     },
     "execution_count": 22,
     "metadata": {},
     "output_type": "execute_result"
    }
   ],
   "source": [
    "results_df[\"extracted_tasks_flant5\"][2]"
   ]
  },
  {
   "cell_type": "code",
   "execution_count": 23,
   "id": "a694a6ce-7b9e-438d-a2f4-842f380bcebb",
   "metadata": {},
   "outputs": [
    {
     "data": {
      "text/plain": [
       "' - Provide strategic direction for training programs for women and minority entrepreneurs\\n- Develop and deliver training and counseling programs\\n- Plan and oversee the execution of conferences, seminars, and education and training events across service area\\n- Establish an advisory council to support the vision of the program\\n- Work with Kingsport Chamber leadership and staff in support of program operations and fiscal management\\n- Oversee financial reporting, approve expenditures, and manage budget\\n- Provide performance reports and statistical activities to SBA as required\\n- Maintain an effective record-keeping and reporting system\\n- Oversee the AppH-WBC client database\\n- Manage marketing and publishing campaigns, newsletters, and marketing materials\\n- Provide oversight of the AppH-WBC website content\\n- Oversee performance of personnel, private consultants, and contractors\\n- Establish a cohesive team and focus on staff development and long-term succession planning\\n- Identify and engage in program fundraising as approved by the Kingsport Chamber Foundation and SBA\\n- Develop, coordinate, and implement overall marketing strategies for AppH-WBC services\\n- Maintain confidentiality and integrity in work\\n- Operate collaboratively with various stakeholders\\n- Create performance development plans for staff to promote career growth\\n- Skills required: Excellent communication skills, understanding of organizational behavior and design, strong interpersonal and relationship skills, facilitation, consensus building, strategic thinking, fundraising skills, proficiency with Microsoft products, Excel, Customer Relationship Management systems, Learning Management Systems, Project Management tools, social media platforms.\\n- Must be able to multi-task under deadlines and work well under pressure.\\n- Social media knowledge and some graphic design skills would be advantageous.'"
      ]
     },
     "execution_count": 23,
     "metadata": {},
     "output_type": "execute_result"
    }
   ],
   "source": [
    "results_df[\"extracted_tasks_mistral\"][2]"
   ]
  },
  {
   "cell_type": "markdown",
   "id": "823aa2ee-eae9-408d-b957-c75533a217c9",
   "metadata": {},
   "source": [
    "### ✅ Summary:\n",
    "\n",
    "As demonstrated above, **mistral model via Ollama** outperforms the **flan-t5-large model** in extracting job tasks:\n",
    "\n",
    "* Mistral is **faster**, taking 4 minutes to process 10 job postings, compared to 6 minutes with flan-t5-large.\n",
    "* Mistral handles **much longer inputs**, while flan-t5-large has a 512-token limit. This causes input truncation, potentially missing tasks listed toward the end of a posting.\n",
    "* In terms of the **quality of \"extracted_tasks\"**, Mistral performs significantly better, especially for longer job postings (e.g. Job posting 2).\n",
    "\n",
    "‼️ Therefore, I decided to use the **Mistral** model to extract job tasks from all job postings. ‼️\n",
    "\n",
    "\n",
    "I became curious why Mistral via Ollama runs on my computer, while `HuggingFaceH4/zephyr-7b-beta` does not—despite both models having 7 billion parameters.\n",
    "* The reason is that Mistral via Ollama runs better on my Mac because it uses a **quantized** model, loaded with a lightweight C++ engine optimized for Apple Silicon (M1/M2). It uses less RAM. \n",
    "* whereas models from Hugging Face often run in full precision using PyTorch, which is heavy and not optimized for Mac.\n",
    "\n",
    "Below, I summarize the differences between Mistral and Flan-T5, with help from ChatGPT.\n",
    "\n",
    "\n",
    "#### Overview\n",
    "\n",
    "| Feature               | **Mistral**                            | **Flan-T5**                                   |\n",
    "|-----------------------|----------------------------------------|-----------------------------------------------|\n",
    "| **Type**              | Decoder-only (causal) transformer      | Encoder–decoder (seq2seq) transformer         |\n",
    "| **Architecture**      | Like GPT, LLaMA                        | Like T5, BART                                 |\n",
    "| **Pretraining Goal**  | Next-token prediction (causal LM)      | Masked span denoising + supervised finetune   |\n",
    "| **Instruction-tuned?**| ✅ Yes (`Mistral-Instruct`)            | ✅ Yes (`flan-t5-large`)                       |\n",
    "| **LLM?**              | ✅ Yes                                  | ✅ Yes                                         |\n",
    "\n",
    "So **Mistral** and **Flan-T5** are both LLMs, but they belong to different model families.\n",
    "\n",
    "\n",
    "#### Technical Differences\n",
    "\n",
    "| Dimension             | **Mistral-7B**                         | **Flan-T5-Large**                              |\n",
    "|-----------------------|----------------------------------------|------------------------------------------------|\n",
    "| **Size (parameters)** | 7 billion                              | ~780 million                                   |\n",
    "| **Architecture**      | Decoder-only (like GPT)                | Encoder-decoder (like T5)                      |\n",
    "| **Token limit**       | 8,192 tokens                           | 512 tokens                                     |\n",
    "| **Inference Style**   | Chat-style / Autoregressive            | Text-to-text generation                        |\n",
    "| **Speed on M1 Mac**   | Fast (if quantized via Ollama)         | Slow (RAM-heavy unless small)                  |\n",
    "| **Training**          | Trained from scratch (next-token)      | Finetuned on tasks/instructions                |\n",
    "| **Best for**          | Chat, long text generation             | Structured tasks (e.g., QA, summarization)     |\n",
    "\n",
    "\n",
    "#### Use Cases\n",
    "\n",
    "| Task                            | **Better Model**        | **Why?**                                        |\n",
    "|----------------------------------|--------------------------|--------------------------------------------------|\n",
    "| Long job posting task extraction | ✅ Mistral               | Handles long input + fast inference              |\n",
    "| Short-form classification task   | ✅ Flan-T5-Large         | Finetuned for instructions                       |\n",
    "| Few-shot chat completion         | ✅ Mistral               | Chat-style model with long context               |\n",
    "| Constrained output (e.g. JSON)   | ⚠️ Depends               | Flan-T5 better for structured formats            |\n"
   ]
  },
  {
   "cell_type": "code",
   "execution_count": null,
   "id": "44b87fd3-a7bf-4ad4-aa12-6d7b846fc792",
   "metadata": {},
   "outputs": [],
   "source": []
  }
 ],
 "metadata": {
  "kernelspec": {
   "display_name": "Python [conda env:py310-nlp]",
   "language": "python",
   "name": "conda-env-py310-nlp-py"
  },
  "language_info": {
   "codemirror_mode": {
    "name": "ipython",
    "version": 3
   },
   "file_extension": ".py",
   "mimetype": "text/x-python",
   "name": "python",
   "nbconvert_exporter": "python",
   "pygments_lexer": "ipython3",
   "version": "3.10.18"
  }
 },
 "nbformat": 4,
 "nbformat_minor": 5
}
