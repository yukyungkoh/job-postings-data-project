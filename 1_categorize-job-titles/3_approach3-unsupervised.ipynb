{
 "cells": [
  {
   "cell_type": "markdown",
   "id": "f4ff6349-62bf-4aed-93a9-c8dad798ce0b",
   "metadata": {},
   "source": [
    "# 1-3. Categorize job titles using unsupervised learning approach \n",
    "\n",
    "Job posting data is provided by: https://www.kaggle.com/datasets/arshkon/linkedin-job-postings\n",
    "\n",
    "Author: Yu Kyung Koh\n",
    "\n",
    "Last Updated: 2025/06/01\n",
    "\n",
    "In this code, I apply unsupervised learning methods (e.g., k-means clustering and LDA) to classify jobs.\n",
    "\n",
    "Unlike the code 1-2, I bring in ALL job postings, not just the ones for the selected white-collar jobs. "
   ]
  },
  {
   "cell_type": "code",
   "execution_count": 2,
   "id": "77c3bce7-9bde-4c93-aff7-52165789e39d",
   "metadata": {},
   "outputs": [
    {
     "name": "stderr",
     "output_type": "stream",
     "text": [
      "[nltk_data] Downloading package punkt to\n",
      "[nltk_data]     /Users/yukyungkoh/nltk_data...\n",
      "[nltk_data]   Package punkt is already up-to-date!\n",
      "[nltk_data] Downloading package stopwords to\n",
      "[nltk_data]     /Users/yukyungkoh/nltk_data...\n",
      "[nltk_data]   Package stopwords is already up-to-date!\n"
     ]
    },
    {
     "data": {
      "text/plain": [
       "True"
      ]
     },
     "execution_count": 2,
     "metadata": {},
     "output_type": "execute_result"
    }
   ],
   "source": [
    "import pandas as pd\n",
    "import numpy as np\n",
    "import os\n",
    "import re\n",
    "from sklearn.preprocessing import LabelEncoder\n",
    "import gensim\n",
    "from gensim import corpora\n",
    "from nltk.corpus import stopwords, wordnet\n",
    "from nltk.tokenize import word_tokenize\n",
    "from nltk.tokenize import TreebankWordTokenizer\n",
    "import nltk\n",
    "nltk.download('punkt')\n",
    "nltk.download('stopwords')"
   ]
  },
  {
   "cell_type": "code",
   "execution_count": 3,
   "id": "40bb6ec3-5f0b-4dee-b5ec-13d78af0b08e",
   "metadata": {},
   "outputs": [],
   "source": [
    "#from nltk.tokenize import word_tokenize\n",
    "#word_tokenize(\"This is a test.\")"
   ]
  },
  {
   "cell_type": "markdown",
   "id": "222fb9ac-67c3-49a7-9ed6-ebb1b0ca80a0",
   "metadata": {},
   "source": [
    "## SECTION 1: Prepare the job posting data"
   ]
  },
  {
   "cell_type": "code",
   "execution_count": 5,
   "id": "16013b96-a431-4f59-9d63-761a09173782",
   "metadata": {},
   "outputs": [
    {
     "name": "stdout",
     "output_type": "stream",
     "text": [
      "     job_id            company_name  \\\n",
      "0    921716   Corcoran Sawyer Smith   \n",
      "1   1829192                     NaN   \n",
      "2  10998357  The National Exemplar    \n",
      "3  23221523  Abrams Fensterman, LLP   \n",
      "4  35982263                     NaN   \n",
      "\n",
      "                                               title  work_type  \\\n",
      "0                              Marketing Coordinator  FULL_TIME   \n",
      "1                  Mental Health Therapist/Counselor  FULL_TIME   \n",
      "2                        Assitant Restaurant Manager  FULL_TIME   \n",
      "3  Senior Elder Law / Trusts and Estates Associat...  FULL_TIME   \n",
      "4                                 Service Technician  FULL_TIME   \n",
      "\n",
      "   normalized_salary                                      combined_desc  \n",
      "0            38480.0  Job descriptionA leading real estate firm in N...  \n",
      "1            83200.0  At Aspen Therapy and Wellness , we are committ...  \n",
      "2            55000.0  The National Exemplar is accepting application...  \n",
      "3           157500.0  Senior Associate Attorney - Elder Law / Trusts...  \n",
      "4            70000.0  Looking for HVAC service tech with experience ...  \n"
     ]
    }
   ],
   "source": [
    "## Import the full job posting data (including all occupation)\n",
    "cleandatadir = '/Users/yukyungkoh/Desktop/1_Post-PhD/7_Python-projects/2_practice-NLP_job-posting_NEW/2_data/cleaned_data'\n",
    "jobdata = os.path.join(cleandatadir, '0_job-posting_all.csv')\n",
    "jobs_df = pd.read_csv(jobdata)\n",
    "print(jobs_df.head()) "
   ]
  },
  {
   "cell_type": "code",
   "execution_count": 6,
   "id": "a278d219-25cc-4af5-8072-c4df02f8472d",
   "metadata": {},
   "outputs": [
    {
     "data": {
      "text/plain": [
       "123849"
      ]
     },
     "execution_count": 6,
     "metadata": {},
     "output_type": "execute_result"
    }
   ],
   "source": [
    "len(jobs_df)"
   ]
  },
  {
   "cell_type": "code",
   "execution_count": 7,
   "id": "0075f656-2a10-4265-9967-e386795a1838",
   "metadata": {},
   "outputs": [],
   "source": [
    "# Drop missing\n",
    "jobs_df = jobs_df.dropna(subset=['combined_desc', 'title'])"
   ]
  },
  {
   "cell_type": "code",
   "execution_count": 8,
   "id": "38d239b9-d260-4a4c-8fa8-454879f0c048",
   "metadata": {},
   "outputs": [
    {
     "data": {
      "text/plain": [
       "123849"
      ]
     },
     "execution_count": 8,
     "metadata": {},
     "output_type": "execute_result"
    }
   ],
   "source": [
    "len(jobs_df) ## there was no missing job description or title "
   ]
  },
  {
   "cell_type": "code",
   "execution_count": 9,
   "id": "ef31d886-0fdc-4ab1-8097-38fadc4d8085",
   "metadata": {},
   "outputs": [],
   "source": [
    "## Combine job title and job description \n",
    "jobs_df['all_text'] = jobs_df['title'].fillna('') + ' ' + jobs_df['combined_desc'].fillna('')"
   ]
  },
  {
   "cell_type": "code",
   "execution_count": 10,
   "id": "c4a08d35-00bd-4ef2-a259-77ad25280333",
   "metadata": {},
   "outputs": [
    {
     "name": "stderr",
     "output_type": "stream",
     "text": [
      "[nltk_data] Downloading package averaged_perceptron_tagger_eng to\n",
      "[nltk_data]     /Users/yukyungkoh/nltk_data...\n",
      "[nltk_data]   Package averaged_perceptron_tagger_eng is already up-to-\n",
      "[nltk_data]       date!\n",
      "[nltk_data] Downloading package wordnet to\n",
      "[nltk_data]     /Users/yukyungkoh/nltk_data...\n",
      "[nltk_data]   Package wordnet is already up-to-date!\n",
      "[nltk_data] Downloading package omw-1.4 to\n",
      "[nltk_data]     /Users/yukyungkoh/nltk_data...\n",
      "[nltk_data]   Package omw-1.4 is already up-to-date!\n"
     ]
    }
   ],
   "source": [
    "## ------------------------------------\n",
    "## Lowercase, tokenize, and POS-tag\n",
    "## ------------------------------------\n",
    "import nltk\n",
    "from nltk.stem import WordNetLemmatizer\n",
    "nltk.download('averaged_perceptron_tagger_eng')\n",
    "nltk.download('wordnet')\n",
    "nltk.download('omw-1.4')\n",
    "\n",
    "# Initialize tokenizer and stopwords\n",
    "tokenizer = TreebankWordTokenizer()\n",
    "lemmatizer = WordNetLemmatizer()\n",
    "stop_words = set(stopwords.words('english'))\n",
    "\n",
    "# Add custom stopwords\n",
    "custom_stopwords = {\"please\", \"required\"}  # Add any custom terms here\n",
    "stop_words.update(custom_stopwords)\n",
    "\n",
    "# Helper: convert NLTK POS tag to WordNet POS tag (Necessary to perform accurate lemmatization using WordNetLemmatizer)\n",
    "def get_wordnet_pos(treebank_tag):\n",
    "    if treebank_tag.startswith('J'):\n",
    "        return wordnet.ADJ\n",
    "    elif treebank_tag.startswith('V'):\n",
    "        return wordnet.VERB\n",
    "    elif treebank_tag.startswith('N'):\n",
    "        return wordnet.NOUN\n",
    "    elif treebank_tag.startswith('R'):\n",
    "        return wordnet.ADV\n",
    "    else:\n",
    "        return wordnet.NOUN  # default fallback\n",
    "\n",
    "\n",
    "# Define the full preprocessing function\n",
    "def preprocess(text):\n",
    "    # Step 1: Lowercase and tokenize\n",
    "    tokens = tokenizer.tokenize(text.lower())\n",
    "\n",
    "    # Step 2: Remove stopwords and non-alphabetic tokens\n",
    "    tokens = [word for word in tokens if word.isalpha() and word not in stop_words]\n",
    "\n",
    "    # Step 3: POS tagging\n",
    "    tagged = nltk.pos_tag(tokens)\n",
    "\n",
    "    # Step 4: Keep only nouns and verbs, and lemmatize\n",
    "    lemmatized = [\n",
    "        lemmatizer.lemmatize(word, get_wordnet_pos(pos))\n",
    "        for word, pos in tagged\n",
    "        if pos.startswith('NN') or pos.startswith('VB')\n",
    "    ]\n",
    "    \n",
    "    return lemmatized\n",
    "\n",
    "# Apply preprocessing to all job postings\n",
    "tokenized_docs = jobs_df['all_text'].fillna('').apply(preprocess)"
   ]
  },
  {
   "cell_type": "markdown",
   "id": "3cd59c03-1021-4fa9-9c26-cd8d3a5d2d99",
   "metadata": {},
   "source": [
    "## SECTION 2: K-means clustering - Based on TF-IDF\n",
    "\n",
    "In this section, I will use K-means clustering method to categorize job postings to 20 distinct categories. "
   ]
  },
  {
   "cell_type": "code",
   "execution_count": 12,
   "id": "d64fe6d6-61e9-4790-8733-f8b12f85dc95",
   "metadata": {},
   "outputs": [
    {
     "name": "stdout",
     "output_type": "stream",
     "text": [
      "(123849, 10000)\n"
     ]
    }
   ],
   "source": [
    "## --------------------------------------\n",
    "## STEP 1: Vectorize Text with TF-IDF\n",
    "## --------------------------------------\n",
    "## Note: \n",
    "##  - K-means only works on numerical data. Hence, need to convert text into numerical representations\n",
    "\n",
    "from sklearn.feature_extraction.text import TfidfVectorizer\n",
    "\n",
    "vectorizer = TfidfVectorizer(max_features=10000, \n",
    "                             stop_words='english', \n",
    "                             ngram_range=(1, 2))\n",
    "X_tfidf = vectorizer.fit_transform(jobs_df['all_text'])\n",
    "print(X_tfidf.shape)  ## (123849, 10000) => 123849 postings and 10000 most important uni/bigrams "
   ]
  },
  {
   "cell_type": "code",
   "execution_count": 13,
   "id": "57c53c71-8edd-4234-b7ea-36abf7a5bf02",
   "metadata": {},
   "outputs": [],
   "source": [
    "## --------------------------------------\n",
    "## STEP 2: Apply K-Means\n",
    "## --------------------------------------\n",
    "from sklearn.cluster import KMeans\n",
    "\n",
    "k = 20  # 10 clusters\n",
    "kmeans_tfidf = KMeans(n_clusters=k, random_state=42)\n",
    "jobs_df['kmeans_tfidf_cluster'] = kmeans_tfidf.fit_predict(X_tfidf)"
   ]
  },
  {
   "cell_type": "code",
   "execution_count": 14,
   "id": "9cf54c55-b574-421a-aeda-861c33128da8",
   "metadata": {},
   "outputs": [
    {
     "name": "stdout",
     "output_type": "stream",
     "text": [
      "🔹 Top 10 most common titles per cluster:\n",
      "\n",
      " Cluster 0 (Total jobs: 14678):\n",
      "title\n",
      "Receptionist                                    135\n",
      "Package Handler - Part Time (Warehouse like)    112\n",
      "Board Certified Behavior Analyst (BCBA)          69\n",
      "Auto Glass Installation Technician Trainee       59\n",
      "Customer Service Representative                  50\n",
      "Administrative Assistant                         49\n",
      "Behavior Technician                              40\n",
      "Automotive Technician                            38\n",
      "Phlebotomist                                     37\n",
      "Deli Production Team Member                      35\n",
      "Name: count, dtype: int64\n",
      "\n",
      " Cluster 1 (Total jobs: 1825):\n",
      "title\n",
      "TEACHER-SPECIAL EDUCATION             53\n",
      "TEACHER-SCIENCE                       42\n",
      "Graduate Program                      29\n",
      "TEACHER-SOCIAL STUDIES                18\n",
      "Assistant Manager Student Services    13\n",
      "Lead Teacher                          13\n",
      "Teacher                               12\n",
      "Special Education Teacher             12\n",
      "Assistant Teacher                     11\n",
      "TEACHER-COMPUTER                      10\n",
      "Name: count, dtype: int64\n",
      "\n",
      " Cluster 2 (Total jobs: 11387):\n",
      "title\n",
      "Registered Nurse           144\n",
      "Patient Care Technician    110\n",
      "Medical Assistant           90\n",
      "Physical Therapist          88\n",
      "Nurse Practitioner          86\n",
      "Dental Assistant            51\n",
      "Physician Assistant         45\n",
      "Medical Director            36\n",
      "Phlebotomist                32\n",
      "CT Technologist             32\n",
      "Name: count, dtype: int64\n",
      "\n",
      " Cluster 3 (Total jobs: 3313):\n",
      "title\n",
      "Marketing Manager                            66\n",
      "Marketing Coordinator                        50\n",
      "Marketing Assistant                          41\n",
      "Marketing Intern                             36\n",
      "Social Media Manager                         34\n",
      "Marketing Specialist                         34\n",
      "Graphic Designer                             33\n",
      "Marketing Director                           27\n",
      "Marketing And Public Relations Specialist    26\n",
      "Digital Marketing Manager                    25\n",
      "Name: count, dtype: int64\n",
      "\n",
      " Cluster 4 (Total jobs: 8538):\n",
      "title\n",
      "Software Engineer           161\n",
      "Senior Software Engineer    147\n",
      "Network Engineer             56\n",
      "Frontend Developer           55\n",
      "Full Stack Engineer          54\n",
      "Software Developer           54\n",
      "DevOps Engineer              53\n",
      "Back End Developer           52\n",
      "Web Developer                41\n",
      "Data Analyst                 39\n",
      "Name: count, dtype: int64\n",
      "\n",
      " Cluster 5 (Total jobs: 7140):\n",
      "title\n",
      "Account Executive                   135\n",
      "Outside Sales Representative        132\n",
      "Sales Executive                     123\n",
      "Sales Specialist                    112\n",
      "Business Development Manager        106\n",
      "Sales Representative                104\n",
      "Inside Sales Representative          95\n",
      "Salesperson                          83\n",
      "Sales Development Representative     76\n",
      "Account Manager                      75\n",
      "Name: count, dtype: int64\n",
      "\n",
      " Cluster 6 (Total jobs: 598):\n",
      "title\n",
      "Sales Manager                   592\n",
      "Business Development Manager      4\n",
      "VP of Sales                       2\n",
      "Name: count, dtype: int64\n",
      "\n",
      " Cluster 7 (Total jobs: 1501):\n",
      "title\n",
      "Cyber Security Engineer                                  20\n",
      "Security Engineer                                        15\n",
      "Security Officer                                         14\n",
      "Manager, Information Security Office (ISO) Consultant    13\n",
      "Information Security Analyst                             10\n",
      "Cyber Security Analyst                                   10\n",
      "Information Security Engineer                            10\n",
      "Armed Security Officer                                   10\n",
      "Account Manager                                           9\n",
      "Security Architect                                        8\n",
      "Name: count, dtype: int64\n",
      "\n",
      " Cluster 8 (Total jobs: 21079):\n",
      "title\n",
      "Administrative Assistant                    177\n",
      "Executive Assistant                         169\n",
      "Customer Service Representative             155\n",
      "Associate Attorney                           96\n",
      "Licensed Therapist for Online Counseling     94\n",
      "General Manager                              67\n",
      "Restaurant Manager                           66\n",
      "Paralegal                                    58\n",
      "Receptionist                                 50\n",
      "Attorney                                     47\n",
      "Name: count, dtype: int64\n",
      "\n",
      " Cluster 9 (Total jobs: 5496):\n",
      "title\n",
      "Electrical Engineer           119\n",
      "Manufacturing Engineer         87\n",
      "Mechanical Engineer            79\n",
      "Quality Engineer               66\n",
      "Process Engineer               56\n",
      "Structural Engineer            42\n",
      "Design Engineer                38\n",
      "Senior Electrical Engineer     37\n",
      "Senior Mechanical Engineer     36\n",
      "Project Engineer               36\n",
      "Name: count, dtype: int64\n",
      "\n",
      " Cluster 10 (Total jobs: 2865):\n",
      "title\n",
      "Financial Advisor                                               90\n",
      "Mortgage Loan Officer                                           79\n",
      "US Experienced Financial Advisor                                69\n",
      "Relationship Banker                                             35\n",
      "Teller                                                          31\n",
      "Customer Service Representative- Bilingual Spanish Preferred    19\n",
      "Branch Manager                                                  18\n",
      "Branch Office Administrator                                     16\n",
      "Universal Banker                                                16\n",
      "Financial Representative                                        13\n",
      "Name: count, dtype: int64\n",
      "\n",
      " Cluster 11 (Total jobs: 3467):\n",
      "title\n",
      "Registered Nurse - RN - LTAC         130\n",
      "Certified Nursing Assistant (CNA)     75\n",
      "Registered Nurse (RN)                 48\n",
      "Registered Nurse                      46\n",
      "HOSPICE REGISTERED NURSE              44\n",
      "Licensed Practical Nurse (LPN)        42\n",
      "LPN Licensed Practical Nurse          38\n",
      "Med-Surg Registered Nurse             37\n",
      "Nurse - LPN - LTC                     32\n",
      "Emergency Room Registered Nurse       32\n",
      "Name: count, dtype: int64\n",
      "\n",
      " Cluster 12 (Total jobs: 476):\n",
      "title\n",
      "Global Account Manager                              73\n",
      "National Account Manager                            20\n",
      "Regional Account Manager                            17\n",
      "Service Delivery Coordinator, Washington, DC        16\n",
      "Cash Application Analyst – Washington DC            16\n",
      "Sales Manager-DET                                   15\n",
      "Customer Support Engineer –Herndon, VA              10\n",
      "Financial Contract Analyst – Overland Park KS       10\n",
      "Data Center Operations Manager-Houston Texas         9\n",
      "Director, Information Technology - Washington DC     9\n",
      "Name: count, dtype: int64\n",
      "\n",
      " Cluster 13 (Total jobs: 10831):\n",
      "title\n",
      "Maintenance Technician    142\n",
      "Service Technician         98\n",
      "Salesperson                97\n",
      "Store Driver               70\n",
      "Warehouse Associate        59\n",
      "Material Handler           58\n",
      "Maintenance Supervisor     50\n",
      "Maintenance Manager        49\n",
      "Production Supervisor      42\n",
      "Maintenance Mechanic       34\n",
      "Name: count, dtype: int64\n",
      "\n",
      " Cluster 14 (Total jobs: 997):\n",
      "title\n",
      "Sales Associate                                                  59\n",
      "Retail Sales – Part Time                                         36\n",
      "Warehouse Part Time Overnight                                    36\n",
      "Part Time - Fulfillment Associate - Flexible                     33\n",
      "Part Time - Head Cashier - Flexible                              30\n",
      "Junior Groomer                                                   28\n",
      "Groomer                                                          26\n",
      "Seasonal Merchandising Service Associate - Weekends Preferred    24\n",
      "Housekeeper                                                      23\n",
      "Full Time - Head Cashier - Day                                   21\n",
      "Name: count, dtype: int64\n",
      "\n",
      " Cluster 15 (Total jobs: 3538):\n",
      "title\n",
      "Project Manager                     310\n",
      "Senior Project Manager               86\n",
      "Construction Project Manager         76\n",
      "Project Engineer                     62\n",
      "Construction Superintendent          54\n",
      "Test Development Project Manager     51\n",
      "Construction Manager                 40\n",
      "Assistant Project Manager            39\n",
      "Technical Project Manager            31\n",
      "Construction Estimator               29\n",
      "Name: count, dtype: int64\n",
      "\n",
      " Cluster 16 (Total jobs: 4022):\n",
      "title\n",
      "Senior Accountant              234\n",
      "Staff Accountant               197\n",
      "Controller                     167\n",
      "Accounting Manager             121\n",
      "Accountant                     119\n",
      "Financial Analyst               76\n",
      "Tax Manager                     71\n",
      "Accounts Payable Specialist     49\n",
      "Senior Financial Analyst        48\n",
      "Assistant Controller            44\n",
      "Name: count, dtype: int64\n",
      "\n",
      " Cluster 17 (Total jobs: 12980):\n",
      "title\n",
      "Business Analyst                    84\n",
      "Human Resources Manager             65\n",
      "Human Resources Generalist          63\n",
      "Product Manager                     53\n",
      "Human Resources Business Partner    45\n",
      "Operations Manager                  44\n",
      "Program Manager                     43\n",
      "Customer Success Manager            36\n",
      "Account Manager                     28\n",
      "General Manager                     27\n",
      "Name: count, dtype: int64\n",
      "\n",
      " Cluster 18 (Total jobs: 2518):\n",
      "title\n",
      "Data Analyst             89\n",
      "Data Engineer            73\n",
      "Data Scientist           50\n",
      "Senior Data Engineer     33\n",
      "Data Architect           23\n",
      "Senior Data Analyst      23\n",
      "Business Analyst         22\n",
      "Senior Data Scientist    19\n",
      "Data Modeler             17\n",
      "Power BI Developer       14\n",
      "Name: count, dtype: int64\n",
      "\n",
      " Cluster 19 (Total jobs: 6600):\n",
      "title\n",
      "ASSISTANT STORE MANAGER            161\n",
      "Store Manager                      155\n",
      "Assistant Store Manager            145\n",
      "Retail Sales Associate             116\n",
      "Customer Service Representative    115\n",
      "OPERATIONS ASSISTANT MANAGER       114\n",
      "CUSTOMER SERVICE REPRESENTATIVE    107\n",
      "Assistant Manager                  102\n",
      "Team Member                         78\n",
      "Seasonal Sales Associate            77\n",
      "Name: count, dtype: int64\n"
     ]
    }
   ],
   "source": [
    "## --------------------------------------\n",
    "## STEP 3: Examine Cluster Results \n",
    "## --------------------------------------\n",
    "print(\"🔹 Top 10 most common titles per cluster:\")\n",
    "for i in range(k):\n",
    "    cluster_df = jobs_df[jobs_df['kmeans_tfidf_cluster'] == i]\n",
    "    total_in_cluster = len(cluster_df)\n",
    "    print(f\"\\n Cluster {i} (Total jobs: {total_in_cluster}):\")\n",
    "    print(cluster_df['title'].value_counts().head(10))"
   ]
  },
  {
   "cell_type": "code",
   "execution_count": 15,
   "id": "2887de06-780b-44ee-8d62-c47878f81b30",
   "metadata": {},
   "outputs": [
    {
     "data": {
      "text/plain": [
       "kmeans_tfidf_cluster\n",
       "8     21079\n",
       "0     14678\n",
       "17    12980\n",
       "2     11387\n",
       "13    10831\n",
       "4      8538\n",
       "5      7140\n",
       "19     6600\n",
       "9      5496\n",
       "16     4022\n",
       "15     3538\n",
       "11     3467\n",
       "3      3313\n",
       "10     2865\n",
       "18     2518\n",
       "1      1825\n",
       "7      1501\n",
       "14      997\n",
       "6       598\n",
       "12      476\n",
       "Name: count, dtype: int64"
      ]
     },
     "execution_count": 15,
     "metadata": {},
     "output_type": "execute_result"
    }
   ],
   "source": [
    "## Counting the number of job postings in each cluster\n",
    "jobs_df['kmeans_tfidf_cluster'].value_counts()"
   ]
  },
  {
   "cell_type": "code",
   "execution_count": 16,
   "id": "130b65aa-d12b-4db7-a2bd-6afed5003922",
   "metadata": {},
   "outputs": [
    {
     "data": {
      "text/plain": [
       "123849"
      ]
     },
     "execution_count": 16,
     "metadata": {},
     "output_type": "execute_result"
    }
   ],
   "source": [
    "int(jobs_df['kmeans_tfidf_cluster'].value_counts().sum()) ## Adds up to the total # of job postings "
   ]
  },
  {
   "cell_type": "code",
   "execution_count": 17,
   "id": "8eca9f70-a9f3-4229-9241-aac16cd0aa8d",
   "metadata": {},
   "outputs": [
    {
     "name": "stdout",
     "output_type": "stream",
     "text": [
      "Cluster 0: status | work | employment | experience | information | gender | job | benefits | disability | employees\n",
      "Cluster 1: students | student | teacher | school | learning | teaching | classroom | teachers | education | curriculum\n",
      "Cluster 2: care | patient | patients | health | medical | nursing | clinical | patient care | nurse | hospital\n",
      "Cluster 3: marketing | media | content | digital | social | social media | campaigns | brand | creative | team\n",
      "Cluster 4: experience | software | cloud | developer | development | technical | design | engineer | systems | solutions\n",
      "Cluster 5: sales | customer | business | customers | account | new | territory | experience | team | company\n",
      "Cluster 6: galt | earnings | sales | credit | business | personal | figure | memberships | business owners | sales manager\n",
      "Cluster 7: security | securitas | cyber | information security | cybersecurity | information | experience | network | systems | cloud\n",
      "Cluster 8: experience | work | service | team | time | skills | job | customer | office | company\n",
      "Cluster 9: engineering | design | engineer | electrical | manufacturing | experience | project | systems | technical | mechanical\n",
      "Cluster 10: financial | capital | bank | banking | risk | clients | branch | client | business | credit\n",
      "Cluster 11: nursing | nurse | rn | care | registered nurse | registered | healthcare | liberty | patients | careerstaff\n",
      "Cluster 12: cogent | ip | vaccination | cogent communications | network | networks world | mandatory vaccination | facilities based | booster | policy\n",
      "Cluster 13: equipment | maintenance | work | safety | required | ability | job | perform | duties | company\n",
      "Cluster 14: lowe | en | petco | merchandise | store | la | customers | el | pet | pets\n",
      "Cluster 15: project | construction | project manager | projects | management | manager | project management | experience | work | engineering\n",
      "Cluster 16: accounting | financial | tax | accountant | finance | reporting | accounts | experience | controller | degree accounting\n",
      "Cluster 17: business | management | experience | team | work | product | development | skills | support | ability\n",
      "Cluster 18: data | analytics | experience | business | sql | analysis | science | bi | analyst | etl\n",
      "Cluster 19: store | customer | sales | retail | store manager | customers | merchandise | manager | service | associates\n"
     ]
    }
   ],
   "source": [
    "## --------------------------------------\n",
    "## STEP 4: Inspect words per cluster\n",
    "## --------------------------------------\n",
    "##  Here, I print out the top 10 most important terms associated with each cluster\n",
    "##  to better understand what each K-means cluster represents  \n",
    "import numpy as np\n",
    "\n",
    "## Get the list of all words/phrases (features) used in the TF-IDF matrix\n",
    "terms = vectorizer.get_feature_names_out()  \n",
    "\n",
    "## Sort the indices of terms by importance (TF-IDF weight) \n",
    "order_centroids = kmeans_tfidf.cluster_centers_.argsort()[:, ::-1]\n",
    "\n",
    "for i in range(k):\n",
    "    top_terms = [terms[ind] for ind in order_centroids[i, :10]]\n",
    "    print(f\"Cluster {i}: {' | '.join(top_terms)}\")"
   ]
  },
  {
   "cell_type": "markdown",
   "id": "29ed5ed1-92f6-4169-8cc8-7aad93562a8c",
   "metadata": {},
   "source": [
    "## SECTION 3: K-means Clustering - Based on embeddings\n",
    "\n",
    "#### 🔍 Differences between TF-IDF and Embeddings\n",
    "\n",
    "* **TF-IDF**: Represents text as a sparse bag-of-words vector, capturing term frequency and distinctiveness across documents.\n",
    "* **Embeddings**: Capture semantic meaning of entire sentences or documents using dense vectors trained on large corpora (e.g., BERT, MiniLM).\n",
    "\n",
    "#### 🔍 How clustering works using each method\n",
    "\n",
    "1. **TF-IDF Representation**\n",
    "   \n",
    "* Each posting is a sparse vector with thousands of dimensions:\n",
    "    * “Python” and “Spark” may appear in both job 1 and 4, but there's no understanding that they're related tools.\n",
    "    * “Business” and “Sales” are treated as totally unrelated, even though the roles might overlap.\n",
    "   * Postings with rare but unique words like \"Kubernetes\" or \"Salesforce\" get undue weight.\n",
    "* Implication:\n",
    "  * Data Analyst and Software Engineer may end up closer together than Data Analyst and Data Scientist — because they both mention Python.\n",
    "  * K-means can separate clusters, but based on word overlap, **not meaning**.\n",
    "\n",
    "2. **Embedding Representation**    ✅ Better version!\n",
    "   \n",
    "* Each posting is a dense vector (e.g., 384 dims), where:\n",
    "    * “Data Analyst” and “Data Scientist” are semantically close (they both involve data analysis, Python, modeling).\n",
    "    * “Sales Representative” and “Business Analyst” are closer than in TF-IDF — both involve interpersonal and business tasks.\n",
    "    * “Kubernetes” and “backend engineering” are captured as part of the software development domain.\n",
    "* Implication:\n",
    "    * K-means clusters are now formed **based on semantic similarity**, not just word overlap.\n",
    "    * Data Roles are grouped together even if they don't share identical keywords."
   ]
  },
  {
   "cell_type": "code",
   "execution_count": 19,
   "id": "1da65728-78f6-44b4-b393-916db0546a44",
   "metadata": {
    "scrolled": true
   },
   "outputs": [
    {
     "name": "stderr",
     "output_type": "stream",
     "text": [
      "/opt/anaconda3/envs/lda_env/lib/python3.10/site-packages/tqdm/auto.py:21: TqdmWarning: IProgress not found. Please update jupyter and ipywidgets. See https://ipywidgets.readthedocs.io/en/stable/user_install.html\n",
      "  from .autonotebook import tqdm as notebook_tqdm\n",
      "Batches: 100%|██████████████████████████████| 3871/3871 [16:12<00:00,  3.98it/s]\n"
     ]
    }
   ],
   "source": [
    "## --------------------------------------\n",
    "## STEP 1:  Generate Sentence Embeddings\n",
    "## --------------------------------------\n",
    "from sentence_transformers import SentenceTransformer\n",
    "\n",
    "# Load a compact but strong model\n",
    "model = SentenceTransformer('all-MiniLM-L6-v2')\n",
    "\n",
    "# Encode all job postings (title + description or just title)\n",
    "embeddings = model.encode(jobs_df['all_text'].tolist(), show_progress_bar=True)\n"
   ]
  },
  {
   "cell_type": "markdown",
   "id": "7cedfb65-ec17-4f71-bb12-2948905a0c35",
   "metadata": {},
   "source": [
    "#### Note:\n",
    "\n",
    "* `embeddings = model.encode(jobs_df['all_text'].tolist(), show_progress_bar=True)`\n",
    "  * This line is using a pretrained sentence transformer model (like all-MiniLM-L6-v2) to generate semantic embeddings — i.e., dense vector representations — for each job posting in the dataset.\n",
    "  * Specifically, `model.encode(...)` passes the list of job posting to the model. The model:\n",
    "    * tokenizes each string\n",
    "    * passes it through the neural network (MiniLM/BERT)\n",
    "    * returns a fixed-length vector (e.g., 384 dimensions) for each string\n",
    "  * Each of the 384 dimensions (columns) in the embedding is a latent feature, learned by the transformer model, that capture\n",
    "    * Semantic patterns across words and sentences\n",
    "    * Syntactic structure\n",
    "    * Topic and tone\n",
    "    * Context-dependent relationships between words\n",
    "  * This is **unlike TF-IDF**, which stores a unique unigram/bigram in each column"
   ]
  },
  {
   "cell_type": "code",
   "execution_count": 100,
   "id": "e6a63b58-a315-4087-8e17-e6410356f30e",
   "metadata": {},
   "outputs": [
    {
     "name": "stdout",
     "output_type": "stream",
     "text": [
      "(123849, 384)\n"
     ]
    }
   ],
   "source": [
    "print(embeddings.shape)"
   ]
  },
  {
   "cell_type": "code",
   "execution_count": 20,
   "id": "ac7a2867-cf90-4cbe-b900-f7fe143fc3c4",
   "metadata": {},
   "outputs": [],
   "source": [
    "## --------------------------------------\n",
    "## STEP 2: Run KMeans on Embeddings\n",
    "## --------------------------------------\n",
    "from sklearn.cluster import KMeans\n",
    "\n",
    "# Define number of clusters\n",
    "num_clusters = 20\n",
    "\n",
    "# Run KMeans\n",
    "kmeans_embed = KMeans(n_clusters=num_clusters, random_state=42, n_init='auto')\n",
    "cluster_labels = kmeans_embed.fit_predict(embeddings)\n",
    "\n",
    "# Add cluster labels to the DataFrame\n",
    "jobs_df['kmeans_embed_cluster'] = cluster_labels"
   ]
  },
  {
   "cell_type": "code",
   "execution_count": 21,
   "id": "c007c60f-162b-4be4-9335-eda3197ed264",
   "metadata": {},
   "outputs": [
    {
     "name": "stdout",
     "output_type": "stream",
     "text": [
      "🔹 Top 10 most common titles per cluster:\n",
      "\n",
      " Cluster 0 (Total jobs: 5765):\n",
      "title\n",
      "Global Account Manager                          73\n",
      "Automotive Technician                           30\n",
      "National Account Manager                        21\n",
      "Outside Sales Representative                    19\n",
      "Automotive Maintenance Technician               19\n",
      "Sales Representative                            17\n",
      "Regional Account Manager                        17\n",
      "Cash Application Analyst – Washington DC        16\n",
      "Service Delivery Coordinator, Washington, DC    16\n",
      "Sales Manager-DET                               15\n",
      "Name: count, dtype: int64\n",
      "\n",
      " Cluster 1 (Total jobs: 5352):\n",
      "title\n",
      "Salesperson              97\n",
      "Store Driver             70\n",
      "Warehouse Associate      62\n",
      "Material Handler         48\n",
      "Production Supervisor    42\n",
      "Warehouse Manager        32\n",
      "Warehouse Supervisor     31\n",
      "salesperson              29\n",
      "Logistics Coordinator    27\n",
      "Operations Manager       27\n",
      "Name: count, dtype: int64\n",
      "\n",
      " Cluster 2 (Total jobs: 4784):\n",
      "title\n",
      "Sales Associate                72\n",
      "Restaurant Manager             69\n",
      "Cook                           68\n",
      "General Manager                61\n",
      "Line Cook                      52\n",
      "Housekeeper                    49\n",
      "Dishwasher                     47\n",
      "Server                         37\n",
      "Deli Production Team Member    35\n",
      "Deli Associate                 34\n",
      "Name: count, dtype: int64\n",
      "\n",
      " Cluster 3 (Total jobs: 2829):\n",
      "title\n",
      "TEACHER-SPECIAL EDUCATION                          53\n",
      "TEACHER-SCIENCE                                    42\n",
      "Graduate Program                                   29\n",
      "TEACHER-SOCIAL STUDIES                             18\n",
      "Classroom Installer ON-CALL - Various Locations    15\n",
      "Teacher                                            14\n",
      "Special Education Teacher                          14\n",
      "Lead Teacher                                       13\n",
      "Assistant Teacher                                  13\n",
      "Assistant Manager Student Services                 13\n",
      "Name: count, dtype: int64\n",
      "\n",
      " Cluster 4 (Total jobs: 10583):\n",
      "title\n",
      "Patient Care Technician          102\n",
      "Medical Assistant                 88\n",
      "Phlebotomist                      59\n",
      "CT Technologist                   53\n",
      "Pharmacy Technician               37\n",
      "Medical Receptionist              30\n",
      "Veterinary Assistant              29\n",
      "Associate Veterinarian            28\n",
      "Patient Access Representative     27\n",
      "MRI Technologist                  25\n",
      "Name: count, dtype: int64\n",
      "\n",
      " Cluster 5 (Total jobs: 7193):\n",
      "title\n",
      "ASSISTANT STORE MANAGER            161\n",
      "Store Manager                      146\n",
      "Customer Service Representative    142\n",
      "Retail Sales Associate             141\n",
      "Assistant Store Manager            116\n",
      "OPERATIONS ASSISTANT MANAGER       114\n",
      "CUSTOMER SERVICE REPRESENTATIVE    107\n",
      "Assistant Manager                   88\n",
      "Seasonal Sales Associate            78\n",
      "Sales Associate                     74\n",
      "Name: count, dtype: int64\n",
      "\n",
      " Cluster 6 (Total jobs: 7337):\n",
      "title\n",
      "Sales Manager                      652\n",
      "Sales Specialist                   107\n",
      "Account Executive                  101\n",
      "Business Development Manager        99\n",
      "Outside Sales Representative        95\n",
      "Salesperson                         87\n",
      "Account Manager                     78\n",
      "Customer Service Representative     76\n",
      "Inside Sales Representative         76\n",
      "Sales Representative                68\n",
      "Name: count, dtype: int64\n",
      "\n",
      " Cluster 7 (Total jobs: 7462):\n",
      "title\n",
      "Administrative Assistant            200\n",
      "Executive Assistant                 144\n",
      "Human Resources Generalist           75\n",
      "Human Resources Manager              69\n",
      "Office Manager                       42\n",
      "Customer Service Representative      32\n",
      "Associate Team Leader                31\n",
      "Human Resources Coordinator          30\n",
      "Receptionist                         30\n",
      "Human Resources Business Partner     29\n",
      "Name: count, dtype: int64\n",
      "\n",
      " Cluster 8 (Total jobs: 4428):\n",
      "title\n",
      "Senior Accountant              224\n",
      "Staff Accountant               187\n",
      "Controller                     135\n",
      "Accountant                     122\n",
      "Accounting Manager             118\n",
      "Tax Manager                     70\n",
      "Accounts Payable Specialist     61\n",
      "Bookkeeper                      42\n",
      "Account Manager                 41\n",
      "Assistant Controller            38\n",
      "Name: count, dtype: int64\n",
      "\n",
      " Cluster 9 (Total jobs: 6023):\n",
      "title\n",
      "Business Analyst              139\n",
      "Data Analyst                  134\n",
      "Data Scientist                 36\n",
      "Data Engineer                  34\n",
      "Senior Business Analyst        29\n",
      "Senior Data Analyst            24\n",
      "Online Data Analyst            20\n",
      "Data Modeler                   17\n",
      "Technical Business Analyst     16\n",
      "Power BI Developer             15\n",
      "Name: count, dtype: int64\n",
      "\n",
      " Cluster 10 (Total jobs: 6045):\n",
      "title\n",
      "Electrical Engineer           122\n",
      "Manufacturing Engineer         82\n",
      "Mechanical Engineer            80\n",
      "Quality Engineer               70\n",
      "Process Engineer               62\n",
      "Project Engineer               46\n",
      "Structural Engineer            40\n",
      "Design Engineer                36\n",
      "Senior Mechanical Engineer     36\n",
      "Senior Electrical Engineer     35\n",
      "Name: count, dtype: int64\n",
      "\n",
      " Cluster 11 (Total jobs: 7956):\n",
      "title\n",
      "Registered Nurse                     198\n",
      "Registered Nurse - RN - LTAC         130\n",
      "Nurse Practitioner                    93\n",
      "Certified Nursing Assistant (CNA)     75\n",
      "Registered Nurse (RN)                 63\n",
      "Licensed Practical Nurse (LPN)        61\n",
      "Licensed Practical Nurse              51\n",
      "HOSPICE REGISTERED NURSE              44\n",
      "LPN Licensed Practical Nurse          39\n",
      "Med-Surg Registered Nurse             37\n",
      "Name: count, dtype: int64\n",
      "\n",
      " Cluster 12 (Total jobs: 5196):\n",
      "title\n",
      "Project Manager                     323\n",
      "Senior Project Manager               88\n",
      "Construction Project Manager         79\n",
      "Construction Superintendent          53\n",
      "Project Engineer                     52\n",
      "Test Development Project Manager     51\n",
      "Program Manager                      47\n",
      "Construction Manager                 43\n",
      "Assistant Project Manager            39\n",
      "Technical Project Manager            35\n",
      "Name: count, dtype: int64\n",
      "\n",
      " Cluster 13 (Total jobs: 5168):\n",
      "title\n",
      "Physical Therapist                          106\n",
      "Licensed Therapist for Online Counseling     94\n",
      "Board Certified Behavior Analyst (BCBA)      72\n",
      "Behavior Technician                          43\n",
      "Occupational Therapist                       43\n",
      "Speech Language Pathologist                  36\n",
      "Registered Behavior Technician               34\n",
      "Physical Therapist (PT)                      30\n",
      "Physical Therapist Assistant (PTA)           28\n",
      "Licensed Clinical Social Worker              28\n",
      "Name: count, dtype: int64\n",
      "\n",
      " Cluster 14 (Total jobs: 6603):\n",
      "title\n",
      "Sales Executive              79\n",
      "Marketing Manager            52\n",
      "Graphic Designer             47\n",
      "Marketing Intern             37\n",
      "Social Media Manager         34\n",
      "Marketing Coordinator        30\n",
      "Business Owner               26\n",
      "Digital Marketing Manager    25\n",
      "Marketing Director           24\n",
      "Account Executive            24\n",
      "Name: count, dtype: int64\n",
      "\n",
      " Cluster 15 (Total jobs: 4879):\n",
      "title\n",
      "Financial Advisor                   91\n",
      "Mortgage Loan Officer               86\n",
      "Financial Analyst                   72\n",
      "US Experienced Financial Advisor    69\n",
      "Relationship Banker                 37\n",
      "Senior Financial Analyst            32\n",
      "Teller                              31\n",
      "Finance Manager                     30\n",
      "Chief Financial Officer             24\n",
      "Universal Banker                    20\n",
      "Name: count, dtype: int64\n",
      "\n",
      " Cluster 16 (Total jobs: 7925):\n",
      "title\n",
      "Receptionist                                    139\n",
      "Package Handler - Part Time (Warehouse like)    112\n",
      "Executive Assistant                              61\n",
      "Customer Service Representative                  59\n",
      "Delivery Specialist                              57\n",
      "Retail Sales Associate                           46\n",
      "Delivery Driver                                  39\n",
      "Retail Sales – Part Time                         36\n",
      "Auto Detailer                                    35\n",
      "Warehouse Associate                              35\n",
      "Name: count, dtype: int64\n",
      "\n",
      " Cluster 17 (Total jobs: 6707):\n",
      "title\n",
      "Maintenance Technician                        135\n",
      "Service Technician                            116\n",
      "Field Service Technician                       63\n",
      "Auto Glass Installation Technician Trainee     59\n",
      "Maintenance Manager                            46\n",
      "Maintenance Supervisor                         40\n",
      "Maintenance Mechanic                           30\n",
      "Auto Body Technician                           27\n",
      "Automotive Technician                          25\n",
      "Desktop Support Technician                     24\n",
      "Name: count, dtype: int64\n",
      "\n",
      " Cluster 18 (Total jobs: 9371):\n",
      "title\n",
      "Software Engineer           167\n",
      "Senior Software Engineer    143\n",
      "DevOps Engineer              56\n",
      "Software Developer           56\n",
      "Frontend Developer           54\n",
      "Full Stack Engineer          52\n",
      "Back End Developer           52\n",
      "Data Engineer                52\n",
      "Network Engineer             51\n",
      "Web Developer                40\n",
      "Name: count, dtype: int64\n",
      "\n",
      " Cluster 19 (Total jobs: 2243):\n",
      "title\n",
      "Associate Attorney                108\n",
      "Paralegal                          67\n",
      "Attorney                           47\n",
      "Legal Assistant                    42\n",
      "Litigation Associate               39\n",
      "Litigation Paralegal               37\n",
      "Legal Secretary                    19\n",
      "Legal Administrative Assistant     18\n",
      "Corporate Paralegal                18\n",
      "Litigation Attorney                18\n",
      "Name: count, dtype: int64\n"
     ]
    }
   ],
   "source": [
    "## --------------------------------------\n",
    "## STEP 3: Analyze Cluster Results\n",
    "## --------------------------------------\n",
    "# Top job titles in each cluster\n",
    "print(\"🔹 Top 10 most common titles per cluster:\")\n",
    "for i in range(k):\n",
    "    cluster_df = jobs_df[jobs_df['kmeans_embed_cluster'] == i]\n",
    "    total_in_cluster = len(cluster_df)\n",
    "    print(f\"\\n Cluster {i} (Total jobs: {total_in_cluster}):\")\n",
    "    print(cluster_df['title'].value_counts().head(10))"
   ]
  },
  {
   "cell_type": "code",
   "execution_count": 22,
   "id": "95d241a5-c28a-47fb-b14b-5bb32399b7b3",
   "metadata": {},
   "outputs": [],
   "source": [
    "## --------------------------------------\n",
    "## STEP 4: Visualize Embeddings \n",
    "## --------------------------------------\n",
    "# import umap\n",
    "# import matplotlib.pyplot as plt\n",
    "\n",
    "# reducer = umap.UMAP(n_neighbors=15, min_dist=0.1, metric='cosine')\n",
    "# embedding_2d = reducer.fit_transform(embeddings)\n",
    "\n",
    "# plt.figure(figsize=(10, 8))\n",
    "# plt.scatter(embedding_2d[:, 0], embedding_2d[:, 1], c=cluster_labels, cmap='tab20', s=10)\n",
    "# plt.title(\"KMeans Clustering of Job Postings (Embeddings + UMAP)\")\n",
    "# plt.show()"
   ]
  },
  {
   "cell_type": "code",
   "execution_count": 39,
   "id": "450a3f5c-2742-4059-99dc-51becb7d31f2",
   "metadata": {},
   "outputs": [
    {
     "name": "stdout",
     "output_type": "stream",
     "text": [
      "Silhouette Score (TF-IDF): 0.020\n",
      "Silhouette Score (Embeddings): 0.033\n"
     ]
    }
   ],
   "source": [
    "## --------------------------------------\n",
    "## STEP 4: Compare performance between k-means cluster using TF-IDF vs embeddings\n",
    "## --------------------------------------\n",
    "from sklearn.metrics import silhouette_score\n",
    "\n",
    "# For TF-IDF version\n",
    "sil_score_tfidf = silhouette_score(X_tfidf, kmeans_tfidf.labels_)\n",
    "print(f\"Silhouette Score (TF-IDF): {sil_score_tfidf:.3f}\")\n",
    "\n",
    "# For embeddings version\n",
    "sil_score_embed = silhouette_score(embeddings, kmeans_embed.labels_)\n",
    "print(f\"Silhouette Score (Embeddings): {sil_score_embed:.3f}\")"
   ]
  },
  {
   "cell_type": "markdown",
   "id": "d11cb3a9-b322-45fd-89e7-b8ba4156254a",
   "metadata": {},
   "source": [
    "*Note:*\n",
    "* Silhouette scores are very low. It has to be at least 0.25 to be considered a reasonable structure\n",
    "* However, despite weak silhouette scores, the cluster content is pretty reasonable as shown by the most common job titles in each cluster.\n",
    "* So why do I have low silhouette scores?\n",
    "    * Silhouette score evaluates:\n",
    "      * **Cohesion**: how close points are to their own cluster centroid\n",
    "      * **Separation**: how far they are from other cluster centroids\n",
    "    * But\n",
    "      * Sentence embeddings exist in high-dimensional space (384+ dims).\n",
    "      * Job postings are inherently noisy: same titles with different descriptions, or different titles for similar jobs.\n",
    "      * K-means assumes spherical, equally sized clusters, which isn't true for real jobs.\n",
    "        \n",
    "    * Hence, low silhouette is **expected** in such settings — especially with:\n",
    "      * (i) imbalanced cluster sizes\n",
    "      * (ii) national overlaps (e.g. some data engineers are close to software engineers)\n",
    "      * (iii) very high-dimensional data. "
   ]
  },
  {
   "cell_type": "markdown",
   "id": "2b4e9458-0795-43e6-8230-06b5a3fe3102",
   "metadata": {},
   "source": [
    "## SECTION 4: LDA Topic modeling \n",
    "\n",
    "In this section, I apply the LDA topic modelling approach to categorize job postings based on the topics. \n",
    "\n",
    "Unlike K-means clustering that assigns each job to **one single cluster**, LDA assigns each job to a **mixture of topics**. \n",
    "\n",
    "For example, suppose we have a job posting for a \"Data Science Project manager\". \n",
    "* K-means might classify this job as either \"Data\" cluster or \"Manager\" cluster.\n",
    "* In contrast, LDA might say that this job is\n",
    "  * 60% topic about data science\n",
    "  * 40% topic about project management. "
   ]
  },
  {
   "cell_type": "code",
   "execution_count": 42,
   "id": "fe399e93-ebf9-4d6e-a2fd-7e96e6d399df",
   "metadata": {},
   "outputs": [],
   "source": [
    "## --------------------------------------\n",
    "## STEP 1:  Create Dictionary and Corpus\n",
    "## --------------------------------------\n",
    "\n",
    "# Create dictionary of terms\n",
    "dictionary = corpora.Dictionary(tokenized_docs)\n",
    "\n",
    "# Filter out very rare and very common words\n",
    "dictionary.filter_extremes(no_below=10, no_above=0.5)\n",
    "    ## Removing words that appear in fewer than 10 documents -> likely not useful\n",
    "    ## Removing words that appear in more than 50% of documents -> Likely too generic (e.g. \"job\", \"position\")\n",
    "\n",
    "# Create the Bag-of-Words corpus\n",
    "corpus = [dictionary.doc2bow(doc) for doc in tokenized_docs]\n",
    "    ## Each job posting becomes a list of (word_id, word_count) pairs \n"
   ]
  },
  {
   "cell_type": "code",
   "execution_count": 44,
   "id": "b8b45bdf-cb83-4c08-84f5-fe9e0a8e6c94",
   "metadata": {},
   "outputs": [
    {
     "data": {
      "text/plain": [
       "123849"
      ]
     },
     "execution_count": 44,
     "metadata": {},
     "output_type": "execute_result"
    }
   ],
   "source": [
    "len(corpus)  ## Length of corpus => # of job postings"
   ]
  },
  {
   "cell_type": "code",
   "execution_count": 46,
   "id": "cab5fc2e-be0f-463d-b64f-d4e4a3e070ea",
   "metadata": {},
   "outputs": [],
   "source": [
    "# corpus[0] ## Checking corpus for the first job posting "
   ]
  },
  {
   "cell_type": "code",
   "execution_count": 48,
   "id": "c5f4651b-5289-4d52-88ac-6e93a04ed209",
   "metadata": {},
   "outputs": [
    {
     "data": {
      "text/plain": [
       "'\\n    \"lda_model\" object contains the following features: \\n        * View topics: lda_model.print_topics(num_words=10)       => Shows top 10 words for each topic \\n        * Get topic distribution for a doc: lda_model[corpus[0]]  => Gives topic probabilities for the first document \\n        * Infer topics for new docs: lda_model[dictionary.doc2bow(new_tokens)]  => Estimate topic mix for a new job posting\\n'"
      ]
     },
     "execution_count": 48,
     "metadata": {},
     "output_type": "execute_result"
    }
   ],
   "source": [
    "## --------------------------------------\n",
    "## STEP 2: Fit LDA\n",
    "## --------------------------------------\n",
    "from gensim.models import LdaModel\n",
    "\n",
    "lda_model = LdaModel(\n",
    "    corpus=corpus,\n",
    "    id2word=dictionary,\n",
    "    num_topics=15,  # I can adjust this\n",
    "    passes=10,      # More passes = better learning, but slower \n",
    "    random_state=42\n",
    ")\n",
    "\n",
    "'''\n",
    "    \"lda_model\" object contains the following features: \n",
    "        * View topics: lda_model.print_topics(num_words=10)       => Shows top 10 words for each topic \n",
    "        * Get topic distribution for a doc: lda_model[corpus[0]]  => Gives topic probabilities for the first document \n",
    "        * Infer topics for new docs: lda_model[dictionary.doc2bow(new_tokens)]  => Estimate topic mix for a new job posting\n",
    "'''"
   ]
  },
  {
   "cell_type": "code",
   "execution_count": 50,
   "id": "f23ee77b-7432-463d-9083-59a5c945e4b4",
   "metadata": {},
   "outputs": [
    {
     "name": "stdout",
     "output_type": "stream",
     "text": [
      "Topic 0: 0.054*\"customer\" + 0.052*\"sale\" + 0.038*\"business\" + 0.031*\"product\" + 0.015*\"market\" + 0.014*\"relationship\" + 0.013*\"client\" + 0.011*\"account\" + 0.010*\"role\" + 0.010*\"manager\"\n",
      "Topic 1: 0.022*\"perform\" + 0.019*\"duty\" + 0.017*\"equipment\" + 0.016*\"safety\" + 0.014*\"employee\" + 0.013*\"use\" + 0.012*\"customer\" + 0.010*\"maintain\" + 0.010*\"lift\" + 0.009*\"environment\"\n",
      "Topic 2: 0.042*\"status\" + 0.030*\"gender\" + 0.030*\"employment\" + 0.029*\"disability\" + 0.027*\"protect\" + 0.023*\"race\" + 0.023*\"color\" + 0.022*\"orientation\" + 0.022*\"origin\" + 0.021*\"religion\"\n",
      "Topic 3: 0.060*\"care\" + 0.043*\"patient\" + 0.038*\"health\" + 0.013*\"healthcare\" + 0.013*\"nurse\" + 0.012*\"nursing\" + 0.011*\"hospital\" + 0.009*\"practice\" + 0.009*\"center\" + 0.009*\"license\"\n",
      "Topic 4: 0.017*\"application\" + 0.015*\"information\" + 0.015*\"student\" + 0.013*\"program\" + 0.013*\"education\" + 0.013*\"state\" + 0.012*\"research\" + 0.012*\"school\" + 0.010*\"qualification\" + 0.010*\"university\"\n",
      "Topic 5: 0.036*\"data\" + 0.022*\"design\" + 0.018*\"development\" + 0.017*\"software\" + 0.017*\"business\" + 0.016*\"technology\" + 0.014*\"system\" + 0.014*\"solution\" + 0.012*\"test\" + 0.012*\"engineering\"\n",
      "Topic 6: 0.044*\"food\" + 0.022*\"guest\" + 0.016*\"hotel\" + 0.014*\"member\" + 0.013*\"property\" + 0.013*\"event\" + 0.012*\"restaurant\" + 0.012*\"room\" + 0.011*\"hospitality\" + 0.010*\"community\"\n",
      "Topic 7: 0.017*\"people\" + 0.016*\"help\" + 0.015*\"make\" + 0.012*\"value\" + 0.012*\"role\" + 0.010*\"career\" + 0.010*\"join\" + 0.009*\"culture\" + 0.009*\"learn\" + 0.009*\"create\"\n",
      "Topic 8: 0.028*\"client\" + 0.018*\"office\" + 0.015*\"account\" + 0.012*\"accounting\" + 0.011*\"process\" + 0.011*\"report\" + 0.011*\"tax\" + 0.009*\"review\" + 0.009*\"finance\" + 0.008*\"business\"\n",
      "Topic 9: 0.056*\"security\" + 0.036*\"system\" + 0.030*\"network\" + 0.019*\"risk\" + 0.018*\"technology\" + 0.018*\"customer\" + 0.013*\"information\" + 0.011*\"control\" + 0.011*\"issue\" + 0.010*\"application\"\n",
      "Topic 10: 0.048*\"pay\" + 0.027*\"employee\" + 0.022*\"insurance\" + 0.021*\"program\" + 0.020*\"offer\" + 0.017*\"plan\" + 0.016*\"life\" + 0.016*\"health\" + 0.015*\"day\" + 0.013*\"base\"\n",
      "Topic 11: 0.065*\"marketing\" + 0.038*\"medium\" + 0.028*\"business\" + 0.022*\"brand\" + 0.021*\"market\" + 0.020*\"manage\" + 0.017*\"campaign\" + 0.017*\"strategy\" + 0.016*\"content\" + 0.014*\"sale\"\n",
      "Topic 12: 0.027*\"project\" + 0.021*\"engineering\" + 0.018*\"construction\" + 0.017*\"quality\" + 0.016*\"system\" + 0.015*\"equipment\" + 0.013*\"process\" + 0.013*\"maintenance\" + 0.012*\"design\" + 0.012*\"control\"\n",
      "Topic 13: 0.065*\"customer\" + 0.057*\"store\" + 0.024*\"sale\" + 0.020*\"associate\" + 0.019*\"product\" + 0.016*\"merchandise\" + 0.015*\"manager\" + 0.009*\"maintain\" + 0.007*\"brand\" + 0.007*\"assist\"\n",
      "Topic 14: 0.018*\"plan\" + 0.018*\"project\" + 0.017*\"program\" + 0.015*\"manager\" + 0.012*\"development\" + 0.011*\"develop\" + 0.011*\"manage\" + 0.011*\"process\" + 0.011*\"performance\" + 0.010*\"leadership\"\n"
     ]
    }
   ],
   "source": [
    "## --------------------------------------\n",
    "## Step 3: Print the Topics\n",
    "## --------------------------------------\n",
    "# View top 10 words for each topic\n",
    "topics = lda_model.print_topics(num_words=10)\n",
    "for i, topic in topics:\n",
    "    print(f\"Topic {i}: {topic}\")\n"
   ]
  },
  {
   "cell_type": "code",
   "execution_count": 52,
   "id": "8a6f18c0-fa25-4ce8-8372-3e55844084e9",
   "metadata": {},
   "outputs": [
    {
     "data": {
      "text/plain": [
       "[(2, 0.20325443),\n",
       " (4, 0.08984522),\n",
       " (5, 0.04012117),\n",
       " (6, 0.016057085),\n",
       " (7, 0.03251521),\n",
       " (8, 0.25697193),\n",
       " (10, 0.069789045),\n",
       " (11, 0.2881567)]"
      ]
     },
     "execution_count": 52,
     "metadata": {},
     "output_type": "execute_result"
    }
   ],
   "source": [
    "## Checking how lda_model works for the first corpus (for first job posting)\n",
    "lda_model[corpus[0]]"
   ]
  },
  {
   "cell_type": "markdown",
   "id": "9350b19f-c3f4-4455-aaad-ee800c46cf72",
   "metadata": {},
   "source": [
    "As shown above, lda_model[corpus[0]] checks the topic distribution for job posting #1. Remember that corpus[i] contains a list of (word_id, word_count) pairs for the corresponding job posting. \n",
    "\n",
    "It shows that the job posting #1 is comprised of 48.5% of Topic 8 + 20.2% of Topic 7 + 17.13% of Topic 9 + etc. Hence, the most dominant topic for this job posting is Topic 8. \n",
    "\n",
    "Below, I extract the most dominant topic and the associated probability for each and every job posting. "
   ]
  },
  {
   "cell_type": "code",
   "execution_count": 55,
   "id": "649106d2-a125-4ba5-8d32-f1b230d75263",
   "metadata": {},
   "outputs": [],
   "source": [
    "## --------------------------------------\n",
    "## Step 4: Assign each job to a most dominant topic\n",
    "## --------------------------------------\n",
    "# Get dominant topic and probability for each document\n",
    "dominant_topics = []\n",
    "topic_probs = []\n",
    "\n",
    "for bow in corpus:\n",
    "    topic_dist = lda_model[bow]  # Get topic distribution\n",
    "\n",
    "    # Exclude topic 2 (which is the topic for diversity statement) \n",
    "    filtered_dist = [(tid, prob) for tid, prob in topic_dist if tid != 2]\n",
    "    \n",
    "    # If everything got filtered (rare), fallback to original dist\n",
    "    if not filtered_dist:\n",
    "        filtered_dist = topic_dist\n",
    "\n",
    "    # Sort by probability\n",
    "    sorted_topics = sorted(filtered_dist, key=lambda x: -x[1])\n",
    "\n",
    "    # Store most dominant (non-topic-2) topic and its probability\n",
    "    dominant_topics.append(sorted_topics[0][0])\n",
    "    topic_probs.append(sorted_topics[0][1])\n",
    "\n",
    "\n",
    "# Assign to jobs_df\n",
    "jobs_df[\"lda_topic_1st\"] = dominant_topics\n",
    "jobs_df[\"lda_topic_1st_prob\"] = topic_probs"
   ]
  },
  {
   "cell_type": "code",
   "execution_count": 57,
   "id": "4873a7ed-ffad-44e0-9e2b-18b29f2d1ab8",
   "metadata": {},
   "outputs": [
    {
     "data": {
      "text/plain": [
       "0         11\n",
       "1          3\n",
       "2          6\n",
       "3          8\n",
       "4         12\n",
       "          ..\n",
       "123844     7\n",
       "123845     5\n",
       "123846     0\n",
       "123847     0\n",
       "123848    11\n",
       "Name: lda_topic_1st, Length: 123849, dtype: int64"
      ]
     },
     "execution_count": 57,
     "metadata": {},
     "output_type": "execute_result"
    }
   ],
   "source": [
    "jobs_df[\"lda_topic_1st\"]"
   ]
  },
  {
   "cell_type": "code",
   "execution_count": 59,
   "id": "0acdc338-ecc8-49c5-ad5b-8b92d9864d5d",
   "metadata": {},
   "outputs": [
    {
     "data": {
      "text/plain": [
       "lda_topic_1st\n",
       "0     10945\n",
       "1     11176\n",
       "2         1\n",
       "3     14761\n",
       "4      5130\n",
       "5     14874\n",
       "6      2029\n",
       "7     11150\n",
       "8     12569\n",
       "9      3595\n",
       "10     7843\n",
       "11     2054\n",
       "12    10449\n",
       "13     6942\n",
       "14    10331\n",
       "Name: count, dtype: int64"
      ]
     },
     "execution_count": 59,
     "metadata": {},
     "output_type": "execute_result"
    }
   ],
   "source": [
    "jobs_df[\"lda_topic_1st\"].value_counts(dropna=False).sort_index()"
   ]
  },
  {
   "cell_type": "code",
   "execution_count": 61,
   "id": "3b4005f4-c9ed-48ff-86a4-6bdfda8a8f5c",
   "metadata": {},
   "outputs": [
    {
     "data": {
      "text/plain": [
       "0         0.288156\n",
       "1         0.531206\n",
       "2         0.281325\n",
       "3         0.616521\n",
       "4         0.682083\n",
       "            ...   \n",
       "123844    0.334822\n",
       "123845    0.367166\n",
       "123846    0.410073\n",
       "123847    0.629885\n",
       "123848    0.406313\n",
       "Name: lda_topic_1st_prob, Length: 123849, dtype: float32"
      ]
     },
     "execution_count": 61,
     "metadata": {},
     "output_type": "execute_result"
    }
   ],
   "source": [
    "jobs_df[\"lda_topic_1st_prob\"]"
   ]
  },
  {
   "cell_type": "markdown",
   "id": "c688508b-c943-4e33-8fa8-eba213565a8d",
   "metadata": {},
   "source": [
    "Below, I store the full topic probability distribution for each document. \n",
    "\n",
    "I will generate a column for each topic i (jobs_df[\"Topic {i}\"]) in the jobs_df dataframe. This column will store the percentage of the corresponding topic for each job posting. "
   ]
  },
  {
   "cell_type": "code",
   "execution_count": 64,
   "id": "2f9a6237-c69d-4f11-8f07-d395f342d3d9",
   "metadata": {},
   "outputs": [],
   "source": [
    "## --------------------------------------\n",
    "## Step 5: Store full topic probability distributions for each document\n",
    "## --------------------------------------\n",
    "all_topic_dists = []\n",
    "\n",
    "for bow in corpus:\n",
    "    topic_dist = lda_model[bow]  # list of (topic_id, prob)\n",
    "    full_dist = [0.0] * lda_model.num_topics  # initialize all probabilities to 0\n",
    "    for topic_id, prob in topic_dist:\n",
    "        full_dist[topic_id] = prob  # fill in non-zero values\n",
    "    all_topic_dists.append(full_dist)\n",
    "\n",
    "# To assign as new column in jobs_df ...\n",
    "\n",
    "# First create \"topic_df\" that convers all_topic_dists to a dataframe with columns (Topic 1, Topic 2, ... )\n",
    "topic_cols = [f\"topic_{i}\" for i in range(lda_model.num_topics)]\n",
    "topic_df = pd.DataFrame(all_topic_dists, columns=topic_cols)\n",
    "\n",
    "# Concatenate with original DataFrame\n",
    "jobs_df = pd.concat([jobs_df.reset_index(drop=True), topic_df], axis=1)"
   ]
  },
  {
   "cell_type": "markdown",
   "id": "ce2e8c77-a168-4b3e-885f-a81ea6efd7c7",
   "metadata": {},
   "source": [
    "### SECTION 4.1: Visualize the distribution of topics "
   ]
  },
  {
   "cell_type": "code",
   "execution_count": 67,
   "id": "5c7c9ae3-9ceb-4ce2-a51a-2224f90678c9",
   "metadata": {},
   "outputs": [
    {
     "name": "stderr",
     "output_type": "stream",
     "text": [
      "/var/folders/61/4f46qg1x30s7x09xxzgv1qb40000gn/T/ipykernel_5633/2799995924.py:38: FutureWarning: \n",
      "\n",
      "Passing `palette` without assigning `hue` is deprecated and will be removed in v0.14.0. Assign the `x` variable to `hue` and set `legend=False` for the same effect.\n",
      "\n",
      "  sns.barplot(x=\"label\", y=\"proportion\", data=topic_df, palette=\"viridis\")\n"
     ]
    },
    {
     "data": {
      "image/png": "[encoded data removed]",
      "text/plain": [
       "<Figure size 1200x600 with 1 Axes>"
      ]
     },
     "metadata": {},
     "output_type": "display_data"
    }
   ],
   "source": [
    "## --------------------------------------\n",
    "## Step 1: Most common topic (only dominant ones) per posting \n",
    "## --------------------------------------\n",
    "import matplotlib.pyplot as plt\n",
    "import seaborn as sns\n",
    "\n",
    "# Define topic labels excluding topic 2\n",
    "topic_labels_filtered = {\n",
    "    0: \"0: Sales & Customer Rel.\",\n",
    "    1: \"1: Manual Labor & Safety\",\n",
    "    3: \"3: Healthcare & Patient Care\",\n",
    "    4: \"4: Education & Academic Programs\",\n",
    "    5: \"5: Software & Data Engineering\",\n",
    "    6: \"6: Hospitality & Food Services\",\n",
    "    7: \"7: Personal Development\",\n",
    "    8: \"8: Accounting & Finance\",\n",
    "    9: \"9: Cybersecurity & IT\",\n",
    "    10: \"10: Employee Benefits\",\n",
    "    11: \"11: Marketing & Branding\",\n",
    "    12: \"12: Engineering & Construction\",\n",
    "    13: \"13: Retail Store Operations\",\n",
    "    14: \"14: Project Management\"\n",
    "}\n",
    "\n",
    "# Filter out topic 2\n",
    "jobs_filtered = jobs_df[jobs_df[\"lda_topic_1st\"] != 2]\n",
    "\n",
    "# Count topic frequencies and normalize to proportions\n",
    "topic_counts = jobs_filtered[\"lda_topic_1st\"].value_counts(normalize=True).sort_index()\n",
    "\n",
    "# Create DataFrame for plotting\n",
    "topic_df = topic_counts.reset_index()\n",
    "topic_df.columns = [\"topic_id\", \"proportion\"]\n",
    "topic_df[\"label\"] = topic_df[\"topic_id\"].map(topic_labels_filtered)\n",
    "\n",
    "# Plot\n",
    "plt.figure(figsize=(12, 6))\n",
    "sns.barplot(x=\"label\", y=\"proportion\", data=topic_df, palette=\"viridis\")\n",
    "\n",
    "plt.title(\"Proportion of Job Postings by Most Prominent LDA Topic (Excluding DEI)\")\n",
    "plt.xlabel(\"LDA Topic\")\n",
    "plt.ylabel(\"Proportion of Job Postings\")\n",
    "plt.xticks(rotation=45, ha=\"right\")\n",
    "plt.ylim(0, topic_df[\"proportion\"].max() * 1.1)\n",
    "\n",
    "plt.tight_layout()\n",
    "plt.show()\n",
    "\n"
   ]
  },
  {
   "cell_type": "code",
   "execution_count": 69,
   "id": "074a7ef7-b3f7-4d79-a887-85350594e61a",
   "metadata": {},
   "outputs": [
    {
     "name": "stderr",
     "output_type": "stream",
     "text": [
      "/var/folders/61/4f46qg1x30s7x09xxzgv1qb40000gn/T/ipykernel_5633/614296587.py:5: FutureWarning: \n",
      "\n",
      "Passing `palette` without assigning `hue` is deprecated and will be removed in v0.14.0. Assign the `x` variable to `hue` and set `legend=False` for the same effect.\n",
      "\n",
      "  sns.barplot(\n"
     ]
    },
    {
     "data": {
      "image/png": "[encoded data removed]",
      "text/plain": [
       "<Figure size 1000x600 with 1 Axes>"
      ]
     },
     "metadata": {},
     "output_type": "display_data"
    }
   ],
   "source": [
    "## --------------------------------------\n",
    "## Step 2: Average topic probabilitys for the most dominant topics\n",
    "## --------------------------------------\n",
    "plt.figure(figsize=(10, 6))\n",
    "sns.barplot(\n",
    "    x=\"lda_topic_1st\",\n",
    "    y=\"lda_topic_1st_prob\",\n",
    "    data=jobs_filtered,\n",
    "    estimator='mean',\n",
    "    palette=\"crest\"\n",
    ")\n",
    "plt.title(\"Average Probability of Dominant Topic per Job Posting\")\n",
    "plt.xlabel(\"LDA Topic ID\")\n",
    "plt.ylabel(\"Average Dominant Topic Probability\")\n",
    "plt.ylim(0, 1)\n",
    "\n",
    "# Sort x labels to match actual plotted categories\n",
    "sorted_topic_ids = sorted(jobs_filtered[\"lda_topic_1st\"].dropna().unique())\n",
    "plt.xticks(\n",
    "    ticks=range(len(sorted_topic_ids)),\n",
    "    labels=[topic_labels_filtered[tid] for tid in sorted_topic_ids],\n",
    "    rotation=45,\n",
    "    ha='right'\n",
    ")\n",
    "plt.tight_layout()\n",
    "plt.show()"
   ]
  },
  {
   "cell_type": "markdown",
   "id": "97fe6b83-77a5-47b9-969a-44feac9f3a55",
   "metadata": {},
   "source": [
    "### SECTION 4.2: Evaluate the quality of topics \n",
    "\n",
    "Coherence measures how interpretable the topics are by quantifying the semantic similarity of the top words in each topic.\n",
    "\n",
    "High coherence ⇒ Top words in each topic tend to co-occur in the corpus and form meaningful groups.\n",
    "\n",
    "Low coherence ⇒ Top words are disjoint or random.\n",
    "\n",
    "🧠 How to Interpret the Score\n",
    "* Ranges from 0 to 1\n",
    "* Rough guidelines:\n",
    "    * 0.6–0.7: Moderate coherence\n",
    "    * 0.7–0.85: Good\n",
    "    * 0.85+: Very coherent topics (rare in messy text data)\n",
    "      \n",
    "⚠️ Caveat: High coherence doesn't always mean useful topics. Sometimes topics can be coherent but not informative for your goals (e.g., redundant or obvious topics like \"equal opportunity\")."
   ]
  },
  {
   "cell_type": "code",
   "execution_count": 77,
   "id": "7d5a7488-8048-42ae-b6f0-438c3d0ea155",
   "metadata": {},
   "outputs": [
    {
     "name": "stdout",
     "output_type": "stream",
     "text": [
      "Coherence Score: 0.5427369658838017\n"
     ]
    }
   ],
   "source": [
    "## Evaluate Coherence (Quality of Topics)\n",
    "os.environ[\"TOKENIZERS_PARALLELISM\"] = \"false\"\n",
    "from gensim.models import CoherenceModel\n",
    "\n",
    "coherence_model = CoherenceModel(\n",
    "    model=lda_model,\n",
    "    texts=tokenized_docs,\n",
    "    dictionary=dictionary,\n",
    "    coherence='c_v'\n",
    ")\n",
    "\n",
    "print(\"Coherence Score:\", coherence_model.get_coherence())\n"
   ]
  },
  {
   "cell_type": "markdown",
   "id": "7077cd0a-2eb8-47d7-b370-2bd96e885874",
   "metadata": {},
   "source": [
    "The current coherence score is moderate, but not ideal. I need to figure out how to improve this. "
   ]
  },
  {
   "cell_type": "code",
   "execution_count": null,
   "id": "ac4ac0ef-0493-4f3f-8d34-51e5ae2df267",
   "metadata": {},
   "outputs": [],
   "source": []
  }
 ],
 "metadata": {
  "kernelspec": {
   "display_name": "Python (LDA Env)",
   "language": "python",
   "name": "lda_env"
  },
  "language_info": {
   "codemirror_mode": {
    "name": "ipython",
    "version": 3
   },
   "file_extension": ".py",
   "mimetype": "text/x-python",
   "name": "python",
   "nbconvert_exporter": "python",
   "pygments_lexer": "ipython3",
   "version": "3.10.13"
  }
 },
 "nbformat": 4,
 "nbformat_minor": 5
}
