{
 "cells": [
  {
   "cell_type": "markdown",
   "id": "f3df1883-a0c6-4dde-a5eb-096c6b32b353",
   "metadata": {},
   "source": [
    "# 🏷️ Part 2.2 - Extract job skills using a curated skill list\n",
    "\n",
    "**Author:** Yu Kyung Koh  \n",
    "**Last Updated:** July 12, 2025  \n",
    "\n",
    "---\n",
    "\n",
    "### 🎯 Objective\n",
    "\n",
    "* This notebook extracts job-relevant skills from job posting texts using a curated list of standardized skills (provided by Lightcast).\n",
    "* The Lightcast skill list includes thousands of skills spanning technical, soft, and domain-specific areas.\n",
    "* By matching job descriptions to this predefined skill list, we can identify the most frequently requested skills within each job category.\n",
    "  \n",
    "  \n",
    "### 🗂️ Outline\n",
    "* **Section 1:** Bring in and clean the list of job skills compiled by Lightcast  \n",
    "* **Section 2:** Bring in the job posting data\n",
    "* **Section 3:** Job skill extraction using the curated skills list\n",
    "* **Section 4:** Wordcloud for most required skill for each job category\n"
   ]
  },
  {
   "cell_type": "markdown",
   "id": "d6d8560c-2bdb-406e-8293-0ba17c545a24",
   "metadata": {},
   "source": [
    "---\n",
    "## SECTION 1: Bring in and clean the list of job skills compiled by Lightcast "
   ]
  },
  {
   "cell_type": "code",
   "execution_count": 3,
   "id": "370a40e6-c118-4cf4-98ae-5fc936481803",
   "metadata": {},
   "outputs": [],
   "source": [
    "import pandas as pd\n",
    "import os\n",
    "import re\n",
    "from tqdm import tqdm\n",
    "import multiprocessing \n",
    "from joblib import Parallel, delayed\n",
    "\n",
    "import nltk\n",
    "from nltk.corpus import stopwords\n",
    "#from rapidfuzz import process, fuzz"
   ]
  },
  {
   "cell_type": "code",
   "execution_count": 4,
   "id": "b0f6110b-9ee6-4ffa-974b-26fd56020aa0",
   "metadata": {},
   "outputs": [
    {
     "ename": "FileNotFoundError",
     "evalue": "[Errno 2] No such file or directory: '../data/Lightcast/lightcast_skills.csv'",
     "output_type": "error",
     "traceback": [
      "\u001b[0;31m---------------------------------------------------------------------------\u001b[0m",
      "\u001b[0;31mFileNotFoundError\u001b[0m                         Traceback (most recent call last)",
      "Cell \u001b[0;32mIn[4], line 7\u001b[0m\n\u001b[1;32m      4\u001b[0m datadir \u001b[38;5;241m=\u001b[39m \u001b[38;5;124m'\u001b[39m\u001b[38;5;124m../data/Lightcast/\u001b[39m\u001b[38;5;124m'\u001b[39m\n\u001b[1;32m      5\u001b[0m skills_file \u001b[38;5;241m=\u001b[39m os\u001b[38;5;241m.\u001b[39mpath\u001b[38;5;241m.\u001b[39mjoin(datadir, \u001b[38;5;124m'\u001b[39m\u001b[38;5;124mlightcast_skills.csv\u001b[39m\u001b[38;5;124m'\u001b[39m)\n\u001b[0;32m----> 7\u001b[0m skills_df \u001b[38;5;241m=\u001b[39m \u001b[43mpd\u001b[49m\u001b[38;5;241;43m.\u001b[39;49m\u001b[43mread_csv\u001b[49m\u001b[43m(\u001b[49m\u001b[43mskills_file\u001b[49m\u001b[43m)\u001b[49m\n",
      "File \u001b[0;32m/opt/anaconda3/envs/py310-nlp/lib/python3.10/site-packages/pandas/io/parsers/readers.py:1026\u001b[0m, in \u001b[0;36mread_csv\u001b[0;34m(filepath_or_buffer, sep, delimiter, header, names, index_col, usecols, dtype, engine, converters, true_values, false_values, skipinitialspace, skiprows, skipfooter, nrows, na_values, keep_default_na, na_filter, verbose, skip_blank_lines, parse_dates, infer_datetime_format, keep_date_col, date_parser, date_format, dayfirst, cache_dates, iterator, chunksize, compression, thousands, decimal, lineterminator, quotechar, quoting, doublequote, escapechar, comment, encoding, encoding_errors, dialect, on_bad_lines, delim_whitespace, low_memory, memory_map, float_precision, storage_options, dtype_backend)\u001b[0m\n\u001b[1;32m   1013\u001b[0m kwds_defaults \u001b[38;5;241m=\u001b[39m _refine_defaults_read(\n\u001b[1;32m   1014\u001b[0m     dialect,\n\u001b[1;32m   1015\u001b[0m     delimiter,\n\u001b[0;32m   (...)\u001b[0m\n\u001b[1;32m   1022\u001b[0m     dtype_backend\u001b[38;5;241m=\u001b[39mdtype_backend,\n\u001b[1;32m   1023\u001b[0m )\n\u001b[1;32m   1024\u001b[0m kwds\u001b[38;5;241m.\u001b[39mupdate(kwds_defaults)\n\u001b[0;32m-> 1026\u001b[0m \u001b[38;5;28;01mreturn\u001b[39;00m \u001b[43m_read\u001b[49m\u001b[43m(\u001b[49m\u001b[43mfilepath_or_buffer\u001b[49m\u001b[43m,\u001b[49m\u001b[43m \u001b[49m\u001b[43mkwds\u001b[49m\u001b[43m)\u001b[49m\n",
      "File \u001b[0;32m/opt/anaconda3/envs/py310-nlp/lib/python3.10/site-packages/pandas/io/parsers/readers.py:620\u001b[0m, in \u001b[0;36m_read\u001b[0;34m(filepath_or_buffer, kwds)\u001b[0m\n\u001b[1;32m    617\u001b[0m _validate_names(kwds\u001b[38;5;241m.\u001b[39mget(\u001b[38;5;124m\"\u001b[39m\u001b[38;5;124mnames\u001b[39m\u001b[38;5;124m\"\u001b[39m, \u001b[38;5;28;01mNone\u001b[39;00m))\n\u001b[1;32m    619\u001b[0m \u001b[38;5;66;03m# Create the parser.\u001b[39;00m\n\u001b[0;32m--> 620\u001b[0m parser \u001b[38;5;241m=\u001b[39m \u001b[43mTextFileReader\u001b[49m\u001b[43m(\u001b[49m\u001b[43mfilepath_or_buffer\u001b[49m\u001b[43m,\u001b[49m\u001b[43m \u001b[49m\u001b[38;5;241;43m*\u001b[39;49m\u001b[38;5;241;43m*\u001b[39;49m\u001b[43mkwds\u001b[49m\u001b[43m)\u001b[49m\n\u001b[1;32m    622\u001b[0m \u001b[38;5;28;01mif\u001b[39;00m chunksize \u001b[38;5;129;01mor\u001b[39;00m iterator:\n\u001b[1;32m    623\u001b[0m     \u001b[38;5;28;01mreturn\u001b[39;00m parser\n",
      "File \u001b[0;32m/opt/anaconda3/envs/py310-nlp/lib/python3.10/site-packages/pandas/io/parsers/readers.py:1620\u001b[0m, in \u001b[0;36mTextFileReader.__init__\u001b[0;34m(self, f, engine, **kwds)\u001b[0m\n\u001b[1;32m   1617\u001b[0m     \u001b[38;5;28mself\u001b[39m\u001b[38;5;241m.\u001b[39moptions[\u001b[38;5;124m\"\u001b[39m\u001b[38;5;124mhas_index_names\u001b[39m\u001b[38;5;124m\"\u001b[39m] \u001b[38;5;241m=\u001b[39m kwds[\u001b[38;5;124m\"\u001b[39m\u001b[38;5;124mhas_index_names\u001b[39m\u001b[38;5;124m\"\u001b[39m]\n\u001b[1;32m   1619\u001b[0m \u001b[38;5;28mself\u001b[39m\u001b[38;5;241m.\u001b[39mhandles: IOHandles \u001b[38;5;241m|\u001b[39m \u001b[38;5;28;01mNone\u001b[39;00m \u001b[38;5;241m=\u001b[39m \u001b[38;5;28;01mNone\u001b[39;00m\n\u001b[0;32m-> 1620\u001b[0m \u001b[38;5;28mself\u001b[39m\u001b[38;5;241m.\u001b[39m_engine \u001b[38;5;241m=\u001b[39m \u001b[38;5;28;43mself\u001b[39;49m\u001b[38;5;241;43m.\u001b[39;49m\u001b[43m_make_engine\u001b[49m\u001b[43m(\u001b[49m\u001b[43mf\u001b[49m\u001b[43m,\u001b[49m\u001b[43m \u001b[49m\u001b[38;5;28;43mself\u001b[39;49m\u001b[38;5;241;43m.\u001b[39;49m\u001b[43mengine\u001b[49m\u001b[43m)\u001b[49m\n",
      "File \u001b[0;32m/opt/anaconda3/envs/py310-nlp/lib/python3.10/site-packages/pandas/io/parsers/readers.py:1880\u001b[0m, in \u001b[0;36mTextFileReader._make_engine\u001b[0;34m(self, f, engine)\u001b[0m\n\u001b[1;32m   1878\u001b[0m     \u001b[38;5;28;01mif\u001b[39;00m \u001b[38;5;124m\"\u001b[39m\u001b[38;5;124mb\u001b[39m\u001b[38;5;124m\"\u001b[39m \u001b[38;5;129;01mnot\u001b[39;00m \u001b[38;5;129;01min\u001b[39;00m mode:\n\u001b[1;32m   1879\u001b[0m         mode \u001b[38;5;241m+\u001b[39m\u001b[38;5;241m=\u001b[39m \u001b[38;5;124m\"\u001b[39m\u001b[38;5;124mb\u001b[39m\u001b[38;5;124m\"\u001b[39m\n\u001b[0;32m-> 1880\u001b[0m \u001b[38;5;28mself\u001b[39m\u001b[38;5;241m.\u001b[39mhandles \u001b[38;5;241m=\u001b[39m \u001b[43mget_handle\u001b[49m\u001b[43m(\u001b[49m\n\u001b[1;32m   1881\u001b[0m \u001b[43m    \u001b[49m\u001b[43mf\u001b[49m\u001b[43m,\u001b[49m\n\u001b[1;32m   1882\u001b[0m \u001b[43m    \u001b[49m\u001b[43mmode\u001b[49m\u001b[43m,\u001b[49m\n\u001b[1;32m   1883\u001b[0m \u001b[43m    \u001b[49m\u001b[43mencoding\u001b[49m\u001b[38;5;241;43m=\u001b[39;49m\u001b[38;5;28;43mself\u001b[39;49m\u001b[38;5;241;43m.\u001b[39;49m\u001b[43moptions\u001b[49m\u001b[38;5;241;43m.\u001b[39;49m\u001b[43mget\u001b[49m\u001b[43m(\u001b[49m\u001b[38;5;124;43m\"\u001b[39;49m\u001b[38;5;124;43mencoding\u001b[39;49m\u001b[38;5;124;43m\"\u001b[39;49m\u001b[43m,\u001b[49m\u001b[43m \u001b[49m\u001b[38;5;28;43;01mNone\u001b[39;49;00m\u001b[43m)\u001b[49m\u001b[43m,\u001b[49m\n\u001b[1;32m   1884\u001b[0m \u001b[43m    \u001b[49m\u001b[43mcompression\u001b[49m\u001b[38;5;241;43m=\u001b[39;49m\u001b[38;5;28;43mself\u001b[39;49m\u001b[38;5;241;43m.\u001b[39;49m\u001b[43moptions\u001b[49m\u001b[38;5;241;43m.\u001b[39;49m\u001b[43mget\u001b[49m\u001b[43m(\u001b[49m\u001b[38;5;124;43m\"\u001b[39;49m\u001b[38;5;124;43mcompression\u001b[39;49m\u001b[38;5;124;43m\"\u001b[39;49m\u001b[43m,\u001b[49m\u001b[43m \u001b[49m\u001b[38;5;28;43;01mNone\u001b[39;49;00m\u001b[43m)\u001b[49m\u001b[43m,\u001b[49m\n\u001b[1;32m   1885\u001b[0m \u001b[43m    \u001b[49m\u001b[43mmemory_map\u001b[49m\u001b[38;5;241;43m=\u001b[39;49m\u001b[38;5;28;43mself\u001b[39;49m\u001b[38;5;241;43m.\u001b[39;49m\u001b[43moptions\u001b[49m\u001b[38;5;241;43m.\u001b[39;49m\u001b[43mget\u001b[49m\u001b[43m(\u001b[49m\u001b[38;5;124;43m\"\u001b[39;49m\u001b[38;5;124;43mmemory_map\u001b[39;49m\u001b[38;5;124;43m\"\u001b[39;49m\u001b[43m,\u001b[49m\u001b[43m \u001b[49m\u001b[38;5;28;43;01mFalse\u001b[39;49;00m\u001b[43m)\u001b[49m\u001b[43m,\u001b[49m\n\u001b[1;32m   1886\u001b[0m \u001b[43m    \u001b[49m\u001b[43mis_text\u001b[49m\u001b[38;5;241;43m=\u001b[39;49m\u001b[43mis_text\u001b[49m\u001b[43m,\u001b[49m\n\u001b[1;32m   1887\u001b[0m \u001b[43m    \u001b[49m\u001b[43merrors\u001b[49m\u001b[38;5;241;43m=\u001b[39;49m\u001b[38;5;28;43mself\u001b[39;49m\u001b[38;5;241;43m.\u001b[39;49m\u001b[43moptions\u001b[49m\u001b[38;5;241;43m.\u001b[39;49m\u001b[43mget\u001b[49m\u001b[43m(\u001b[49m\u001b[38;5;124;43m\"\u001b[39;49m\u001b[38;5;124;43mencoding_errors\u001b[39;49m\u001b[38;5;124;43m\"\u001b[39;49m\u001b[43m,\u001b[49m\u001b[43m \u001b[49m\u001b[38;5;124;43m\"\u001b[39;49m\u001b[38;5;124;43mstrict\u001b[39;49m\u001b[38;5;124;43m\"\u001b[39;49m\u001b[43m)\u001b[49m\u001b[43m,\u001b[49m\n\u001b[1;32m   1888\u001b[0m \u001b[43m    \u001b[49m\u001b[43mstorage_options\u001b[49m\u001b[38;5;241;43m=\u001b[39;49m\u001b[38;5;28;43mself\u001b[39;49m\u001b[38;5;241;43m.\u001b[39;49m\u001b[43moptions\u001b[49m\u001b[38;5;241;43m.\u001b[39;49m\u001b[43mget\u001b[49m\u001b[43m(\u001b[49m\u001b[38;5;124;43m\"\u001b[39;49m\u001b[38;5;124;43mstorage_options\u001b[39;49m\u001b[38;5;124;43m\"\u001b[39;49m\u001b[43m,\u001b[49m\u001b[43m \u001b[49m\u001b[38;5;28;43;01mNone\u001b[39;49;00m\u001b[43m)\u001b[49m\u001b[43m,\u001b[49m\n\u001b[1;32m   1889\u001b[0m \u001b[43m\u001b[49m\u001b[43m)\u001b[49m\n\u001b[1;32m   1890\u001b[0m \u001b[38;5;28;01massert\u001b[39;00m \u001b[38;5;28mself\u001b[39m\u001b[38;5;241m.\u001b[39mhandles \u001b[38;5;129;01mis\u001b[39;00m \u001b[38;5;129;01mnot\u001b[39;00m \u001b[38;5;28;01mNone\u001b[39;00m\n\u001b[1;32m   1891\u001b[0m f \u001b[38;5;241m=\u001b[39m \u001b[38;5;28mself\u001b[39m\u001b[38;5;241m.\u001b[39mhandles\u001b[38;5;241m.\u001b[39mhandle\n",
      "File \u001b[0;32m/opt/anaconda3/envs/py310-nlp/lib/python3.10/site-packages/pandas/io/common.py:873\u001b[0m, in \u001b[0;36mget_handle\u001b[0;34m(path_or_buf, mode, encoding, compression, memory_map, is_text, errors, storage_options)\u001b[0m\n\u001b[1;32m    868\u001b[0m \u001b[38;5;28;01melif\u001b[39;00m \u001b[38;5;28misinstance\u001b[39m(handle, \u001b[38;5;28mstr\u001b[39m):\n\u001b[1;32m    869\u001b[0m     \u001b[38;5;66;03m# Check whether the filename is to be opened in binary mode.\u001b[39;00m\n\u001b[1;32m    870\u001b[0m     \u001b[38;5;66;03m# Binary mode does not support 'encoding' and 'newline'.\u001b[39;00m\n\u001b[1;32m    871\u001b[0m     \u001b[38;5;28;01mif\u001b[39;00m ioargs\u001b[38;5;241m.\u001b[39mencoding \u001b[38;5;129;01mand\u001b[39;00m \u001b[38;5;124m\"\u001b[39m\u001b[38;5;124mb\u001b[39m\u001b[38;5;124m\"\u001b[39m \u001b[38;5;129;01mnot\u001b[39;00m \u001b[38;5;129;01min\u001b[39;00m ioargs\u001b[38;5;241m.\u001b[39mmode:\n\u001b[1;32m    872\u001b[0m         \u001b[38;5;66;03m# Encoding\u001b[39;00m\n\u001b[0;32m--> 873\u001b[0m         handle \u001b[38;5;241m=\u001b[39m \u001b[38;5;28;43mopen\u001b[39;49m\u001b[43m(\u001b[49m\n\u001b[1;32m    874\u001b[0m \u001b[43m            \u001b[49m\u001b[43mhandle\u001b[49m\u001b[43m,\u001b[49m\n\u001b[1;32m    875\u001b[0m \u001b[43m            \u001b[49m\u001b[43mioargs\u001b[49m\u001b[38;5;241;43m.\u001b[39;49m\u001b[43mmode\u001b[49m\u001b[43m,\u001b[49m\n\u001b[1;32m    876\u001b[0m \u001b[43m            \u001b[49m\u001b[43mencoding\u001b[49m\u001b[38;5;241;43m=\u001b[39;49m\u001b[43mioargs\u001b[49m\u001b[38;5;241;43m.\u001b[39;49m\u001b[43mencoding\u001b[49m\u001b[43m,\u001b[49m\n\u001b[1;32m    877\u001b[0m \u001b[43m            \u001b[49m\u001b[43merrors\u001b[49m\u001b[38;5;241;43m=\u001b[39;49m\u001b[43merrors\u001b[49m\u001b[43m,\u001b[49m\n\u001b[1;32m    878\u001b[0m \u001b[43m            \u001b[49m\u001b[43mnewline\u001b[49m\u001b[38;5;241;43m=\u001b[39;49m\u001b[38;5;124;43m\"\u001b[39;49m\u001b[38;5;124;43m\"\u001b[39;49m\u001b[43m,\u001b[49m\n\u001b[1;32m    879\u001b[0m \u001b[43m        \u001b[49m\u001b[43m)\u001b[49m\n\u001b[1;32m    880\u001b[0m     \u001b[38;5;28;01melse\u001b[39;00m:\n\u001b[1;32m    881\u001b[0m         \u001b[38;5;66;03m# Binary mode\u001b[39;00m\n\u001b[1;32m    882\u001b[0m         handle \u001b[38;5;241m=\u001b[39m \u001b[38;5;28mopen\u001b[39m(handle, ioargs\u001b[38;5;241m.\u001b[39mmode)\n",
      "\u001b[0;31mFileNotFoundError\u001b[0m: [Errno 2] No such file or directory: '../data/Lightcast/lightcast_skills.csv'"
     ]
    }
   ],
   "source": [
    "# --------------------------------------\n",
    "# STEP 1: Import skill list data \n",
    "# --------------------------------------\n",
    "datadir = '../data/Lightcast/'\n",
    "skills_file = os.path.join(datadir, 'lightcast_skills.csv')\n",
    "\n",
    "skills_df = pd.read_csv(skills_file)"
   ]
  },
  {
   "cell_type": "code",
   "execution_count": null,
   "id": "50cc5bd0-b228-47d0-aefb-b896d197c620",
   "metadata": {},
   "outputs": [],
   "source": [
    "skills_df.head()"
   ]
  },
  {
   "cell_type": "code",
   "execution_count": null,
   "id": "b0106bb9-6e66-4138-8e6b-8f86ace4e189",
   "metadata": {},
   "outputs": [],
   "source": [
    "# --------------------------------------\n",
    "# STEP 2: Examine skill category\n",
    "# --------------------------------------\n",
    "skills_df[\"skill_category\"].value_counts()  "
   ]
  },
  {
   "cell_type": "code",
   "execution_count": null,
   "id": "0ea8b72f-a7c2-4784-82ef-23da84b8a597",
   "metadata": {},
   "outputs": [],
   "source": [
    "# -------------------------------------------------\n",
    "# STEP 3: Preprocess and Normalize Skill List (e.g., remove parentheses, lowercase, etc.)\n",
    "# -------------------------------------------------\n",
    "# Extract content inside parentheses into a new column\n",
    "skills_df['skill_parentheses'] = skills_df['skill_name'].str.extract(r'\\((.*?)\\)')"
   ]
  },
  {
   "cell_type": "code",
   "execution_count": null,
   "id": "559f1afb-495a-4bef-87a4-810c508f5d0d",
   "metadata": {},
   "outputs": [],
   "source": [
    "# Remove everything in parentheses from the 'skill' column (e.g. \"Python (Programming Language)\")\n",
    "skills_df['skill_name'] = skills_df['skill_name'].str.replace(r'\\s*\\(.*?\\)', '', regex=True)"
   ]
  },
  {
   "cell_type": "code",
   "execution_count": null,
   "id": "383b0e85-52d0-4302-8a14-1e29f04ee385",
   "metadata": {},
   "outputs": [],
   "source": [
    "# Drop duplicates and missing values \n",
    "skills_df = skills_df.dropna(subset=['skill_name'])\n",
    "skills_df = skills_df.drop_duplicates(subset='skill_name')"
   ]
  },
  {
   "cell_type": "code",
   "execution_count": null,
   "id": "b3d5f0c8-e1d0-4a95-8734-aad73ad38954",
   "metadata": {},
   "outputs": [],
   "source": [
    "# Convert to lowercase and strip whitespace\n",
    "skills_df['skill_name'] = skills_df['skill_name'].str.lower().str.strip()"
   ]
  },
  {
   "cell_type": "code",
   "execution_count": null,
   "id": "866748f3-761a-4a09-a153-45c8ac9db961",
   "metadata": {},
   "outputs": [],
   "source": [
    "# Create a list of \"Specialized Skill and Certification\" and \"Common Skill\" \n",
    "specialized_skills = skills_df[\n",
    "    skills_df['skill_category'].isin(['Specialized Skill', 'Certification'])\n",
    "]['skill_name'].dropna().unique().tolist()\n",
    "\n",
    "common_skills = skills_df[\n",
    "    skills_df['skill_category'] == 'Common Skill'\n",
    "]['skill_name'].dropna().unique().tolist()"
   ]
  },
  {
   "cell_type": "code",
   "execution_count": null,
   "id": "914bdafa-60d2-47d0-b81f-0f71197b4bc8",
   "metadata": {},
   "outputs": [],
   "source": [
    "# -------------------------------------------------\n",
    "# STEP 4: Augment the skill list & remove confusing terms, etc. \n",
    "# -------------------------------------------------\n",
    "# Augment the list to include (AI, ML, NLP, SQL, API, etc.) \n",
    "specialized_skills = list(set(specialized_skills + ['ai', 'ml', 'nlp', 'sql', 'api', 'aws', 'microsoft suite', 'seo tools']))  # this ensures that there are no duplicates "
   ]
  },
  {
   "cell_type": "code",
   "execution_count": null,
   "id": "d8ce747d-ceb7-405a-8032-7ac2dd30cd4b",
   "metadata": {},
   "outputs": [],
   "source": [
    "# Remove terms like \"make\" from the skills_list, because it confuses the skills with a commonly used verb\n",
    "specialized_skills = [s for s in specialized_skills if s.lower() not in {'make', 'track', 'disabilities', 'diversity and inclusion', 'transparency'}]\n",
    "#specialized_skills"
   ]
  },
  {
   "cell_type": "code",
   "execution_count": null,
   "id": "d7f8f9d8-99ae-4e5b-8c9d-a5c04ad7b4c1",
   "metadata": {},
   "outputs": [],
   "source": [
    "# Allowing for common spacing mistakes in the job posting \n",
    "alias_map = {\n",
    "    \"photo shop\": \"photoshop\",\n",
    "    \"power point\": \"powerpoint\",\n",
    "    \"word press\": \"wordpress\",\n",
    "    \"excel sheet\": \"excel\",\n",
    "    # Add more as you find\n",
    "}\n",
    "\n",
    "# Add alias keys to skills list\n",
    "specialized_skills += list(alias_map.keys())\n"
   ]
  },
  {
   "cell_type": "markdown",
   "id": "58c27cb2-a04f-458a-aae4-0637d7183a00",
   "metadata": {},
   "source": [
    "---\n",
    "## SECTION 2: Bring in the job posting data "
   ]
  },
  {
   "cell_type": "code",
   "execution_count": null,
   "id": "5c0bf167-46cf-4e79-806c-ffe5f8b434e3",
   "metadata": {},
   "outputs": [],
   "source": [
    "# --------------------------------------\n",
    "# STEP 1: Import data and clean\n",
    "# --------------------------------------\n",
    "datadir = '../data/'\n",
    "jobposting_file = os.path.join(datadir, 'synthetic_job_postings_combined.csv')\n",
    "\n",
    "posting_df = pd.read_csv(jobposting_file)"
   ]
  },
  {
   "cell_type": "code",
   "execution_count": null,
   "id": "17b2c57f-fab3-43b1-8dce-2ef9eaa5330a",
   "metadata": {},
   "outputs": [],
   "source": [
    "posting_df.head()"
   ]
  },
  {
   "cell_type": "code",
   "execution_count": null,
   "id": "05f0b83b-b00a-4e31-ab70-c05d3f92305b",
   "metadata": {},
   "outputs": [],
   "source": [
    "# Check how many job postings are in this data \n",
    "len(posting_df)"
   ]
  },
  {
   "cell_type": "code",
   "execution_count": null,
   "id": "65005df0-ea4d-4cfa-ab06-22700735f481",
   "metadata": {},
   "outputs": [],
   "source": [
    "# --------------------------------------\n",
    "# STEP 2: Convert every letter to lowercase\n",
    "# --------------------------------------\n",
    "## Lower case\n",
    "posting_df['posting_text'] = posting_df['posting_text'].apply(lambda x: \" \".join(x.lower()for x in x.split()))"
   ]
  },
  {
   "cell_type": "markdown",
   "id": "569fd1c5-e92b-41e7-ab94-568180137539",
   "metadata": {},
   "source": [
    "---\n",
    "## SECTION 3: Job skill extraction using the curated skill list"
   ]
  },
  {
   "cell_type": "code",
   "execution_count": null,
   "id": "34539b89-c271-4f42-bce0-3a8cbbb03f52",
   "metadata": {},
   "outputs": [],
   "source": [
    "# -----------------------------\n",
    "# Step 1: Define a skill extractor\n",
    "# -----------------------------\n",
    "from flashtext import KeywordProcessor\n",
    "\n",
    "# Initialize and populate the KeywordProcessor\n",
    "kp = KeywordProcessor()\n",
    "for skill in specialized_skills:\n",
    "    if isinstance(skill, str):\n",
    "        kp.add_keyword(skill.lower().strip())\n",
    "\n",
    "# Define skill extraction function using FlashText\n",
    "def extract_skills(text):\n",
    "    if not isinstance(text, str):\n",
    "        return []\n",
    "    return kp.extract_keywords(text.lower())"
   ]
  },
  {
   "cell_type": "code",
   "execution_count": null,
   "id": "0d3b3a79-ab8d-4eab-83ca-4badc3902130",
   "metadata": {},
   "outputs": [],
   "source": [
    "# -----------------------------\n",
    "# Step 2: Try running it for the first job posting \n",
    "# -----------------------------\n",
    "# Apply this for the first entry only. \n",
    "extract_skills(posting_df.loc[0, \"posting_text\"])\n",
    "print(extract_skills(posting_df.loc[0, \"posting_text\"]))"
   ]
  },
  {
   "cell_type": "code",
   "execution_count": null,
   "id": "b5cb5039-fa39-4437-bd92-c97815d4120d",
   "metadata": {},
   "outputs": [],
   "source": [
    "# -----------------------------\n",
    "# Step 3: Apply to the whole job posting\n",
    "# -----------------------------\n",
    "from tqdm import tqdm\n",
    "tqdm.pandas(desc=\"Extracting Skills\")\n",
    "posting_df[\"skills_extracted\"] = posting_df[\"posting_text\"].progress_apply(extract_skills)"
   ]
  },
  {
   "cell_type": "markdown",
   "id": "d17305c7-d0b7-46ee-98b4-5c4ee9949c70",
   "metadata": {},
   "source": [
    "---\n",
    "## SECTION 4:  Wordcloud for the most required skills for each job category"
   ]
  },
  {
   "cell_type": "code",
   "execution_count": null,
   "id": "d730f74c-f04f-4459-90a0-f86f4c5bd6a4",
   "metadata": {},
   "outputs": [],
   "source": [
    "from wordcloud import WordCloud\n",
    "import matplotlib.pyplot as plt\n",
    "from collections import Counter\n",
    "\n",
    "# Group by job category and count skills\n",
    "grouped_skills = posting_df.groupby(\"sector\")[\"skills_extracted\"].apply(\n",
    "    lambda lists: sum(lists.dropna().tolist(), [])  # flatten the list of lists\n",
    ")"
   ]
  },
  {
   "cell_type": "code",
   "execution_count": null,
   "id": "1a902d60-1489-4345-9d65-4a3d64606915",
   "metadata": {},
   "outputs": [],
   "source": [
    "# Loop through each category and create word clouds\n",
    "for category, skills in grouped_skills.items():\n",
    "    if not skills:  # skip if empty\n",
    "        continue\n",
    "\n",
    "    # Count frequency of each skill\n",
    "    skill_freq = Counter(skills)\n",
    "\n",
    "    # Create and configure WordCloud\n",
    "    wordcloud = WordCloud(width=800, height=400, background_color='white', colormap='viridis')\n",
    "    wordcloud.generate_from_frequencies(skill_freq)\n",
    "\n",
    "    # Plot the WordCloud\n",
    "    plt.figure(figsize=(12, 6))\n",
    "    plt.imshow(wordcloud, interpolation='bilinear')\n",
    "    plt.axis(\"off\")\n",
    "    plt.title(f\"Top Skills in '{category}' Jobs\", fontsize=16)\n",
    "    plt.show()"
   ]
  },
  {
   "cell_type": "markdown",
   "id": "1aef6139-dd76-4d71-a353-63fd54e5691a",
   "metadata": {},
   "source": [
    "### 🔷 Comments on Skill Extraction via Keyword Matching\n",
    "\n",
    "* The word clouds above show that **keyword matching using a curated skill list** does a reasonably good job at identifying relevant skills from job postings.\n",
    "* ⚠️ However, this method may **miss matches** if:\n",
    "    * There are typos or spelling variations in the job posting.\n",
    "    * The phrasing differs from how the skill is listed in the curated list.\n",
    "* In upcoming notebooks, I explore using LLMs to extract job skills"
   ]
  }
 ],
 "metadata": {
  "kernelspec": {
   "display_name": "Python [conda env:py310-nlp]",
   "language": "python",
   "name": "conda-env-py310-nlp-py"
  },
  "language_info": {
   "codemirror_mode": {
    "name": "ipython",
    "version": 3
   },
   "file_extension": ".py",
   "mimetype": "text/x-python",
   "name": "python",
   "nbconvert_exporter": "python",
   "pygments_lexer": "ipython3",
   "version": "3.10.18"
  }
 },
 "nbformat": 4,
 "nbformat_minor": 5
}
