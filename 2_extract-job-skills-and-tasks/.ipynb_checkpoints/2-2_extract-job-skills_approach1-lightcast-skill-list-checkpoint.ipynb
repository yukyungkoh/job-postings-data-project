{
 "cells": [
  {
   "cell_type": "markdown",
   "id": "f3df1883-a0c6-4dde-a5eb-096c6b32b353",
   "metadata": {},
   "source": [
    "# 3-1. Identify Job Skills from Job Posting\n",
    "\n",
    "Job posting data is provided by: https://www.kaggle.com/datasets/arshkon/linkedin-job-postings\n",
    "\n",
    "Author: Yu Kyung Koh\n",
    "\n",
    "Last Updated: 2025/05/16\n",
    "\n",
    "In this code, I am going to identify job skills from job posting data. Here, I utilize the list of job skills compiled by Lightcast (downloaded from https://lightcast.io/open-skills)\n"
   ]
  },
  {
   "cell_type": "markdown",
   "id": "d6d8560c-2bdb-406e-8293-0ba17c545a24",
   "metadata": {},
   "source": [
    "## SECTION 1: Bring in the list of job skills compiled by Lightcast + clean them"
   ]
  },
  {
   "cell_type": "code",
   "execution_count": 3,
   "id": "370a40e6-c118-4cf4-98ae-5fc936481803",
   "metadata": {},
   "outputs": [],
   "source": [
    "import pandas as pd\n",
    "import os\n",
    "import re\n",
    "from tqdm import tqdm\n",
    "import multiprocessing \n",
    "from joblib import Parallel, delayed\n",
    "\n",
    "import nltk\n",
    "from nltk.corpus import stopwords\n",
    "#from rapidfuzz import process, fuzz"
   ]
  },
  {
   "cell_type": "code",
   "execution_count": 4,
   "id": "b0f6110b-9ee6-4ffa-974b-26fd56020aa0",
   "metadata": {},
   "outputs": [],
   "source": [
    "### Bring in lightcast skills data \n",
    "lightcastdir = '/Users/yukyungkoh/Desktop/1_Post-PhD/7_Python-projects/2_practice-NLP_job-posting_NEW/2_data/Lightcast'\n",
    "skills_file = os.path.join(lightcastdir, 'lightcast_skills.csv')\n",
    "skills_df = pd.read_csv(skills_file)"
   ]
  },
  {
   "cell_type": "code",
   "execution_count": 5,
   "id": "50cc5bd0-b228-47d0-aefb-b896d197c620",
   "metadata": {},
   "outputs": [
    {
     "data": {
      "text/html": [
       "<div>\n",
       "<style scoped>\n",
       "    .dataframe tbody tr th:only-of-type {\n",
       "        vertical-align: middle;\n",
       "    }\n",
       "\n",
       "    .dataframe tbody tr th {\n",
       "        vertical-align: top;\n",
       "    }\n",
       "\n",
       "    .dataframe thead th {\n",
       "        text-align: right;\n",
       "    }\n",
       "</style>\n",
       "<table border=\"1\" class=\"dataframe\">\n",
       "  <thead>\n",
       "    <tr style=\"text-align: right;\">\n",
       "      <th></th>\n",
       "      <th>skill_name</th>\n",
       "      <th>skill_category</th>\n",
       "    </tr>\n",
       "  </thead>\n",
       "  <tbody>\n",
       "    <tr>\n",
       "      <th>0</th>\n",
       "      <td>.NET Assemblies</td>\n",
       "      <td>Specialized Skill</td>\n",
       "    </tr>\n",
       "    <tr>\n",
       "      <th>1</th>\n",
       "      <td>.NET Development</td>\n",
       "      <td>Specialized Skill</td>\n",
       "    </tr>\n",
       "    <tr>\n",
       "      <th>2</th>\n",
       "      <td>.NET Framework</td>\n",
       "      <td>Specialized Skill</td>\n",
       "    </tr>\n",
       "    <tr>\n",
       "      <th>3</th>\n",
       "      <td>.NET Framework 1</td>\n",
       "      <td>Specialized Skill</td>\n",
       "    </tr>\n",
       "    <tr>\n",
       "      <th>4</th>\n",
       "      <td>.NET Framework 3</td>\n",
       "      <td>Specialized Skill</td>\n",
       "    </tr>\n",
       "  </tbody>\n",
       "</table>\n",
       "</div>"
      ],
      "text/plain": [
       "         skill_name     skill_category\n",
       "0   .NET Assemblies  Specialized Skill\n",
       "1  .NET Development  Specialized Skill\n",
       "2    .NET Framework  Specialized Skill\n",
       "3  .NET Framework 1  Specialized Skill\n",
       "4  .NET Framework 3  Specialized Skill"
      ]
     },
     "execution_count": 5,
     "metadata": {},
     "output_type": "execute_result"
    }
   ],
   "source": [
    "skills_df.head()"
   ]
  },
  {
   "cell_type": "code",
   "execution_count": 6,
   "id": "b0106bb9-6e66-4138-8e6b-8f86ace4e189",
   "metadata": {},
   "outputs": [
    {
     "data": {
      "text/plain": [
       "skill_category\n",
       "Specialized Skill    30488\n",
       "Certification         3453\n",
       "Common Skill           471\n",
       "Name: count, dtype: int64"
      ]
     },
     "execution_count": 6,
     "metadata": {},
     "output_type": "execute_result"
    }
   ],
   "source": [
    "skills_df[\"skill_category\"].value_counts()  "
   ]
  },
  {
   "cell_type": "code",
   "execution_count": 7,
   "id": "0ea8b72f-a7c2-4784-82ef-23da84b8a597",
   "metadata": {},
   "outputs": [],
   "source": [
    "### Extract content inside parentheses into a new column\n",
    "skills_df['skill_parentheses'] = skills_df['skill_name'].str.extract(r'\\((.*?)\\)')"
   ]
  },
  {
   "cell_type": "code",
   "execution_count": 8,
   "id": "559f1afb-495a-4bef-87a4-810c508f5d0d",
   "metadata": {},
   "outputs": [],
   "source": [
    "### Remove everything in parentheses from the 'skill' column (e.g. \"Python (Programming Language)\")\n",
    "skills_df['skill_name'] = skills_df['skill_name'].str.replace(r'\\s*\\(.*?\\)', '', regex=True)"
   ]
  },
  {
   "cell_type": "code",
   "execution_count": 9,
   "id": "8e62763f-e2ac-4e5e-a409-bf0534ccce95",
   "metadata": {},
   "outputs": [
    {
     "data": {
      "text/html": [
       "<div>\n",
       "<style scoped>\n",
       "    .dataframe tbody tr th:only-of-type {\n",
       "        vertical-align: middle;\n",
       "    }\n",
       "\n",
       "    .dataframe tbody tr th {\n",
       "        vertical-align: top;\n",
       "    }\n",
       "\n",
       "    .dataframe thead th {\n",
       "        text-align: right;\n",
       "    }\n",
       "</style>\n",
       "<table border=\"1\" class=\"dataframe\">\n",
       "  <thead>\n",
       "    <tr style=\"text-align: right;\">\n",
       "      <th></th>\n",
       "      <th>skill_name</th>\n",
       "      <th>skill_category</th>\n",
       "      <th>skill_parentheses</th>\n",
       "    </tr>\n",
       "  </thead>\n",
       "  <tbody>\n",
       "    <tr>\n",
       "      <th>26850</th>\n",
       "      <td>Restructuring</td>\n",
       "      <td>Specialized Skill</td>\n",
       "      <td>Business</td>\n",
       "    </tr>\n",
       "    <tr>\n",
       "      <th>31693</th>\n",
       "      <td>Transaction Processing</td>\n",
       "      <td>Specialized Skill</td>\n",
       "      <td>Business</td>\n",
       "    </tr>\n",
       "    <tr>\n",
       "      <th>32015</th>\n",
       "      <td>Turnkey</td>\n",
       "      <td>Specialized Skill</td>\n",
       "      <td>Business</td>\n",
       "    </tr>\n",
       "  </tbody>\n",
       "</table>\n",
       "</div>"
      ],
      "text/plain": [
       "                   skill_name     skill_category skill_parentheses\n",
       "26850           Restructuring  Specialized Skill          Business\n",
       "31693  Transaction Processing  Specialized Skill          Business\n",
       "32015                 Turnkey  Specialized Skill          Business"
      ]
     },
     "execution_count": 9,
     "metadata": {},
     "output_type": "execute_result"
    }
   ],
   "source": [
    "### Examine if skill_parentheses contain generic terms \n",
    "skills_df[skills_df['skill_parentheses'] == 'Business']"
   ]
  },
  {
   "cell_type": "code",
   "execution_count": 10,
   "id": "fb5fca7d-d49b-4e50-99eb-53a0d6b5a20c",
   "metadata": {},
   "outputs": [
    {
     "data": {
      "text/html": [
       "<div>\n",
       "<style scoped>\n",
       "    .dataframe tbody tr th:only-of-type {\n",
       "        vertical-align: middle;\n",
       "    }\n",
       "\n",
       "    .dataframe tbody tr th {\n",
       "        vertical-align: top;\n",
       "    }\n",
       "\n",
       "    .dataframe thead th {\n",
       "        text-align: right;\n",
       "    }\n",
       "</style>\n",
       "<table border=\"1\" class=\"dataframe\">\n",
       "  <thead>\n",
       "    <tr style=\"text-align: right;\">\n",
       "      <th></th>\n",
       "      <th>skill_name</th>\n",
       "      <th>skill_category</th>\n",
       "      <th>skill_parentheses</th>\n",
       "    </tr>\n",
       "  </thead>\n",
       "  <tbody>\n",
       "  </tbody>\n",
       "</table>\n",
       "</div>"
      ],
      "text/plain": [
       "Empty DataFrame\n",
       "Columns: [skill_name, skill_category, skill_parentheses]\n",
       "Index: []"
      ]
     },
     "execution_count": 10,
     "metadata": {},
     "output_type": "execute_result"
    }
   ],
   "source": [
    "skills_df[skills_df['skill_name'] == 'Business']"
   ]
  },
  {
   "cell_type": "code",
   "execution_count": 11,
   "id": "97409aa3-0dc3-4f26-a2f2-9741c6931f4d",
   "metadata": {},
   "outputs": [],
   "source": [
    "# Combine 'skill_name' and 'skill_parentheses' to a single list of skill keywords \n",
    "#    combined_skills = pd.concat([\n",
    "#        skills_df['skill_name'],\n",
    "#        skills_df['skill_parentheses']\n",
    "#    ])\n",
    "## => Decided not to do this, because skills_parentheses contain a lot of generic keywords like \"business\" that does not help us identify skills"
   ]
  },
  {
   "cell_type": "code",
   "execution_count": 12,
   "id": "383b0e85-52d0-4302-8a14-1e29f04ee385",
   "metadata": {},
   "outputs": [],
   "source": [
    "### --- STEP 5: Drop duplicates and missing values \n",
    "skills_df = skills_df.dropna(subset=['skill_name'])\n",
    "skills_df = skills_df.drop_duplicates(subset='skill_name')"
   ]
  },
  {
   "cell_type": "code",
   "execution_count": 13,
   "id": "b3d5f0c8-e1d0-4a95-8734-aad73ad38954",
   "metadata": {},
   "outputs": [],
   "source": [
    "# Convert to lowercase and strip whitespace\n",
    "skills_df['skill_name'] = skills_df['skill_name'].str.lower().str.strip()"
   ]
  },
  {
   "cell_type": "code",
   "execution_count": 14,
   "id": "618e6f85-b2c3-48e7-92be-234584b4fb08",
   "metadata": {},
   "outputs": [
    {
     "data": {
      "text/plain": [
       "skill_category\n",
       "Specialized Skill    30467\n",
       "Certification         3448\n",
       "Common Skill           471\n",
       "Name: count, dtype: int64"
      ]
     },
     "execution_count": 14,
     "metadata": {},
     "output_type": "execute_result"
    }
   ],
   "source": [
    "skills_df[\"skill_category\"].value_counts()  "
   ]
  },
  {
   "cell_type": "code",
   "execution_count": 15,
   "id": "866748f3-761a-4a09-a153-45c8ac9db961",
   "metadata": {},
   "outputs": [],
   "source": [
    "## Create a list of \"Specialized Skill and Certification\" and \"Common Skill\" \n",
    "specialized_skills = skills_df[\n",
    "    skills_df['skill_category'].isin(['Specialized Skill', 'Certification'])\n",
    "]['skill_name'].dropna().unique().tolist()\n",
    "\n",
    "common_skills = skills_df[\n",
    "    skills_df['skill_category'] == 'Common Skill'\n",
    "]['skill_name'].dropna().unique().tolist()"
   ]
  },
  {
   "cell_type": "code",
   "execution_count": 16,
   "id": "914bdafa-60d2-47d0-b81f-0f71197b4bc8",
   "metadata": {},
   "outputs": [],
   "source": [
    "## Augment the list to include (AI, ML, NLP, SQL, API, etc.) \n",
    "specialized_skills = list(set(specialized_skills + ['ai', 'ml', 'nlp', 'sql', 'api', 'aws', 'microsoft suite', 'seo tools']))  # this ensures that there are no duplicates "
   ]
  },
  {
   "cell_type": "code",
   "execution_count": 17,
   "id": "d8ce747d-ceb7-405a-8032-7ac2dd30cd4b",
   "metadata": {},
   "outputs": [],
   "source": [
    "## Remove terms like \"make\" from the skills_list, because it confuses the skills with a commonly used verb\n",
    "specialized_skills = [s for s in specialized_skills if s.lower() not in {'make', 'track', 'disabilities', 'diversity and inclusion', 'transparency'}]\n",
    "#specialized_skills"
   ]
  },
  {
   "cell_type": "code",
   "execution_count": 18,
   "id": "d7f8f9d8-99ae-4e5b-8c9d-a5c04ad7b4c1",
   "metadata": {},
   "outputs": [],
   "source": [
    "## ----- Allowing for common spacing mistakes in the job posting ----- ##\n",
    "# Manual spacing error aliases\n",
    "alias_map = {\n",
    "    \"photo shop\": \"photoshop\",\n",
    "    \"power point\": \"powerpoint\",\n",
    "    \"word press\": \"wordpress\",\n",
    "    \"excel sheet\": \"excel\",\n",
    "    # Add more as you find\n",
    "}\n",
    "\n",
    "# Add alias keys to skills list\n",
    "specialized_skills += list(alias_map.keys())\n"
   ]
  },
  {
   "cell_type": "markdown",
   "id": "58c27cb2-a04f-458a-aae4-0637d7183a00",
   "metadata": {},
   "source": [
    "# SECTION 2: Bring in the job posting data "
   ]
  },
  {
   "cell_type": "code",
   "execution_count": 20,
   "id": "5c0bf167-46cf-4e79-806c-ffe5f8b434e3",
   "metadata": {},
   "outputs": [],
   "source": [
    "## Import cleaned data from STEP 2-1\n",
    "cleandatadir = '/Users/yukyungkoh/Desktop/1_Post-PhD/7_Python-projects/2_practice-NLP_job-posting_NEW/2_data/cleaned_data'\n",
    "jobdata = os.path.join(cleandatadir, '2_job-posting_cleaned_df.pkl')\n",
    "jobs_df = pd.read_pickle(jobdata, 'zip')\n"
   ]
  },
  {
   "cell_type": "code",
   "execution_count": 21,
   "id": "05f0b83b-b00a-4e31-ab70-c05d3f92305b",
   "metadata": {},
   "outputs": [
    {
     "data": {
      "text/plain": [
       "29724"
      ]
     },
     "execution_count": 21,
     "metadata": {},
     "output_type": "execute_result"
    }
   ],
   "source": [
    "## Check how many job postings are in this data \n",
    "len(jobs_df)"
   ]
  },
  {
   "cell_type": "code",
   "execution_count": 22,
   "id": "65005df0-ea4d-4cfa-ab06-22700735f481",
   "metadata": {},
   "outputs": [],
   "source": [
    "## Lower case\n",
    "jobs_df['combined_desc'] = jobs_df['combined_desc'].apply(lambda x: \" \".join(x.lower()for x in x.split()))"
   ]
  },
  {
   "cell_type": "code",
   "execution_count": 23,
   "id": "39ad0dca-6598-4e1c-94b2-ba97727b372a",
   "metadata": {},
   "outputs": [
    {
     "data": {
      "text/html": [
       "<div>\n",
       "<style scoped>\n",
       "    .dataframe tbody tr th:only-of-type {\n",
       "        vertical-align: middle;\n",
       "    }\n",
       "\n",
       "    .dataframe tbody tr th {\n",
       "        vertical-align: top;\n",
       "    }\n",
       "\n",
       "    .dataframe thead th {\n",
       "        text-align: right;\n",
       "    }\n",
       "</style>\n",
       "<table border=\"1\" class=\"dataframe\">\n",
       "  <thead>\n",
       "    <tr style=\"text-align: right;\">\n",
       "      <th></th>\n",
       "      <th>job_id</th>\n",
       "      <th>company_name</th>\n",
       "      <th>title</th>\n",
       "      <th>work_type</th>\n",
       "      <th>normalized_salary</th>\n",
       "      <th>combined_desc</th>\n",
       "      <th>job_category</th>\n",
       "    </tr>\n",
       "  </thead>\n",
       "  <tbody>\n",
       "    <tr>\n",
       "      <th>0</th>\n",
       "      <td>921716</td>\n",
       "      <td>Corcoran Sawyer Smith</td>\n",
       "      <td>Marketing Coordinator</td>\n",
       "      <td>FULL_TIME</td>\n",
       "      <td>38480.0</td>\n",
       "      <td>leading real estate firm new jersey seeking ad...</td>\n",
       "      <td>Marketing</td>\n",
       "    </tr>\n",
       "    <tr>\n",
       "      <th>2</th>\n",
       "      <td>10998357</td>\n",
       "      <td>The National Exemplar</td>\n",
       "      <td>Assitant Restaurant Manager</td>\n",
       "      <td>FULL_TIME</td>\n",
       "      <td>55000.0</td>\n",
       "      <td>national exemplar accepting application assist...</td>\n",
       "      <td>Other Manager</td>\n",
       "    </tr>\n",
       "    <tr>\n",
       "      <th>12</th>\n",
       "      <td>56482768</td>\n",
       "      <td>NaN</td>\n",
       "      <td>Appalachian Highlands Women's Business Center</td>\n",
       "      <td>FULL_TIME</td>\n",
       "      <td>NaN</td>\n",
       "      <td>full – program director appalachian highland w...</td>\n",
       "      <td>Business/Finance Job</td>\n",
       "    </tr>\n",
       "    <tr>\n",
       "      <th>14</th>\n",
       "      <td>69333422</td>\n",
       "      <td>Staffing Theory</td>\n",
       "      <td>Senior Product Marketing Manager</td>\n",
       "      <td>FULL_TIME</td>\n",
       "      <td>NaN</td>\n",
       "      <td>leading pharmaceutical company committed devel...</td>\n",
       "      <td>Marketing</td>\n",
       "    </tr>\n",
       "    <tr>\n",
       "      <th>18</th>\n",
       "      <td>111513530</td>\n",
       "      <td>United Methodists of Greater New Jersey</td>\n",
       "      <td>Content Writer, Communications</td>\n",
       "      <td>FULL_TIME</td>\n",
       "      <td>NaN</td>\n",
       "      <td>application opening date: april 24, 2024 title...</td>\n",
       "      <td>Marketing</td>\n",
       "    </tr>\n",
       "    <tr>\n",
       "      <th>22</th>\n",
       "      <td>133130219</td>\n",
       "      <td>NaN</td>\n",
       "      <td>Software Engineer</td>\n",
       "      <td>FULL_TIME</td>\n",
       "      <td>NaN</td>\n",
       "      <td>education bachelor's degree software, math, sc...</td>\n",
       "      <td>Software/Developer</td>\n",
       "    </tr>\n",
       "    <tr>\n",
       "      <th>26</th>\n",
       "      <td>175485704</td>\n",
       "      <td>GOYT</td>\n",
       "      <td>Software Engineer</td>\n",
       "      <td>PART_TIME</td>\n",
       "      <td>NaN</td>\n",
       "      <td>seeking skilled motivated remote software deve...</td>\n",
       "      <td>Software/Developer</td>\n",
       "    </tr>\n",
       "    <tr>\n",
       "      <th>35</th>\n",
       "      <td>266566927</td>\n",
       "      <td>Revesco Properties</td>\n",
       "      <td>Marketing &amp; Office Coordinator</td>\n",
       "      <td>FULL_TIME</td>\n",
       "      <td>65000.0</td>\n",
       "      <td>revesco properties:revesco property boutique c...</td>\n",
       "      <td>Marketing</td>\n",
       "    </tr>\n",
       "    <tr>\n",
       "      <th>46</th>\n",
       "      <td>805229245</td>\n",
       "      <td>NaN</td>\n",
       "      <td>Manager, Retail Pharmacy</td>\n",
       "      <td>FULL_TIME</td>\n",
       "      <td>137500.0</td>\n",
       "      <td>operation supervises departmental distribution...</td>\n",
       "      <td>Other Manager</td>\n",
       "    </tr>\n",
       "    <tr>\n",
       "      <th>47</th>\n",
       "      <td>844454682</td>\n",
       "      <td>NaN</td>\n",
       "      <td>Commercial Property Manager</td>\n",
       "      <td>FULL_TIME</td>\n",
       "      <td>NaN</td>\n",
       "      <td>gordon partner (www.gordonpartners.com) seekin...</td>\n",
       "      <td>Other Manager</td>\n",
       "    </tr>\n",
       "  </tbody>\n",
       "</table>\n",
       "</div>"
      ],
      "text/plain": [
       "       job_id                             company_name  \\\n",
       "0      921716                    Corcoran Sawyer Smith   \n",
       "2    10998357                   The National Exemplar    \n",
       "12   56482768                                      NaN   \n",
       "14   69333422                          Staffing Theory   \n",
       "18  111513530  United Methodists of Greater New Jersey   \n",
       "22  133130219                                      NaN   \n",
       "26  175485704                                     GOYT   \n",
       "35  266566927                       Revesco Properties   \n",
       "46  805229245                                      NaN   \n",
       "47  844454682                                      NaN   \n",
       "\n",
       "                                            title  work_type  \\\n",
       "0                           Marketing Coordinator  FULL_TIME   \n",
       "2                     Assitant Restaurant Manager  FULL_TIME   \n",
       "12  Appalachian Highlands Women's Business Center  FULL_TIME   \n",
       "14               Senior Product Marketing Manager  FULL_TIME   \n",
       "18                 Content Writer, Communications  FULL_TIME   \n",
       "22                              Software Engineer  FULL_TIME   \n",
       "26                              Software Engineer  PART_TIME   \n",
       "35                 Marketing & Office Coordinator  FULL_TIME   \n",
       "46                       Manager, Retail Pharmacy  FULL_TIME   \n",
       "47                    Commercial Property Manager  FULL_TIME   \n",
       "\n",
       "    normalized_salary                                      combined_desc  \\\n",
       "0             38480.0  leading real estate firm new jersey seeking ad...   \n",
       "2             55000.0  national exemplar accepting application assist...   \n",
       "12                NaN  full – program director appalachian highland w...   \n",
       "14                NaN  leading pharmaceutical company committed devel...   \n",
       "18                NaN  application opening date: april 24, 2024 title...   \n",
       "22                NaN  education bachelor's degree software, math, sc...   \n",
       "26                NaN  seeking skilled motivated remote software deve...   \n",
       "35            65000.0  revesco properties:revesco property boutique c...   \n",
       "46           137500.0  operation supervises departmental distribution...   \n",
       "47                NaN  gordon partner (www.gordonpartners.com) seekin...   \n",
       "\n",
       "            job_category  \n",
       "0              Marketing  \n",
       "2          Other Manager  \n",
       "12  Business/Finance Job  \n",
       "14             Marketing  \n",
       "18             Marketing  \n",
       "22    Software/Developer  \n",
       "26    Software/Developer  \n",
       "35             Marketing  \n",
       "46         Other Manager  \n",
       "47         Other Manager  "
      ]
     },
     "execution_count": 23,
     "metadata": {},
     "output_type": "execute_result"
    }
   ],
   "source": [
    "jobs_df.head(10)"
   ]
  },
  {
   "cell_type": "code",
   "execution_count": 24,
   "id": "eabd9162-71c6-43d8-bb02-970c99d1c49e",
   "metadata": {},
   "outputs": [
    {
     "data": {
      "text/plain": [
       "\"education bachelor's degree software, math, science required skill analytical skills, group work, knowledge intended audience, understanding different role\""
      ]
     },
     "execution_count": 24,
     "metadata": {},
     "output_type": "execute_result"
    }
   ],
   "source": [
    "# Checking an entry in \"combined_desc_corrected\"\n",
    "jobs_df[\"combined_desc\"][22]\n",
    "    ## Typo: photo shop -> photoshop"
   ]
  },
  {
   "cell_type": "markdown",
   "id": "569fd1c5-e92b-41e7-ab94-568180137539",
   "metadata": {},
   "source": [
    "# SECTION 3: Job skill extraction using skills_list"
   ]
  },
  {
   "cell_type": "code",
   "execution_count": 26,
   "id": "34539b89-c271-4f42-bce0-3a8cbbb03f52",
   "metadata": {},
   "outputs": [],
   "source": [
    "# -----------------------------\n",
    "# Step 1: Define your skill extractor\n",
    "# -----------------------------\n",
    "# Clean and escape all skills (Only considering specialized_skills for now, not common_skills)\n",
    "skills_cleaned = [re.escape(skill.strip().lower()) for skill in specialized_skills if isinstance(skill, str)]\n",
    "\n",
    "# Combine into a single regex: match whole word or phrase using \\b boundaries\n",
    "skills_pattern = r'\\b(?:' + '|'.join(skills_cleaned) + r')\\b'\n",
    "skills_regex = re.compile(skills_pattern, flags=re.IGNORECASE)\n",
    "\n",
    "def extract_skills(text):\n",
    "    if not isinstance(text, str):\n",
    "        return []\n",
    "    matches = skills_regex.findall(text.lower())\n",
    "    return list(set(matches))  # remove duplicates"
   ]
  },
  {
   "cell_type": "code",
   "execution_count": 27,
   "id": "0d3b3a79-ab8d-4eab-83ca-4badc3902130",
   "metadata": {},
   "outputs": [
    {
     "name": "stdout",
     "output_type": "stream",
     "text": [
      "['brand strategy', 'genetics', 'graphic design', 'marketing', 'branding', 'event planning', 'brokerage', 'online advertising', 'jersey', 'social media', 'adobe creative cloud', 'real estate development', 'email marketing']\n"
     ]
    }
   ],
   "source": [
    "# -----------------------------\n",
    "# Step 2: Try running it for the jobs_df \n",
    "# -----------------------------\n",
    "# Apply this for the first entry only. \n",
    "extract_skills(jobs_df.loc[0, \"combined_desc\"])\n",
    "print(extract_skills(jobs_df.loc[0, \"combined_desc\"]))"
   ]
  },
  {
   "cell_type": "code",
   "execution_count": 28,
   "id": "e69a6485-5ca5-40b7-914f-20098f0d6490",
   "metadata": {},
   "outputs": [],
   "source": [
    "## Apply this to the whole data\n",
    "tqdm.pandas()\n",
    "#jobs_df['matched_skills'] = jobs_df['combined_desc_corrected'].progress_apply(extract_skills)\n",
    "    # => Takes too much time (over 4 hours) to run "
   ]
  },
  {
   "cell_type": "code",
   "execution_count": 29,
   "id": "86a624bf-727c-452c-8ccd-1dbd81914f1d",
   "metadata": {},
   "outputs": [
    {
     "data": {
      "text/html": [
       "<div>\n",
       "<style scoped>\n",
       "    .dataframe tbody tr th:only-of-type {\n",
       "        vertical-align: middle;\n",
       "    }\n",
       "\n",
       "    .dataframe tbody tr th {\n",
       "        vertical-align: top;\n",
       "    }\n",
       "\n",
       "    .dataframe thead th {\n",
       "        text-align: right;\n",
       "    }\n",
       "</style>\n",
       "<table border=\"1\" class=\"dataframe\">\n",
       "  <thead>\n",
       "    <tr style=\"text-align: right;\">\n",
       "      <th></th>\n",
       "      <th>combined_desc</th>\n",
       "      <th>skills_temp</th>\n",
       "    </tr>\n",
       "  </thead>\n",
       "  <tbody>\n",
       "    <tr>\n",
       "      <th>0</th>\n",
       "      <td>leading real estate firm new jersey seeking ad...</td>\n",
       "      <td>[brokerage, brand strategy, marketing, social ...</td>\n",
       "    </tr>\n",
       "    <tr>\n",
       "      <th>2</th>\n",
       "      <td>national exemplar accepting application assist...</td>\n",
       "      <td>[restaurant management]</td>\n",
       "    </tr>\n",
       "    <tr>\n",
       "      <th>12</th>\n",
       "      <td>full – program director appalachian highland w...</td>\n",
       "      <td>[constant contact, indicators, business market...</td>\n",
       "    </tr>\n",
       "    <tr>\n",
       "      <th>14</th>\n",
       "      <td>leading pharmaceutical company committed devel...</td>\n",
       "      <td>[market environment, market research, gastroen...</td>\n",
       "    </tr>\n",
       "    <tr>\n",
       "      <th>18</th>\n",
       "      <td>application opening date: april 24, 2024 title...</td>\n",
       "      <td>[photography, wordpress, seo tools, inquiry, m...</td>\n",
       "    </tr>\n",
       "    <tr>\n",
       "      <th>22</th>\n",
       "      <td>education bachelor's degree software, math, sc...</td>\n",
       "      <td>[]</td>\n",
       "    </tr>\n",
       "    <tr>\n",
       "      <th>26</th>\n",
       "      <td>seeking skilled motivated remote software deve...</td>\n",
       "      <td>[object-oriented programming, mysql, javascrip...</td>\n",
       "    </tr>\n",
       "    <tr>\n",
       "      <th>35</th>\n",
       "      <td>revesco properties:revesco property boutique c...</td>\n",
       "      <td>[business writing, marketing strategies, event...</td>\n",
       "    </tr>\n",
       "    <tr>\n",
       "      <th>46</th>\n",
       "      <td>operation supervises departmental distribution...</td>\n",
       "      <td>[pharmacy experience]</td>\n",
       "    </tr>\n",
       "    <tr>\n",
       "      <th>47</th>\n",
       "      <td>gordon partner (www.gordonpartners.com) seekin...</td>\n",
       "      <td>[vendor contracts, reconciliation, property ma...</td>\n",
       "    </tr>\n",
       "  </tbody>\n",
       "</table>\n",
       "</div>"
      ],
      "text/plain": [
       "                                        combined_desc  \\\n",
       "0   leading real estate firm new jersey seeking ad...   \n",
       "2   national exemplar accepting application assist...   \n",
       "12  full – program director appalachian highland w...   \n",
       "14  leading pharmaceutical company committed devel...   \n",
       "18  application opening date: april 24, 2024 title...   \n",
       "22  education bachelor's degree software, math, sc...   \n",
       "26  seeking skilled motivated remote software deve...   \n",
       "35  revesco properties:revesco property boutique c...   \n",
       "46  operation supervises departmental distribution...   \n",
       "47  gordon partner (www.gordonpartners.com) seekin...   \n",
       "\n",
       "                                          skills_temp  \n",
       "0   [brokerage, brand strategy, marketing, social ...  \n",
       "2                             [restaurant management]  \n",
       "12  [constant contact, indicators, business market...  \n",
       "14  [market environment, market research, gastroen...  \n",
       "18  [photography, wordpress, seo tools, inquiry, m...  \n",
       "22                                                 []  \n",
       "26  [object-oriented programming, mysql, javascrip...  \n",
       "35  [business writing, marketing strategies, event...  \n",
       "46                              [pharmacy experience]  \n",
       "47  [vendor contracts, reconciliation, property ma...  "
      ]
     },
     "execution_count": 29,
     "metadata": {},
     "output_type": "execute_result"
    }
   ],
   "source": [
    "# -----------------------------\n",
    "# Step 3: Batch + Parallel Processing for 1 Batch Only\n",
    "# -----------------------------\n",
    "batch_size = 200\n",
    "n_jobs = multiprocessing.cpu_count() - 1\n",
    "\n",
    "# First batch only (0:200)\n",
    "batch = jobs_df.iloc[0:batch_size]\n",
    "\n",
    "# Parallel skills extraction\n",
    "batch_skills = Parallel(n_jobs=n_jobs)(\n",
    "    delayed(extract_skills)(text) for text in batch[\"combined_desc\"]\n",
    ")\n",
    "    \n",
    "# Create a Series with the correct original indices\n",
    "batch_skills_series = pd.Series(batch_skills, index=batch.index)\n",
    "\n",
    "# Save it into a temporary column\n",
    "jobs_df.loc[batch.index, \"skills_temp\"] = batch_skills_series\n",
    "\n",
    "## Check if the first 20 rows have been coded correctly \n",
    "jobs_df[[\"combined_desc\", \"skills_temp\"]].head(10)"
   ]
  },
  {
   "cell_type": "code",
   "execution_count": 30,
   "id": "478c5f9d-aebe-4f95-ad6c-9ebb83a54566",
   "metadata": {},
   "outputs": [
    {
     "data": {
      "text/plain": [
       "\"education bachelor's degree software, math, science required skill analytical skills, group work, knowledge intended audience, understanding different role\""
      ]
     },
     "execution_count": 30,
     "metadata": {},
     "output_type": "execute_result"
    }
   ],
   "source": [
    "jobs_df.iloc[5][\"combined_desc\"]"
   ]
  },
  {
   "cell_type": "code",
   "execution_count": 31,
   "id": "93c9d784-c2ee-4cd6-bc35-42fca10bc45f",
   "metadata": {},
   "outputs": [
    {
     "data": {
      "text/plain": [
       "[]"
      ]
     },
     "execution_count": 31,
     "metadata": {},
     "output_type": "execute_result"
    }
   ],
   "source": [
    "jobs_df.iloc[5][\"skills_temp\"]"
   ]
  },
  {
   "cell_type": "code",
   "execution_count": 32,
   "id": "bb6da9c4-4c18-4a55-b286-d654a197dbfe",
   "metadata": {},
   "outputs": [],
   "source": [
    "jobs_df.drop(columns=['skills_temp'], inplace=True)"
   ]
  },
  {
   "cell_type": "code",
   "execution_count": 33,
   "id": "b5cb5039-fa39-4437-bd92-c97815d4120d",
   "metadata": {},
   "outputs": [
    {
     "name": "stderr",
     "output_type": "stream",
     "text": [
      "Extracting Skills: 100%|██████████████████████| 149/149 [53:11<00:00, 21.42s/it]\n"
     ]
    }
   ],
   "source": [
    "# -----------------------------\n",
    "# Step 4: Batch + Parallel Processing for ALL Job Postings\n",
    "# -----------------------------\n",
    "batch_size = 200\n",
    "matched_skills_all = []\n",
    "n_jobs = multiprocessing.cpu_count() - 1\n",
    "\n",
    "for i in tqdm(range(0, len(jobs_df), batch_size), desc=\"Extracting Skills\"):\n",
    "    batch = jobs_df.iloc[i:i+batch_size]\n",
    "    \n",
    "    batch_skills = Parallel(n_jobs=n_jobs)(\n",
    "        delayed(extract_skills)(text) for text in batch[\"combined_desc\"]\n",
    "    )\n",
    "    \n",
    "    matched_skills_all.append(pd.Series(batch_skills, index=batch.index))\n",
    "\n",
    "# Recombine without losing index\n",
    "matched_full = pd.concat(matched_skills_all)\n",
    "\n",
    "# Assign corrected results correctly back\n",
    "jobs_df[\"skills_extracted\"] = matched_full\n",
    "\n",
    "## => Takes about 1.5 hours to run. "
   ]
  },
  {
   "cell_type": "code",
   "execution_count": 34,
   "id": "3f49d703-4289-4699-8e51-e5839b862194",
   "metadata": {},
   "outputs": [],
   "source": [
    "## Save the data \n",
    "cleandatadir = '/Users/yukyungkoh/Desktop/1_Post-PhD/7_Python-projects/2_practice-NLP_job-posting_NEW/2_data/cleaned_data'\n",
    "savefile = os.path.join(cleandatadir, '3_job-posting_skills-extracted_df.pkl')\n",
    "jobs_df.to_pickle(savefile, compression='zip')"
   ]
  },
  {
   "cell_type": "code",
   "execution_count": null,
   "id": "35061ddc-7875-4f05-99df-b4b4c76e219b",
   "metadata": {},
   "outputs": [],
   "source": []
  }
 ],
 "metadata": {
  "kernelspec": {
   "display_name": "Python [conda env:py310-nlp]",
   "language": "python",
   "name": "conda-env-py310-nlp-py"
  },
  "language_info": {
   "codemirror_mode": {
    "name": "ipython",
    "version": 3
   },
   "file_extension": ".py",
   "mimetype": "text/x-python",
   "name": "python",
   "nbconvert_exporter": "python",
   "pygments_lexer": "ipython3",
   "version": "3.10.18"
  }
 },
 "nbformat": 4,
 "nbformat_minor": 5
}
