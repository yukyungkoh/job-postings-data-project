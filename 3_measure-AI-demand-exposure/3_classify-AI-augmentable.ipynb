{
 "cells": [
  {
   "cell_type": "markdown",
   "id": "2d481969-d308-4c28-901c-e9e12e4457fa",
   "metadata": {},
   "source": [
    "# 🏷️ Part 3.3 - Classify Activities as AI-Augmentable or Not\n",
    "\n",
    "**Author:** Yu Kyung Koh  \n",
    "**Last Updated:** July 21, 2025  \n",
    "\n",
    "---\n",
    "\n",
    "### 🎯 Objective\n",
    "*  Use GPT to label whether each standardized activity is AI-exposed.\n",
    "  \n",
    "### 🗂️ Outline\n",
    "* **Section 1:** Bring in the job posting data with standardized activity labels\n",
    "* **Section 2:** "
   ]
  },
  {
   "cell_type": "markdown",
   "id": "ab7a9da8-3805-4d79-8c9e-bd64e7de66a5",
   "metadata": {},
   "source": [
    "---\n",
    "## Section 1: Bring in the job posting data with standardized activity labels"
   ]
  },
  {
   "cell_type": "code",
   "execution_count": 5,
   "id": "3eb5699c-4e0c-4218-ad6b-ffdc00aafce8",
   "metadata": {},
   "outputs": [],
   "source": [
    "import pandas as pd\n",
    "import os\n",
    "import re\n",
    "import joblib\n",
    "from tqdm import tqdm\n",
    "from joblib import Parallel, delayed\n",
    "import math"
   ]
  },
  {
   "cell_type": "code",
   "execution_count": 7,
   "id": "312f300f-3c6a-47d4-9c06-4f2e9c7d3a96",
   "metadata": {},
   "outputs": [],
   "source": [
    "# --------------------------------------\n",
    "# STEP 1: Import data\n",
    "# --------------------------------------\n",
    "datadir = '../data/'\n",
    "jobposting_file = os.path.join(datadir, 'sample_job_postings_with_tasks-mapping.csv')\n",
    "\n",
    "posting_df = pd.read_csv(jobposting_file)"
   ]
  },
  {
   "cell_type": "code",
   "execution_count": 9,
   "id": "5abf5249-7c72-423b-a15e-0398fe1465b4",
   "metadata": {},
   "outputs": [
    {
     "data": {
      "text/html": [
       "<div>\n",
       "<style scoped>\n",
       "    .dataframe tbody tr th:only-of-type {\n",
       "        vertical-align: middle;\n",
       "    }\n",
       "\n",
       "    .dataframe tbody tr th {\n",
       "        vertical-align: top;\n",
       "    }\n",
       "\n",
       "    .dataframe thead th {\n",
       "        text-align: right;\n",
       "    }\n",
       "</style>\n",
       "<table border=\"1\" class=\"dataframe\">\n",
       "  <thead>\n",
       "    <tr style=\"text-align: right;\">\n",
       "      <th></th>\n",
       "      <th>task</th>\n",
       "      <th>job_posting_index</th>\n",
       "      <th>embedding</th>\n",
       "      <th>cluster_kmeans</th>\n",
       "      <th>standardized_activity</th>\n",
       "    </tr>\n",
       "  </thead>\n",
       "  <tbody>\n",
       "    <tr>\n",
       "      <th>0</th>\n",
       "      <td>identify and nurture leads to help expand the ...</td>\n",
       "      <td>0</td>\n",
       "      <td>[0.007788926362991333, 0.03043454885482788, 0....</td>\n",
       "      <td>3</td>\n",
       "      <td>Lead generation and relationship management in...</td>\n",
       "    </tr>\n",
       "    <tr>\n",
       "      <th>1</th>\n",
       "      <td>reach out to potential clients via email and p...</td>\n",
       "      <td>0</td>\n",
       "      <td>[-0.0873531699180603, 0.035773009061813354, 0....</td>\n",
       "      <td>192</td>\n",
       "      <td>Client Engagement and Outreach Activities</td>\n",
       "    </tr>\n",
       "    <tr>\n",
       "      <th>2</th>\n",
       "      <td>qualify leads</td>\n",
       "      <td>0</td>\n",
       "      <td>[0.0034667470026761293, -0.014017626643180847,...</td>\n",
       "      <td>126</td>\n",
       "      <td>Lead Generation and Qualification</td>\n",
       "    </tr>\n",
       "    <tr>\n",
       "      <th>3</th>\n",
       "      <td>schedule meetings for account executives</td>\n",
       "      <td>0</td>\n",
       "      <td>[0.0006416613468900323, -0.020684655755758286,...</td>\n",
       "      <td>71</td>\n",
       "      <td>Scheduling and setting up meetings for sales t...</td>\n",
       "    </tr>\n",
       "    <tr>\n",
       "      <th>4</th>\n",
       "      <td>analyze large datasets related to healthcare</td>\n",
       "      <td>1</td>\n",
       "      <td>[0.05672462657094002, 0.04137267917394638, -0....</td>\n",
       "      <td>103</td>\n",
       "      <td>Data collection, cleaning, and analysis, parti...</td>\n",
       "    </tr>\n",
       "  </tbody>\n",
       "</table>\n",
       "</div>"
      ],
      "text/plain": [
       "                                                task  job_posting_index  \\\n",
       "0  identify and nurture leads to help expand the ...                  0   \n",
       "1  reach out to potential clients via email and p...                  0   \n",
       "2                                      qualify leads                  0   \n",
       "3           schedule meetings for account executives                  0   \n",
       "4       analyze large datasets related to healthcare                  1   \n",
       "\n",
       "                                           embedding  cluster_kmeans  \\\n",
       "0  [0.007788926362991333, 0.03043454885482788, 0....               3   \n",
       "1  [-0.0873531699180603, 0.035773009061813354, 0....             192   \n",
       "2  [0.0034667470026761293, -0.014017626643180847,...             126   \n",
       "3  [0.0006416613468900323, -0.020684655755758286,...              71   \n",
       "4  [0.05672462657094002, 0.04137267917394638, -0....             103   \n",
       "\n",
       "                               standardized_activity  \n",
       "0  Lead generation and relationship management in...  \n",
       "1          Client Engagement and Outreach Activities  \n",
       "2                  Lead Generation and Qualification  \n",
       "3  Scheduling and setting up meetings for sales t...  \n",
       "4  Data collection, cleaning, and analysis, parti...  "
      ]
     },
     "execution_count": 9,
     "metadata": {},
     "output_type": "execute_result"
    }
   ],
   "source": [
    "posting_df.head()"
   ]
  },
  {
   "cell_type": "code",
   "execution_count": 11,
   "id": "1bc29c76-9606-4b67-8928-bdea5dd979de",
   "metadata": {},
   "outputs": [],
   "source": [
    "# --------------------------------------\n",
    "# STEP 2: Collapse to unique activity list\n",
    "# --------------------------------------\n",
    "activity_df = posting_df[[\"cluster_kmeans\", \"standardized_activity\"]].drop_duplicates().reset_index(drop=True)"
   ]
  },
  {
   "cell_type": "code",
   "execution_count": 15,
   "id": "6c341bf3-3abf-466a-a319-1ca23a84bcb9",
   "metadata": {},
   "outputs": [
    {
     "data": {
      "text/html": [
       "<div>\n",
       "<style scoped>\n",
       "    .dataframe tbody tr th:only-of-type {\n",
       "        vertical-align: middle;\n",
       "    }\n",
       "\n",
       "    .dataframe tbody tr th {\n",
       "        vertical-align: top;\n",
       "    }\n",
       "\n",
       "    .dataframe thead th {\n",
       "        text-align: right;\n",
       "    }\n",
       "</style>\n",
       "<table border=\"1\" class=\"dataframe\">\n",
       "  <thead>\n",
       "    <tr style=\"text-align: right;\">\n",
       "      <th></th>\n",
       "      <th>cluster_kmeans</th>\n",
       "      <th>standardized_activity</th>\n",
       "    </tr>\n",
       "  </thead>\n",
       "  <tbody>\n",
       "    <tr>\n",
       "      <th>0</th>\n",
       "      <td>0</td>\n",
       "      <td>Legal Research and Case Strategy Development</td>\n",
       "    </tr>\n",
       "    <tr>\n",
       "      <th>1</th>\n",
       "      <td>1</td>\n",
       "      <td>Team Collaboration and Communication Specialist</td>\n",
       "    </tr>\n",
       "    <tr>\n",
       "      <th>2</th>\n",
       "      <td>2</td>\n",
       "      <td>Collaboration with cross-functional teams for ...</td>\n",
       "    </tr>\n",
       "    <tr>\n",
       "      <th>3</th>\n",
       "      <td>3</td>\n",
       "      <td>Lead generation and relationship management in...</td>\n",
       "    </tr>\n",
       "    <tr>\n",
       "      <th>4</th>\n",
       "      <td>4</td>\n",
       "      <td>Facilitating professional development and trai...</td>\n",
       "    </tr>\n",
       "  </tbody>\n",
       "</table>\n",
       "</div>"
      ],
      "text/plain": [
       "   cluster_kmeans                              standardized_activity\n",
       "0               0       Legal Research and Case Strategy Development\n",
       "1               1    Team Collaboration and Communication Specialist\n",
       "2               2  Collaboration with cross-functional teams for ...\n",
       "3               3  Lead generation and relationship management in...\n",
       "4               4  Facilitating professional development and trai..."
      ]
     },
     "execution_count": 15,
     "metadata": {},
     "output_type": "execute_result"
    }
   ],
   "source": [
    "activity_df = activity_df.sort_values(by=\"cluster_kmeans\").reset_index(drop=True)\n",
    "activity_df.head()"
   ]
  },
  {
   "cell_type": "code",
   "execution_count": null,
   "id": "d90e2536-9def-455f-9624-206cca741762",
   "metadata": {},
   "outputs": [],
   "source": []
  }
 ],
 "metadata": {
  "kernelspec": {
   "display_name": "Python 3.10 (py310-nlp)",
   "language": "python",
   "name": "py310-nlp"
  },
  "language_info": {
   "codemirror_mode": {
    "name": "ipython",
    "version": 3
   },
   "file_extension": ".py",
   "mimetype": "text/x-python",
   "name": "python",
   "nbconvert_exporter": "python",
   "pygments_lexer": "ipython3",
   "version": "3.10.18"
  }
 },
 "nbformat": 4,
 "nbformat_minor": 5
}
