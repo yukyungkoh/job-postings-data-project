{
 "cells": [
  {
   "cell_type": "markdown",
   "id": "13bda14f-a8dc-40af-aacd-1996c75a41a4",
   "metadata": {},
   "source": [
    "# 🏷️ Part 3.1 - Extract job tasks using LLM\n",
    "\n",
    "**Author:** Yu Kyung Koh  \n",
    "**Last Updated:** July 13, 2025  \n",
    "\n",
    "---\n",
    "\n",
    "### 🎯 Objective\n",
    "\n",
    "* Extract job skills from job postings using LLM\n",
    "* Specifically, I use **Mistral** model via Ollama, which is free to use and fairly high-performing among the free versions. \n",
    "  \n",
    "### 🗂️ Outline\n",
    "* **Section 1:** Bring in the job posting data\n",
    "* **Section 2:** Extract skills using the Mistral model via Ollama\n"
   ]
  },
  {
   "cell_type": "markdown",
   "id": "9c9fa259-766f-49b6-bf3c-85e25327f085",
   "metadata": {},
   "source": [
    "---\n",
    "## SECTION 1: Bring in the job posting data "
   ]
  },
  {
   "cell_type": "code",
   "execution_count": 3,
   "id": "5f6eea5c-e9d7-4317-8914-91e6297ee1c4",
   "metadata": {},
   "outputs": [],
   "source": [
    "import pandas as pd\n",
    "import os\n",
    "import re\n",
    "import joblib\n",
    "from tqdm import tqdm\n",
    "from joblib import Parallel, delayed\n",
    "import math\n",
    "\n",
    "import nltk\n",
    "from nltk.corpus import stopwords\n",
    "#from rapidfuzz import process, fuzz"
   ]
  },
  {
   "cell_type": "code",
   "execution_count": 4,
   "id": "7f7f11ca-fe31-4c18-9942-7f18b9ce913f",
   "metadata": {},
   "outputs": [],
   "source": [
    "# --------------------------------------\n",
    "# STEP 1: Import data\n",
    "# --------------------------------------\n",
    "datadir = '../data/'\n",
    "jobposting_file = os.path.join(datadir, 'synthetic_job_postings_combined.csv')\n",
    "\n",
    "posting_df = pd.read_csv(jobposting_file)"
   ]
  },
  {
   "cell_type": "code",
   "execution_count": 5,
   "id": "a5c64634-2b5c-4951-8d5d-dc5176dc0ab7",
   "metadata": {},
   "outputs": [
    {
     "data": {
      "text/html": [
       "<div>\n",
       "<style scoped>\n",
       "    .dataframe tbody tr th:only-of-type {\n",
       "        vertical-align: middle;\n",
       "    }\n",
       "\n",
       "    .dataframe tbody tr th {\n",
       "        vertical-align: top;\n",
       "    }\n",
       "\n",
       "    .dataframe thead th {\n",
       "        text-align: right;\n",
       "    }\n",
       "</style>\n",
       "<table border=\"1\" class=\"dataframe\">\n",
       "  <thead>\n",
       "    <tr style=\"text-align: right;\">\n",
       "      <th></th>\n",
       "      <th>job_title</th>\n",
       "      <th>posting_text</th>\n",
       "      <th>sector</th>\n",
       "    </tr>\n",
       "  </thead>\n",
       "  <tbody>\n",
       "    <tr>\n",
       "      <th>0</th>\n",
       "      <td>Sales Development Representative</td>\n",
       "      <td>Join a dynamic team dedicated to driving innov...</td>\n",
       "      <td>sales</td>\n",
       "    </tr>\n",
       "    <tr>\n",
       "      <th>1</th>\n",
       "      <td>Healthcare Data Analyst</td>\n",
       "      <td>Join a dynamic team dedicated to improving pat...</td>\n",
       "      <td>healthcare</td>\n",
       "    </tr>\n",
       "    <tr>\n",
       "      <th>2</th>\n",
       "      <td>Data Insights Specialist</td>\n",
       "      <td>Join a dynamic team dedicated to unlocking the...</td>\n",
       "      <td>data science</td>\n",
       "    </tr>\n",
       "    <tr>\n",
       "      <th>3</th>\n",
       "      <td>Digital Content Strategist</td>\n",
       "      <td>At our innovative marketing agency, we believe...</td>\n",
       "      <td>marketing</td>\n",
       "    </tr>\n",
       "    <tr>\n",
       "      <th>4</th>\n",
       "      <td>Curriculum Developer</td>\n",
       "      <td>Join a dynamic team dedicated to transforming ...</td>\n",
       "      <td>education</td>\n",
       "    </tr>\n",
       "  </tbody>\n",
       "</table>\n",
       "</div>"
      ],
      "text/plain": [
       "                          job_title  \\\n",
       "0  Sales Development Representative   \n",
       "1           Healthcare Data Analyst   \n",
       "2          Data Insights Specialist   \n",
       "3        Digital Content Strategist   \n",
       "4              Curriculum Developer   \n",
       "\n",
       "                                        posting_text        sector  \n",
       "0  Join a dynamic team dedicated to driving innov...         sales  \n",
       "1  Join a dynamic team dedicated to improving pat...    healthcare  \n",
       "2  Join a dynamic team dedicated to unlocking the...  data science  \n",
       "3  At our innovative marketing agency, we believe...     marketing  \n",
       "4  Join a dynamic team dedicated to transforming ...     education  "
      ]
     },
     "execution_count": 5,
     "metadata": {},
     "output_type": "execute_result"
    }
   ],
   "source": [
    "posting_df.head()"
   ]
  },
  {
   "cell_type": "code",
   "execution_count": 6,
   "id": "c55f00fb-8b7a-4def-b01d-d13533868ab7",
   "metadata": {},
   "outputs": [
    {
     "data": {
      "text/plain": [
       "9463"
      ]
     },
     "execution_count": 6,
     "metadata": {},
     "output_type": "execute_result"
    }
   ],
   "source": [
    "# Check how many job postings are in this data \n",
    "len(posting_df)"
   ]
  },
  {
   "cell_type": "markdown",
   "id": "9543de4b-4baf-4cc4-a38d-e0eaf2b2d125",
   "metadata": {},
   "source": [
    "---\n",
    "## SECTION 2: Extract skills using the Mistral model via Ollama\n",
    "\n",
    "* Before running below, we need to type `ollama run mistral` in the terminal"
   ]
  },
  {
   "cell_type": "code",
   "execution_count": 8,
   "id": "3978ffb0-ff20-47e3-95dd-6623cb6039eb",
   "metadata": {},
   "outputs": [
    {
     "name": "stderr",
     "output_type": "stream",
     "text": [
      "100%|█████████████████████████████████████| 2000/2000 [4:47:10<00:00,  8.62s/it]\n"
     ]
    }
   ],
   "source": [
    "# --------------------------------------\n",
    "# STEP 1: Extract skills using the Mistral model\n",
    "# --------------------------------------\n",
    "from ollama import chat\n",
    "\n",
    "## Initialize list for storing results\n",
    "extracted_tasks_mistral = []\n",
    "\n",
    "## To check how tasks are extracted, first limit to the first N number of job postings\n",
    "#sample_posting_df = posting_df.head(10).copy()\n",
    "\n",
    "## Now, create a sample_posting_df that contains (i) the first 1,000 job postings AND (ii) 1,000 postings starting at index 5,000 \n",
    "    ## => This is because the first half and the second half of posting_df are systematically different (i.e. different generation process)\n",
    "first_sample = posting_df.iloc[:1000]\n",
    "second_sample = posting_df.iloc[5000:6000]\n",
    "sample_posting_df = pd.concat([first_sample, second_sample], ignore_index=True)\n",
    "\n",
    "## Loop through job postings in existing results_df\n",
    "for desc in tqdm(sample_posting_df[\"posting_text\"]):\n",
    "    prompt = f\"\"\"You are given a job posting. Your task is to extract only the specific **job tasks** or **responsibilities** \n",
    "                    — that is, actions the person is expected to perform as part of the job.\n",
    "\n",
    "                ❌ DO NOT include:\n",
    "                - Skills, tools, software (e.g., \"Familiarity with Salesforce\")\n",
    "                - Qualifications, education, or experience (e.g., \"1 year of experience\")\n",
    "                - Personality traits (e.g., \"Strong communication skills\")\n",
    "                - Work conditions, benefits, or preferences\n",
    "                \n",
    "                ✅ DO include only actual job **tasks** — specific actions or responsibilities the person will perform.\n",
    "                \n",
    "                Return a list of distinct, clear bullet points.\n",
    "                \n",
    "                Job posting:\n",
    "                \\\"\\\"\\\"{desc}\\\"\\\"\\\"\n",
    "                \"\"\"\n",
    "    response = chat(model='mistral', messages=[\n",
    "        {'role': 'user', 'content': prompt}\n",
    "    ])\n",
    "    \n",
    "    extracted = response['message']['content']\n",
    "    extracted_tasks_mistral.append(extracted)\n",
    "\n",
    "### Add new column to results_df\n",
    "sample_posting_df[\"extracted_tasks_mistral\"] = extracted_tasks_mistral"
   ]
  },
  {
   "cell_type": "code",
   "execution_count": 9,
   "id": "6049d818-ba14-4077-aa7c-97a29e967673",
   "metadata": {},
   "outputs": [
    {
     "data": {
      "text/html": [
       "<div>\n",
       "<style scoped>\n",
       "    .dataframe tbody tr th:only-of-type {\n",
       "        vertical-align: middle;\n",
       "    }\n",
       "\n",
       "    .dataframe tbody tr th {\n",
       "        vertical-align: top;\n",
       "    }\n",
       "\n",
       "    .dataframe thead th {\n",
       "        text-align: right;\n",
       "    }\n",
       "</style>\n",
       "<table border=\"1\" class=\"dataframe\">\n",
       "  <thead>\n",
       "    <tr style=\"text-align: right;\">\n",
       "      <th></th>\n",
       "      <th>job_title</th>\n",
       "      <th>posting_text</th>\n",
       "      <th>sector</th>\n",
       "      <th>extracted_tasks_mistral</th>\n",
       "    </tr>\n",
       "  </thead>\n",
       "  <tbody>\n",
       "    <tr>\n",
       "      <th>0</th>\n",
       "      <td>Sales Development Representative</td>\n",
       "      <td>Join a dynamic team dedicated to driving innov...</td>\n",
       "      <td>sales</td>\n",
       "      <td>- Identify and nurture leads to help expand t...</td>\n",
       "    </tr>\n",
       "    <tr>\n",
       "      <th>1</th>\n",
       "      <td>Healthcare Data Analyst</td>\n",
       "      <td>Join a dynamic team dedicated to improving pat...</td>\n",
       "      <td>healthcare</td>\n",
       "      <td>- Analyze large datasets related to healthcar...</td>\n",
       "    </tr>\n",
       "    <tr>\n",
       "      <th>2</th>\n",
       "      <td>Data Insights Specialist</td>\n",
       "      <td>Join a dynamic team dedicated to unlocking the...</td>\n",
       "      <td>data science</td>\n",
       "      <td>- Analyze large datasets to extract actionabl...</td>\n",
       "    </tr>\n",
       "    <tr>\n",
       "      <th>3</th>\n",
       "      <td>Digital Content Strategist</td>\n",
       "      <td>At our innovative marketing agency, we believe...</td>\n",
       "      <td>marketing</td>\n",
       "      <td>- Research industry trends\\n- Craft compellin...</td>\n",
       "    </tr>\n",
       "    <tr>\n",
       "      <th>4</th>\n",
       "      <td>Curriculum Developer</td>\n",
       "      <td>Join a dynamic team dedicated to transforming ...</td>\n",
       "      <td>education</td>\n",
       "      <td>- Design innovative learning materials and as...</td>\n",
       "    </tr>\n",
       "  </tbody>\n",
       "</table>\n",
       "</div>"
      ],
      "text/plain": [
       "                          job_title  \\\n",
       "0  Sales Development Representative   \n",
       "1           Healthcare Data Analyst   \n",
       "2          Data Insights Specialist   \n",
       "3        Digital Content Strategist   \n",
       "4              Curriculum Developer   \n",
       "\n",
       "                                        posting_text        sector  \\\n",
       "0  Join a dynamic team dedicated to driving innov...         sales   \n",
       "1  Join a dynamic team dedicated to improving pat...    healthcare   \n",
       "2  Join a dynamic team dedicated to unlocking the...  data science   \n",
       "3  At our innovative marketing agency, we believe...     marketing   \n",
       "4  Join a dynamic team dedicated to transforming ...     education   \n",
       "\n",
       "                             extracted_tasks_mistral  \n",
       "0   - Identify and nurture leads to help expand t...  \n",
       "1   - Analyze large datasets related to healthcar...  \n",
       "2   - Analyze large datasets to extract actionabl...  \n",
       "3   - Research industry trends\\n- Craft compellin...  \n",
       "4   - Design innovative learning materials and as...  "
      ]
     },
     "execution_count": 9,
     "metadata": {},
     "output_type": "execute_result"
    }
   ],
   "source": [
    "# --------------------------------------\n",
    "# STEP 2: Examine extracted skills\n",
    "# --------------------------------------\n",
    "sample_posting_df.head()"
   ]
  },
  {
   "cell_type": "code",
   "execution_count": 10,
   "id": "e753c4ba-4532-4af5-af1d-073eb44d57f8",
   "metadata": {},
   "outputs": [
    {
     "data": {
      "text/plain": [
       "\"Join a dynamic team dedicated to driving innovative sales solutions in a fast-paced environment. As a Sales Development Representative, you will play a crucial role in identifying and nurturing leads to help expand our customer base. Your day-to-day will involve reaching out to potential clients via email and phone, qualifying leads, and scheduling meetings for our Account Executives. \\n\\nThe ideal candidate will have a strong desire to grow in the sales field, with at least 1 year of experience in a similar role or a related internship. Excellent communication skills and a proactive attitude are a must. Familiarity with CRM tools like Salesforce is preferred, but we value enthusiasm and a willingness to learn above all. \\n\\nThis position is remote, allowing you the flexibility to work from anywhere in the U.S. We offer a competitive salary range of $45,000 to $55,000, along with performance-based bonuses and additional benefits. If you're ready to kickstart your career in sales and make a real impact, we want to hear from you!\""
      ]
     },
     "execution_count": 10,
     "metadata": {},
     "output_type": "execute_result"
    }
   ],
   "source": [
    "sample_posting_df.iloc[0][\"posting_text\"]"
   ]
  },
  {
   "cell_type": "code",
   "execution_count": 11,
   "id": "2df8c05b-4c3c-4fd2-b03f-029e4743abbf",
   "metadata": {},
   "outputs": [
    {
     "data": {
      "text/plain": [
       "' - Identify and nurture leads to help expand the customer base\\n- Reach out to potential clients via email and phone\\n- Qualify leads\\n- Schedule meetings for Account Executives'"
      ]
     },
     "execution_count": 11,
     "metadata": {},
     "output_type": "execute_result"
    }
   ],
   "source": [
    "sample_posting_df.iloc[0][\"extracted_tasks_mistral\"]"
   ]
  },
  {
   "cell_type": "code",
   "execution_count": 12,
   "id": "0cdce805-6a9f-4065-972b-85169d152abb",
   "metadata": {},
   "outputs": [],
   "source": [
    "# --------------------------------------\n",
    "# STEP 3: Save the data with extracted tasks\n",
    "# --------------------------------------\n",
    "sample_posting_df.to_csv(\"../data/sample_job_postings_with_tasks.csv\", index=False)"
   ]
  }
 ],
 "metadata": {
  "kernelspec": {
   "display_name": "Python [conda env:py310-nlp]",
   "language": "python",
   "name": "conda-env-py310-nlp-py"
  },
  "language_info": {
   "codemirror_mode": {
    "name": "ipython",
    "version": 3
   },
   "file_extension": ".py",
   "mimetype": "text/x-python",
   "name": "python",
   "nbconvert_exporter": "python",
   "pygments_lexer": "ipython3",
   "version": "3.10.18"
  }
 },
 "nbformat": 4,
 "nbformat_minor": 5
}
